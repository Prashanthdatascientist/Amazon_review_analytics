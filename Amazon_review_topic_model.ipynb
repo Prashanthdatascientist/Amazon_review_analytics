{
 "cells": [
  {
   "cell_type": "code",
   "execution_count": 5,
   "metadata": {
    "colab": {
     "base_uri": "https://localhost:8080/",
     "height": 71
    },
    "colab_type": "code",
    "id": "z3LQhDUitB_I",
    "outputId": "be88b89d-e4fe-4371-fb8b-c9c030169fe9"
   },
   "outputs": [
    {
     "name": "stdout",
     "output_type": "stream",
     "text": [
      "[nltk_data] Downloading package stopwords to\n",
      "[nltk_data]     C:\\Users\\praveen\\AppData\\Roaming\\nltk_data...\n",
      "[nltk_data]   Package stopwords is already up-to-date!\n"
     ]
    }
   ],
   "source": [
    "import nltk\n",
    "from nltk import FreqDist\n",
    "nltk.download('stopwords')\n",
    "import warnings\n",
    "warnings.filterwarnings(\"ignore\")\n",
    "from nltk.corpus import stopwords\n",
    "from pattern.en import tag\n",
    "from nltk.corpus import wordnet as wn\n",
    "from wordcloud import WordCloud\n",
    "import en_core_web_sm\n",
    "import pandas as pd\n",
    "pd.set_option(\"display.max_colwidth\", 200)\n",
    "import numpy as np\n",
    "import json\n",
    "import re\n",
    "import gzip\n",
    "import spacy\n",
    "import gensim\n",
    "from gensim import corpora\n",
    "import pyLDAvis\n",
    "import pyLDAvis.gensim\n",
    "import matplotlib.pyplot as plt\n",
    "import seaborn as sns\n",
    "%matplotlib inline"
   ]
  },
  {
   "cell_type": "code",
   "execution_count": 6,
   "metadata": {
    "colab": {},
    "colab_type": "code",
    "id": "k-_gLizownvx"
   },
   "outputs": [],
   "source": [
    "#Unzip and extract dataset\n",
    "def parse(path):\n",
    "  g = gzip.open(path, 'rb')\n",
    "  for l in g:\n",
    "    yield eval(l)\n",
    "    \n",
    "def getDF(path):\n",
    "  i = 0\n",
    "  df = {}\n",
    "  for d in parse(path):\n",
    "    df[i] = d\n",
    "    i += 1\n",
    "  return pd.DataFrame.from_dict(df, orient='index')"
   ]
  },
  {
   "cell_type": "code",
   "execution_count": 7,
   "metadata": {
    "colab": {
     "base_uri": "https://localhost:8080/",
     "height": 35
    },
    "colab_type": "code",
    "id": "FPle7KMpCVuc",
    "outputId": "0e836477-df77-4f96-8df5-3319afddfb50"
   },
   "outputs": [
    {
     "data": {
      "text/plain": [
       "(278677, 9)"
      ]
     },
     "execution_count": 7,
     "metadata": {},
     "output_type": "execute_result"
    }
   ],
   "source": [
    "raw_df = getDF('reviews_Clothing_Shoes_and_Jewelry_5.json.gz')\n",
    "raw_df.shape"
   ]
  },
  {
   "cell_type": "code",
   "execution_count": 36,
   "metadata": {},
   "outputs": [
    {
     "data": {
      "text/html": [
       "<div>\n",
       "<style scoped>\n",
       "    .dataframe tbody tr th:only-of-type {\n",
       "        vertical-align: middle;\n",
       "    }\n",
       "\n",
       "    .dataframe tbody tr th {\n",
       "        vertical-align: top;\n",
       "    }\n",
       "\n",
       "    .dataframe thead th {\n",
       "        text-align: right;\n",
       "    }\n",
       "</style>\n",
       "<table border=\"1\" class=\"dataframe\">\n",
       "  <thead>\n",
       "    <tr style=\"text-align: right;\">\n",
       "      <th></th>\n",
       "      <th>reviewerID</th>\n",
       "      <th>asin</th>\n",
       "      <th>reviewerName</th>\n",
       "      <th>helpful</th>\n",
       "      <th>reviewText</th>\n",
       "      <th>overall</th>\n",
       "      <th>summary</th>\n",
       "      <th>unixReviewTime</th>\n",
       "      <th>reviewTime</th>\n",
       "    </tr>\n",
       "  </thead>\n",
       "  <tbody>\n",
       "    <tr>\n",
       "      <th>340</th>\n",
       "      <td>A2S7YBFPZX1IGQ</td>\n",
       "      <td>B000072UMJ</td>\n",
       "      <td>alysha davis</td>\n",
       "      <td>[0, 0]</td>\n",
       "      <td>fits true to size i can wear this with anything since it being a darker shade of purple wont stand out as much but still has that color its great just what i was looking for totally would recommen...</td>\n",
       "      <td>5.0</td>\n",
       "      <td>great shoes!</td>\n",
       "      <td>1362268800</td>\n",
       "      <td>03 3, 2013</td>\n",
       "    </tr>\n",
       "    <tr>\n",
       "      <th>341</th>\n",
       "      <td>AWF47TNS4EM6A</td>\n",
       "      <td>B000072UMJ</td>\n",
       "      <td>amazon_mama0312</td>\n",
       "      <td>[0, 0]</td>\n",
       "      <td>I got these as a gift for my little sister. She had been wanting a pair of these for a really long time. I was so happy to find them here on amazon for the cheapest price ;) She absolutely LOVES t...</td>\n",
       "      <td>5.0</td>\n",
       "      <td>She loved them!!!</td>\n",
       "      <td>1398729600</td>\n",
       "      <td>04 29, 2014</td>\n",
       "    </tr>\n",
       "    <tr>\n",
       "      <th>342</th>\n",
       "      <td>A1UMN556PVE5ZJ</td>\n",
       "      <td>B000072UMJ</td>\n",
       "      <td>Angie</td>\n",
       "      <td>[0, 0]</td>\n",
       "      <td>My daughter loves converse so the fact that it fit her witout us having to return or try on in the store was a plus - it arrived on time</td>\n",
       "      <td>5.0</td>\n",
       "      <td>Fit her well</td>\n",
       "      <td>1361232000</td>\n",
       "      <td>02 19, 2013</td>\n",
       "    </tr>\n",
       "  </tbody>\n",
       "</table>\n",
       "</div>"
      ],
      "text/plain": [
       "         reviewerID        asin     reviewerName helpful  \\\n",
       "340  A2S7YBFPZX1IGQ  B000072UMJ     alysha davis  [0, 0]   \n",
       "341   AWF47TNS4EM6A  B000072UMJ  amazon_mama0312  [0, 0]   \n",
       "342  A1UMN556PVE5ZJ  B000072UMJ            Angie  [0, 0]   \n",
       "\n",
       "                                                                                                                                                                                                  reviewText  \\\n",
       "340  fits true to size i can wear this with anything since it being a darker shade of purple wont stand out as much but still has that color its great just what i was looking for totally would recommen...   \n",
       "341  I got these as a gift for my little sister. She had been wanting a pair of these for a really long time. I was so happy to find them here on amazon for the cheapest price ;) She absolutely LOVES t...   \n",
       "342                                                                 My daughter loves converse so the fact that it fit her witout us having to return or try on in the store was a plus - it arrived on time   \n",
       "\n",
       "     overall            summary  unixReviewTime   reviewTime  \n",
       "340      5.0       great shoes!      1362268800   03 3, 2013  \n",
       "341      5.0  She loved them!!!      1398729600  04 29, 2014  \n",
       "342      5.0       Fit her well      1361232000  02 19, 2013  "
      ]
     },
     "execution_count": 36,
     "metadata": {},
     "output_type": "execute_result"
    }
   ],
   "source": [
    "#Filtering to reduce local machine load\n",
    "pro_filt = ['B005LERHD8','B005GYGD7O','B008WYDP1C','B0058XIMMM','B00CKGB85I','B007RD9DS8','B002RADHJC',\n",
    "            'B000T9VK56','B0000C321X','B007WNWEFC','B0001ZNZJM','B007WA3K4Y','B007NLX16O','B00012O12A',\n",
    "            'B0008EOEPK','B0007YR8WW','B0067GUM2W','B000O32MLI','B001IB70JY','B004Q7AB4I','B006PGGJOE',\n",
    "            'B003NX87U6','B002PHLVJA','B008KK0ZJ8','B0083S18LQ','B005UVM368','B0007YVP1W','B00DNQIIE8',\n",
    "            'B000KEG4V0','B004YM2FV2','B008NCYALM','B003XDVUEQ','B0007CKMA4','B008X0EW44','B00DMWQOYY',\n",
    "            'B0078FXHNM','B000XDDERK','B002KMI7OC','B000J6ZYL0','B001Q5QLP6','B0074T7TY0','B00550PLV8',\n",
    "            'B003DNR2HK','B007WAU1VY','B0008172S4','B00CIBCJ62','B0068VM5T4','B000FBO0DM','B000QW6LE6',\n",
    "            'B000GOVRDE','B005CSNTJY','B0002TOZ1E','B004R1II48','B000DZUGOM','B00D1MR8YU','B00CN47GXA',\n",
    "            'B001HEF6W0','B000PH25X8','B0013KDS96','B0000ANHST','B00DQYNS3I','B008RUOCJU','B007WAEBPQ',\n",
    "            'B0053XF2U2','B0051U15E4','B001AOZVSQ','B0009F0Z38','B0026P45QW','B0007YXTOS','B0006LMBJ6',\n",
    "            'B00BNB3A0W','B000EIJG0I','B000072UMJ','B000KKTPD8','B000FH4JJQ','B0076R6KY0','B0012QM8IS',\n",
    "            'B0081IZ3UA','B0031U0PO2','B001188FZC','B00DMWQK0W','B004Z1CZDK','B009DNWFD0','B004M6XUI2',\n",
    "            'B009ZDEXQK','B006SCSOOS','B0051D7GF8','B003DNR4XC','B002APTA9K','B0007QCOTM','B0009B3IN6',\n",
    "            'B003YBHF82','B0012M0XSE','B000MXIMHI','B000KD44G8','B007DLVLAW','B0011D2FL2','B000KGOHLM',\n",
    "            'B000EX15NY','B0019MPRJW']\n",
    "df = raw_df[raw_df.asin.isin(pro_filt)]\n",
    "df.head(3)"
   ]
  },
  {
   "cell_type": "code",
   "execution_count": 11,
   "metadata": {
    "scrolled": true
   },
   "outputs": [
    {
     "data": {
      "text/html": [
       "<div>\n",
       "<style scoped>\n",
       "    .dataframe tbody tr th:only-of-type {\n",
       "        vertical-align: middle;\n",
       "    }\n",
       "\n",
       "    .dataframe tbody tr th {\n",
       "        vertical-align: top;\n",
       "    }\n",
       "\n",
       "    .dataframe thead th {\n",
       "        text-align: right;\n",
       "    }\n",
       "</style>\n",
       "<table border=\"1\" class=\"dataframe\">\n",
       "  <thead>\n",
       "    <tr style=\"text-align: right;\">\n",
       "      <th></th>\n",
       "      <th>reviewerID</th>\n",
       "      <th>asin</th>\n",
       "      <th>reviewerName</th>\n",
       "      <th>helpful</th>\n",
       "      <th>reviewText</th>\n",
       "      <th>overall</th>\n",
       "      <th>summary</th>\n",
       "      <th>unixReviewTime</th>\n",
       "      <th>reviewTime</th>\n",
       "    </tr>\n",
       "  </thead>\n",
       "  <tbody>\n",
       "    <tr>\n",
       "      <th>262614</th>\n",
       "      <td>A17VF80XLCCZTN</td>\n",
       "      <td>B00DM0587K</td>\n",
       "      <td>A. Lane \"Baking Freak\"</td>\n",
       "      <td>[0, 0]</td>\n",
       "      <td>Not incredibly comfortable, but for the under $2 tag, I'm sold.  You can adjust it a little because it's metal-ish.  A bit heavy but hey, what do you expect?</td>\n",
       "      <td>4.0</td>\n",
       "      <td>Cheap but cute</td>\n",
       "      <td>1382313600</td>\n",
       "      <td>10 21, 2013</td>\n",
       "    </tr>\n",
       "    <tr>\n",
       "      <th>262615</th>\n",
       "      <td>AV6YZONDF9CYT</td>\n",
       "      <td>B00DM0587K</td>\n",
       "      <td>Allie_says_so</td>\n",
       "      <td>[0, 0]</td>\n",
       "      <td>Got this as a Halloween gift for a girl who is into dragons and such. She enjoyed it. So I recommend.</td>\n",
       "      <td>5.0</td>\n",
       "      <td>Cool piece</td>\n",
       "      <td>1387497600</td>\n",
       "      <td>12 20, 2013</td>\n",
       "    </tr>\n",
       "    <tr>\n",
       "      <th>262616</th>\n",
       "      <td>A1K9AO4B6CREY</td>\n",
       "      <td>B00DM0587K</td>\n",
       "      <td>Amazon Customer</td>\n",
       "      <td>[0, 0]</td>\n",
       "      <td>It can't support its own weight on your ear. They quality is worse than the picture portrays, but it was suuuuuuper cheap.</td>\n",
       "      <td>1.0</td>\n",
       "      <td>For Very Small Ears</td>\n",
       "      <td>1382313600</td>\n",
       "      <td>10 21, 2013</td>\n",
       "    </tr>\n",
       "  </tbody>\n",
       "</table>\n",
       "</div>"
      ],
      "text/plain": [
       "            reviewerID        asin            reviewerName helpful  \\\n",
       "262614  A17VF80XLCCZTN  B00DM0587K  A. Lane \"Baking Freak\"  [0, 0]   \n",
       "262615   AV6YZONDF9CYT  B00DM0587K           Allie_says_so  [0, 0]   \n",
       "262616   A1K9AO4B6CREY  B00DM0587K         Amazon Customer  [0, 0]   \n",
       "\n",
       "                                                                                                                                                           reviewText  \\\n",
       "262614  Not incredibly comfortable, but for the under $2 tag, I'm sold.  You can adjust it a little because it's metal-ish.  A bit heavy but hey, what do you expect?   \n",
       "262615                                                          Got this as a Halloween gift for a girl who is into dragons and such. She enjoyed it. So I recommend.   \n",
       "262616                                     It can't support its own weight on your ear. They quality is worse than the picture portrays, but it was suuuuuuper cheap.   \n",
       "\n",
       "        overall              summary  unixReviewTime   reviewTime  \n",
       "262614      4.0       Cheap but cute      1382313600  10 21, 2013  \n",
       "262615      5.0           Cool piece      1387497600  12 20, 2013  \n",
       "262616      1.0  For Very Small Ears      1382313600  10 21, 2013  "
      ]
     },
     "execution_count": 11,
     "metadata": {},
     "output_type": "execute_result"
    }
   ],
   "source": [
    "#product with negative review\n",
    "pro_filt_neg = ['B00DM0587K']\n",
    "df = raw_df[raw_df.asin.isin(pro_filt_neg)]\n",
    "df.head(3)"
   ]
  },
  {
   "cell_type": "code",
   "execution_count": 38,
   "metadata": {},
   "outputs": [
    {
     "data": {
      "text/plain": [
       "262614    Not incredibly comfortable tag sold You adjust little metal ish bit heavy hey expect\n",
       "262615                                   Got Halloween gift girl dragons She enjoyed recommend\n",
       "262616                 support weight ear They quality worse picture portrays suuuuuuper cheap\n",
       "Name: reviewText, dtype: object"
      ]
     },
     "execution_count": 38,
     "metadata": {},
     "output_type": "execute_result"
    }
   ],
   "source": [
    "df['reviewText'].head(3)"
   ]
  },
  {
   "cell_type": "code",
   "execution_count": 6,
   "metadata": {},
   "outputs": [
    {
     "data": {
      "text/plain": [
       "(50, 9)"
      ]
     },
     "execution_count": 6,
     "metadata": {},
     "output_type": "execute_result"
    }
   ],
   "source": [
    "df.shape"
   ]
  },
  {
   "cell_type": "code",
   "execution_count": 65,
   "metadata": {},
   "outputs": [],
   "source": [
    "# #Code Testing data to be hard coded\n",
    "\n",
    "# row_data = []\n",
    "# row_data.append([\n",
    "#                     \"This is a great tutu and at a really great price. It doesn't look cheap at all. I'm so glad I looked on Amazon and found such an affordable tutu that isn't made poorly. A++\",\n",
    "#                     \"Great tutu-  not cheaply made\"])\n",
    "\n",
    "# row_data.append([\n",
    "#                     \"Great tutu for a great price. It isn't a &#34;full&#34; or high quality skirt, but it is perfect for my daughter to wear over leggings for her little outfits.\",\n",
    "#                     \"Great value\"])\n",
    "# row_data.append(\n",
    "#     [\"My daughter liked this, and it with her costume, but she would have liked it to be a bit fuller.\", 'Good'])\n",
    "# row_data.append([\n",
    "#                     \"For what I paid for two tutus is unbeatable anywhere!  I ordered a pink and turquios and they are vibrant and beautiful! The tutu is very full! Princess style! Not cheaply made! Not cheap materia! Obviously someone made these with love and care! I paid less than 7 bucks for a tutu I and I feel proud of my self for researching to the point of finding gold!Recommend 2-6 years!My daughter is two ! Wears size 4t and this skirt ( one size ) fit perfect and will probaly be able to accommodate her quickly growing waist for some time!\",\n",
    "#                     \"WOW !! ..is al345l I have to say!\"])\n",
    "# row_data.append([\n",
    "#                     \"Wonder my niece wears it every single day, yellow is her favorite color right now an this cute little tutu made he da. It is well built and we hope she gets lots of wear out of it.\",\n",
    "#                     \"Wonderful and great shipping.\"])\n",
    "# row_data.append([\n",
    "#                     \"My daughter has worn this skirt almost every day since she received it and it's even been through the washer along with the other clothes.  It's amazing quality!  She fits a 4T and it's just above her knee, and has a little bit of growing room, although I'm not so sure as much as others are saying.  But considering how often she wears it, I'm not worried! ;)\",\n",
    "#                     'Excellent quality!'])\n",
    "\n",
    "# df = pd.DataFrame(row_data, columns=['reviewText','summary'])\n",
    "\n",
    "# # #preview dataframe\n",
    "# # headers = review_df.dtypes.index\n",
    "# # print(headers)\n",
    "# # sample = review_df.head()\n",
    "# # print(sample)"
   ]
  },
  {
   "cell_type": "code",
   "execution_count": 66,
   "metadata": {
    "colab": {
     "base_uri": "https://localhost:8080/",
     "height": 459
    },
    "colab_type": "code",
    "id": "17zMP_rlEnCo",
    "outputId": "7f4dcd45-133b-49a5-b5fe-7f85e8d741b6"
   },
   "outputs": [],
   "source": [
    "# df.head()"
   ]
  },
  {
   "cell_type": "code",
   "execution_count": 12,
   "metadata": {
    "colab": {},
    "colab_type": "code",
    "id": "jjLyeSxg41OQ"
   },
   "outputs": [],
   "source": [
    "#Word Frequency bar chart\n",
    "def freq_words(x, terms = 30):\n",
    "  all_words = ' '.join([text for text in x])\n",
    "  all_words = all_words.split()\n",
    "  \n",
    "  fdist = FreqDist(all_words)\n",
    "  words_df = pd.DataFrame({'word':list(fdist.keys()), 'count':list(fdist.values())})\n",
    "  \n",
    "  # selecting top 20 most frequent words\n",
    "  d = words_df.nlargest(columns=\"count\", n = terms) \n",
    "  plt.figure(figsize=(20,5))\n",
    "  ax = sns.barplot(data=d, x= \"word\", y = \"count\")\n",
    "  ax.set(ylabel = 'Count')\n",
    "  plt.show()"
   ]
  },
  {
   "cell_type": "code",
   "execution_count": 8,
   "metadata": {
    "colab": {
     "base_uri": "https://localhost:8080/",
     "height": 426
    },
    "colab_type": "code",
    "id": "pennLlyl5Whp",
    "outputId": "057ab4de-0c87-4d9a-edf8-7a4bbc7e8949"
   },
   "outputs": [
    {
     "data": {
      "image/png": "[encoded data removed]",
      "text/plain": [
       "<Figure size 1440x360 with 1 Axes>"
      ]
     },
     "metadata": {
      "needs_background": "light"
     },
     "output_type": "display_data"
    }
   ],
   "source": [
    "freq_words(df['reviewText'])"
   ]
  },
  {
   "cell_type": "code",
   "execution_count": 13,
   "metadata": {
    "colab": {},
    "colab_type": "code",
    "id": "jUc1_gTcLfYt"
   },
   "outputs": [
    {
     "name": "stdout",
     "output_type": "stream",
     "text": [
      "        review_stopwords  summary_stopwords\n",
      "262614                15                  1\n",
      "262615                11                  0\n",
      "262616                11                  0\n",
      "262617                10                  1\n",
      "262618                20                  0\n"
     ]
    }
   ],
   "source": [
    "# replace \"n't\" with \" not\"\n",
    "df['reviewText'] = df['reviewText'].str.replace(\"n\\'t\", \" not\")\n",
    "\n",
    "# remove unwanted characters, numbers and symbols\n",
    "df['reviewText'] = df['reviewText'].str.replace(\"[^a-zA-Z#]\", \" \")\n",
    "\n",
    "#number of stop words\n",
    "stop = stopwords.words('english')\n",
    "custom_stop = ['the','they','this']\n",
    "for x in custom_stop:\n",
    "    stop.append(x)\n",
    "df['review_stopwords'] = df['reviewText'].apply(lambda x: len([x for x in x.split() if x in stop]))\n",
    "df['summary_stopwords'] = df['summary'].apply(lambda x: len([x for x in x.split() if x in stop]))\n",
    "print(df[['review_stopwords','summary_stopwords']].head(5))\n",
    "\n",
    "#remove Stop words\n",
    "df['reviewText'] = df['reviewText'].apply(lambda x: \" \".join(x for x in x.split() if x not in stop))\n",
    "df['summary'] = df['summary'].apply(lambda x: \" \".join(x for x in x.split() if x not in stop))\n",
    "\n",
    "# remove short words (length < 3)\n",
    "df['reviewText'] = df['reviewText'].apply(lambda x: ' '.join([w for w in x.split() if len(w)>2]))\n",
    "\n",
    "#convert all char to lower case\n",
    "reviews = df['reviewText'].apply(lambda x: \" \".join(x.lower() for x in x.split()))\n",
    "df['summary'] = df['summary'].apply(lambda x: \" \".join(x.lower() for x in x.split()))\n"
   ]
  },
  {
   "cell_type": "code",
   "execution_count": null,
   "metadata": {},
   "outputs": [],
   "source": [
    "#print reviews after text cleaning\n",
    "df['clean_review'] = reviews"
   ]
  },
  {
   "cell_type": "code",
   "execution_count": 37,
   "metadata": {},
   "outputs": [
    {
     "data": {
      "text/html": [
       "<div>\n",
       "<style scoped>\n",
       "    .dataframe tbody tr th:only-of-type {\n",
       "        vertical-align: middle;\n",
       "    }\n",
       "\n",
       "    .dataframe tbody tr th {\n",
       "        vertical-align: top;\n",
       "    }\n",
       "\n",
       "    .dataframe thead th {\n",
       "        text-align: right;\n",
       "    }\n",
       "</style>\n",
       "<table border=\"1\" class=\"dataframe\">\n",
       "  <thead>\n",
       "    <tr style=\"text-align: right;\">\n",
       "      <th></th>\n",
       "      <th>reviewText</th>\n",
       "      <th>clean_review</th>\n",
       "    </tr>\n",
       "  </thead>\n",
       "  <tbody>\n",
       "    <tr>\n",
       "      <th>262614</th>\n",
       "      <td>Not incredibly comfortable tag sold You adjust little metal ish bit heavy hey expect</td>\n",
       "      <td>not incredibly comfortable tag sold you adjust little metal ish bit heavy hey expect</td>\n",
       "    </tr>\n",
       "    <tr>\n",
       "      <th>262615</th>\n",
       "      <td>Got Halloween gift girl dragons She enjoyed recommend</td>\n",
       "      <td>got halloween gift girl dragons she enjoyed recommend</td>\n",
       "    </tr>\n",
       "    <tr>\n",
       "      <th>262616</th>\n",
       "      <td>support weight ear They quality worse picture portrays suuuuuuper cheap</td>\n",
       "      <td>support weight ear they quality worse picture portrays suuuuuuper cheap</td>\n",
       "    </tr>\n",
       "    <tr>\n",
       "      <th>262617</th>\n",
       "      <td>This poorly made fell apart daughter even able wear one time She really disappointed</td>\n",
       "      <td>this poorly made fell apart daughter even able wear one time she really disappointed</td>\n",
       "    </tr>\n",
       "    <tr>\n",
       "      <th>262618</th>\n",
       "      <td>This dragon earring fits better others since actually put tail bottom earring hole would recommend one instead others hooks top ear latches bottom earring hole</td>\n",
       "      <td>this dragon earring fits better others since actually put tail bottom earring hole would recommend one instead others hooks top ear latches bottom earring hole</td>\n",
       "    </tr>\n",
       "    <tr>\n",
       "      <th>262619</th>\n",
       "      <td>This best earring ever owned lost back threw away</td>\n",
       "      <td>this best earring ever owned lost back threw away</td>\n",
       "    </tr>\n",
       "    <tr>\n",
       "      <th>262620</th>\n",
       "      <td>Arrived earring stud bent remove add chain Good price refined piece</td>\n",
       "      <td>arrived earring stud bent remove add chain good price refined piece</td>\n",
       "    </tr>\n",
       "    <tr>\n",
       "      <th>262621</th>\n",
       "      <td>cheap heavy care sits ear suggest buying better item one winner</td>\n",
       "      <td>cheap heavy care sits ear suggest buying better item one winner</td>\n",
       "    </tr>\n",
       "    <tr>\n",
       "      <th>262622</th>\n",
       "      <td>big moms ear bought took long ship got piercing could use well</td>\n",
       "      <td>big moms ear bought took long ship got piercing could use well</td>\n",
       "    </tr>\n",
       "    <tr>\n",
       "      <th>262623</th>\n",
       "      <td>Does fit ear ever seen There way could looks cool would fit</td>\n",
       "      <td>does fit ear ever seen there way could looks cool would fit</td>\n",
       "    </tr>\n",
       "  </tbody>\n",
       "</table>\n",
       "</div>"
      ],
      "text/plain": [
       "                                                                                                                                                             reviewText  \\\n",
       "262614                                                                             Not incredibly comfortable tag sold You adjust little metal ish bit heavy hey expect   \n",
       "262615                                                                                                            Got Halloween gift girl dragons She enjoyed recommend   \n",
       "262616                                                                                          support weight ear They quality worse picture portrays suuuuuuper cheap   \n",
       "262617                                                                             This poorly made fell apart daughter even able wear one time She really disappointed   \n",
       "262618  This dragon earring fits better others since actually put tail bottom earring hole would recommend one instead others hooks top ear latches bottom earring hole   \n",
       "262619                                                                                                                This best earring ever owned lost back threw away   \n",
       "262620                                                                                              Arrived earring stud bent remove add chain Good price refined piece   \n",
       "262621                                                                                                  cheap heavy care sits ear suggest buying better item one winner   \n",
       "262622                                                                                                   big moms ear bought took long ship got piercing could use well   \n",
       "262623                                                                                                      Does fit ear ever seen There way could looks cool would fit   \n",
       "\n",
       "                                                                                                                                                           clean_review  \n",
       "262614                                                                             not incredibly comfortable tag sold you adjust little metal ish bit heavy hey expect  \n",
       "262615                                                                                                            got halloween gift girl dragons she enjoyed recommend  \n",
       "262616                                                                                          support weight ear they quality worse picture portrays suuuuuuper cheap  \n",
       "262617                                                                             this poorly made fell apart daughter even able wear one time she really disappointed  \n",
       "262618  this dragon earring fits better others since actually put tail bottom earring hole would recommend one instead others hooks top ear latches bottom earring hole  \n",
       "262619                                                                                                                this best earring ever owned lost back threw away  \n",
       "262620                                                                                              arrived earring stud bent remove add chain good price refined piece  \n",
       "262621                                                                                                  cheap heavy care sits ear suggest buying better item one winner  \n",
       "262622                                                                                                   big moms ear bought took long ship got piercing could use well  \n",
       "262623                                                                                                      does fit ear ever seen there way could looks cool would fit  "
      ]
     },
     "execution_count": 37,
     "metadata": {},
     "output_type": "execute_result"
    }
   ],
   "source": [
    "df[['reviewText', 'clean_review']].head(10)"
   ]
  },
  {
   "cell_type": "code",
   "execution_count": 33,
   "metadata": {},
   "outputs": [
    {
     "name": "stdout",
     "output_type": "stream",
     "text": [
      "['i', 'me', 'my', 'myself', 'we', 'our', 'ours', 'ourselves', 'you', \"you're\", \"you've\", \"you'll\", \"you'd\", 'your', 'yours', 'yourself', 'yourselves', 'he', 'him', 'his', 'himself', 'she', \"she's\", 'her', 'hers', 'herself', 'it', \"it's\", 'its', 'itself', 'they', 'them', 'their', 'theirs', 'themselves', 'what', 'which', 'who', 'whom', 'this', 'that', \"that'll\", 'these', 'those', 'am', 'is', 'are', 'was', 'were', 'be', 'been', 'being', 'have', 'has', 'had', 'having', 'do', 'does', 'did', 'doing', 'a', 'an', 'the', 'and', 'but', 'if', 'or', 'because', 'as', 'until', 'while', 'of', 'at', 'by', 'for', 'with', 'about', 'against', 'between', 'into', 'through', 'during', 'before', 'after', 'above', 'below', 'to', 'from', 'up', 'down', 'in', 'out', 'on', 'off', 'over', 'under', 'again', 'further', 'then', 'once', 'here', 'there', 'when', 'where', 'why', 'how', 'all', 'any', 'both', 'each', 'few', 'more', 'most', 'other', 'some', 'such', 'no', 'nor', 'not', 'only', 'own', 'same', 'so', 'than', 'too', 'very', 's', 't', 'can', 'will', 'just', 'don', \"don't\", 'should', \"should've\", 'now', 'd', 'll', 'm', 'o', 're', 've', 'y', 'ain', 'aren', \"aren't\", 'couldn', \"couldn't\", 'didn', \"didn't\", 'doesn', \"doesn't\", 'hadn', \"hadn't\", 'hasn', \"hasn't\", 'haven', \"haven't\", 'isn', \"isn't\", 'ma', 'mightn', \"mightn't\", 'mustn', \"mustn't\", 'needn', \"needn't\", 'shan', \"shan't\", 'shouldn', \"shouldn't\", 'wasn', \"wasn't\", 'weren', \"weren't\", 'won', \"won't\", 'wouldn', \"wouldn't\", 'the', 'they', 'this']\n"
     ]
    }
   ],
   "source": [
    "print(stop)"
   ]
  },
  {
   "cell_type": "code",
   "execution_count": 10,
   "metadata": {
    "colab": {
     "base_uri": "https://localhost:8080/",
     "height": 426
    },
    "colab_type": "code",
    "id": "9eSP1Ruj9fdT",
    "outputId": "1bfc8f92-c390-4d1c-cfa3-ed6b9982271f"
   },
   "outputs": [
    {
     "data": {
      "image/png": "[encoded data removed]",
      "text/plain": [
       "<Figure size 1440x360 with 1 Axes>"
      ]
     },
     "metadata": {
      "needs_background": "light"
     },
     "output_type": "display_data"
    }
   ],
   "source": [
    "freq_words(reviews, 35)"
   ]
  },
  {
   "cell_type": "code",
   "execution_count": 14,
   "metadata": {
    "colab": {},
    "colab_type": "code",
    "id": "x3MUTshKDvC4"
   },
   "outputs": [],
   "source": [
    "nlp = en_core_web_sm.load(disable=['parser', 'ner'])\n",
    "\n",
    "#lemmatization method\n",
    "def lemmatization(texts, tags=['NOUN', 'ADJ', 'VERB']):\n",
    "    output = []\n",
    "    for sent in texts:\n",
    "        doc = nlp(\" \".join(sent)) \n",
    "        output.append([token.lemma_ for token in doc if token.pos_ in tags])\n",
    "    return output\n",
    "\n",
    "#tokenization\n",
    "tokenized_reviews = pd.Series(reviews).apply(lambda x: x.split())"
   ]
  },
  {
   "cell_type": "code",
   "execution_count": 41,
   "metadata": {
    "colab": {},
    "colab_type": "code",
    "id": "x3MUTshKDvC4"
   },
   "outputs": [
    {
     "name": "stdout",
     "output_type": "stream",
     "text": [
      "262617    [this, poorly, made, fell, apart, daughter, even, able, wear, one, time, she, really, disappointed]\n",
      "Name: reviewText, dtype: object\n"
     ]
    }
   ],
   "source": [
    "print(tokenized_reviews.iloc[[3]])"
   ]
  },
  {
   "cell_type": "code",
   "execution_count": 15,
   "metadata": {
    "colab": {},
    "colab_type": "code",
    "id": "x3MUTshKDvC4"
   },
   "outputs": [],
   "source": [
    "#lemmatization takes a lot of time to load\n",
    "reviews_2 = lemmatization(tokenized_reviews)"
   ]
  },
  {
   "cell_type": "code",
   "execution_count": 16,
   "metadata": {
    "colab": {},
    "colab_type": "code",
    "id": "x3MUTshKDvC4"
   },
   "outputs": [
    {
     "name": "stdout",
     "output_type": "stream",
     "text": [
      "['make', 'fall', 'daughter', 'able', 'wear', 'time', 'disappoint']\n"
     ]
    }
   ],
   "source": [
    "print(reviews_2[3])"
   ]
  },
  {
   "cell_type": "code",
   "execution_count": null,
   "metadata": {},
   "outputs": [],
   "source": [
    "#Creating bi-gram\n",
    "\n"
   ]
  },
  {
   "cell_type": "code",
   "execution_count": 18,
   "metadata": {
    "colab": {},
    "colab_type": "code",
    "id": "aZ9ZPfO-CEmD"
   },
   "outputs": [],
   "source": [
    "# Merge processed reviews with df in a seperate column\n",
    "reviews_3 = []\n",
    "for i in range(len(reviews_2)):\n",
    "    reviews_3.append(' '.join(reviews_2[i]))\n",
    "    \n",
    "df['reviews'] = reviews_3"
   ]
  },
  {
   "cell_type": "code",
   "execution_count": 14,
   "metadata": {
    "colab": {
     "base_uri": "https://localhost:8080/",
     "height": 426
    },
    "colab_type": "code",
    "id": "Zyj9zVQqCY6R",
    "outputId": "a71332fc-e6bf-4581-e3f8-4fb081bbb8f1"
   },
   "outputs": [
    {
     "data": {
      "image/png": "[encoded data removed]",
      "text/plain": [
       "<Figure size 1440x360 with 1 Axes>"
      ]
     },
     "metadata": {
      "needs_background": "light"
     },
     "output_type": "display_data"
    }
   ],
   "source": [
    "freq_words(df['reviews'], 35)"
   ]
  },
  {
   "cell_type": "code",
   "execution_count": 20,
   "metadata": {
    "colab": {},
    "colab_type": "code",
    "id": "FBtKwstViu_h"
   },
   "outputs": [],
   "source": [
    "# Create the term dictionary of our corpus, where every unique term is assigned an index\n",
    "dictionary = corpora.Dictionary(reviews_2)\n",
    "\n",
    "# Convert list of reviews (reviews_2) into a Document Term Matrix using the dictionary prepared above.\n",
    "doc_term_matrix = [dictionary.doc2bow(rev) for rev in reviews_2]"
   ]
  },
  {
   "cell_type": "code",
   "execution_count": 21,
   "metadata": {
    "colab": {},
    "colab_type": "code",
    "id": "X6JSF612qkm1"
   },
   "outputs": [
    {
     "data": {
      "text/plain": [
       "[(9,\n",
       "  '0.022*\"ear\" + 0.017*\"fit\" + 0.014*\"way\" + 0.013*\"dollar\" + 0.010*\"small\"'),\n",
       " (6,\n",
       "  '0.033*\"piece\" + 0.031*\"ear\" + 0.026*\"friend\" + 0.026*\"bend\" + 0.020*\"wear\"'),\n",
       " (11,\n",
       "  '0.065*\"gift\" + 0.033*\"undamaged\" + 0.033*\"would\" + 0.033*\"product\" + 0.033*\"sister\"'),\n",
       " (12,\n",
       "  '0.078*\"wear\" + 0.030*\"fall\" + 0.030*\"time\" + 0.024*\"hard\" + 0.024*\"cheap\"'),\n",
       " (0,\n",
       "  '0.032*\"make\" + 0.032*\"enjoy\" + 0.032*\"gift\" + 0.032*\"daughter\" + 0.032*\"get\"')]"
      ]
     },
     "execution_count": 21,
     "metadata": {},
     "output_type": "execute_result"
    }
   ],
   "source": [
    "# Creating the object for LDA model using gensim library\n",
    "LDA = gensim.models.ldamodel.LdaModel\n",
    "\n",
    "# Build LDA model\n",
    "warnings.filterwarnings(\"ignore\", category=DeprecationWarning)\n",
    "lda_model = LDA(corpus=doc_term_matrix,\n",
    "                id2word=dictionary,\n",
    "                num_topics=20, \n",
    "                random_state=30,\n",
    "                chunksize=1000,\n",
    "                passes=1)\n",
    "#Print topics\n",
    "lda_model.print_topics(num_topics=5,num_words=5)"
   ]
  },
  {
   "cell_type": "code",
   "execution_count": 23,
   "metadata": {
    "colab": {
     "base_uri": "https://localhost:8080/",
     "height": 860
    },
    "colab_type": "code",
    "id": "4nRZyKPDCauL",
    "outputId": "b0ef59ff-5204-4ea1-80c9-f100cc9bf1cb"
   },
   "outputs": [
    {
     "data": {
      "text/html": [
       "\n",
       "<link rel=\"stylesheet\" type=\"text/css\" href=\"https://cdn.rawgit.com/bmabey/pyLDAvis/files/ldavis.v1.0.0.css\">\n",
       "\n",
       "\n",
       "<div id=\"ldavis_el85482416380053448638162194\"></div>\n",
       "<script type=\"text/javascript\">\n",
       "\n",
       "var ldavis_el85482416380053448638162194_data = {\"mdsDat\": {\"x\": [-0.1483452721084855, -0.10346499753482886, 0.049633414998162706, 0.023048972495112455, -0.0901292478253297, -0.15840081007851667, 0.0588963940432827, -0.05470141224093008, 0.030164013266128543, 0.05077158034366678, -0.0015180640496676341, 0.05518151880270186, 0.09731353457665715, 0.019474269257996123, 0.050929462099751494, 0.06674498660261338, 0.0028867347798513018, -0.002806105312907292, 0.049737440348396555, 0.004583587536344808], \"y\": [-0.02020986040213634, 0.048240196347378965, -0.13871962171492144, -0.1257904156938377, 0.0251093172826694, -0.06481352831620457, -0.04064983434999505, 0.060599853157366844, -0.025663040440211452, 0.15438233290234246, 0.05938779101080685, -0.005441226993235103, -0.0029321091837129073, -0.06753327075071809, 0.020716966709822336, 0.03770358810318746, 0.0682609594762137, 0.011069278745366631, 0.014252414516235806, -0.007969790406418134], \"topics\": [1, 2, 3, 4, 5, 6, 7, 8, 9, 10, 11, 12, 13, 14, 15, 16, 17, 18, 19, 20], \"cluster\": [1, 1, 1, 1, 1, 1, 1, 1, 1, 1, 1, 1, 1, 1, 1, 1, 1, 1, 1, 1], \"Freq\": [16.671852111816406, 12.346840858459473, 9.649646759033203, 9.039009094238281, 8.625082969665527, 5.89130973815918, 5.689091205596924, 4.901820182800293, 4.429567813873291, 3.7239346504211426, 3.501621723175049, 3.4099233150482178, 2.9188714027404785, 2.5280568599700928, 1.723605751991272, 1.7024725675582886, 1.3497486114501953, 1.3497484922409058, 0.2739010751247406, 0.2739010751247406]}, \"tinfo\": {\"Category\": [\"Default\", \"Default\", \"Default\", \"Default\", \"Default\", \"Default\", \"Default\", \"Default\", \"Default\", \"Default\", \"Default\", \"Default\", \"Default\", \"Default\", \"Default\", \"Default\", \"Default\", \"Default\", \"Default\", \"Default\", \"Default\", \"Default\", \"Default\", \"Default\", \"Default\", \"Default\", \"Default\", \"Default\", \"Default\", \"Default\", \"Topic1\", \"Topic1\", \"Topic1\", \"Topic1\", \"Topic1\", \"Topic1\", \"Topic1\", \"Topic1\", \"Topic1\", \"Topic1\", \"Topic1\", \"Topic1\", \"Topic1\", \"Topic1\", \"Topic1\", \"Topic1\", \"Topic1\", \"Topic1\", \"Topic1\", \"Topic1\", \"Topic1\", \"Topic1\", \"Topic1\", \"Topic1\", \"Topic1\", \"Topic1\", \"Topic1\", \"Topic1\", \"Topic1\", \"Topic1\", \"Topic1\", \"Topic1\", \"Topic1\", \"Topic1\", \"Topic1\", \"Topic1\", \"Topic1\", \"Topic1\", \"Topic1\", \"Topic1\", \"Topic1\", \"Topic1\", \"Topic1\", \"Topic1\", \"Topic1\", \"Topic1\", \"Topic1\", \"Topic1\", \"Topic1\", \"Topic1\", \"Topic1\", \"Topic1\", \"Topic2\", \"Topic2\", \"Topic2\", \"Topic2\", \"Topic2\", \"Topic2\", \"Topic2\", \"Topic2\", \"Topic2\", \"Topic2\", \"Topic2\", \"Topic2\", \"Topic2\", \"Topic2\", \"Topic2\", \"Topic2\", \"Topic2\", \"Topic2\", \"Topic2\", \"Topic2\", \"Topic2\", \"Topic2\", \"Topic2\", \"Topic2\", \"Topic2\", \"Topic2\", \"Topic2\", \"Topic2\", \"Topic2\", \"Topic2\", \"Topic2\", \"Topic2\", \"Topic2\", \"Topic2\", \"Topic2\", \"Topic2\", \"Topic2\", \"Topic2\", \"Topic2\", \"Topic2\", \"Topic2\", \"Topic2\", \"Topic2\", \"Topic2\", \"Topic2\", \"Topic2\", \"Topic3\", \"Topic3\", \"Topic3\", \"Topic3\", \"Topic3\", \"Topic3\", \"Topic3\", \"Topic3\", \"Topic3\", \"Topic3\", \"Topic3\", \"Topic3\", \"Topic3\", \"Topic3\", \"Topic3\", \"Topic3\", \"Topic3\", \"Topic3\", \"Topic3\", \"Topic3\", \"Topic3\", \"Topic3\", \"Topic3\", \"Topic3\", \"Topic3\", \"Topic3\", \"Topic3\", \"Topic3\", \"Topic3\", \"Topic3\", \"Topic3\", \"Topic3\", \"Topic3\", \"Topic3\", \"Topic3\", \"Topic3\", \"Topic3\", \"Topic3\", \"Topic3\", \"Topic3\", \"Topic3\", \"Topic3\", \"Topic3\", \"Topic4\", \"Topic4\", \"Topic4\", \"Topic4\", \"Topic4\", \"Topic4\", \"Topic4\", \"Topic4\", \"Topic4\", \"Topic4\", \"Topic4\", \"Topic4\", \"Topic4\", \"Topic4\", \"Topic4\", \"Topic4\", \"Topic4\", \"Topic4\", \"Topic4\", \"Topic4\", \"Topic4\", \"Topic4\", \"Topic4\", \"Topic4\", \"Topic4\", \"Topic4\", \"Topic4\", \"Topic4\", \"Topic4\", \"Topic4\", \"Topic4\", \"Topic4\", \"Topic4\", \"Topic4\", \"Topic4\", \"Topic4\", \"Topic4\", \"Topic4\", \"Topic4\", \"Topic4\", \"Topic4\", \"Topic4\", \"Topic4\", \"Topic4\", \"Topic4\", \"Topic4\", \"Topic5\", \"Topic5\", \"Topic5\", \"Topic5\", \"Topic5\", \"Topic5\", \"Topic5\", \"Topic5\", \"Topic5\", \"Topic5\", \"Topic5\", \"Topic5\", \"Topic5\", \"Topic5\", \"Topic5\", \"Topic5\", \"Topic5\", \"Topic5\", \"Topic5\", \"Topic5\", \"Topic5\", \"Topic5\", \"Topic5\", \"Topic5\", \"Topic5\", \"Topic5\", \"Topic5\", \"Topic5\", \"Topic5\", \"Topic5\", \"Topic5\", \"Topic5\", \"Topic5\", \"Topic5\", \"Topic5\", \"Topic5\", \"Topic5\", \"Topic5\", \"Topic5\", \"Topic5\", \"Topic5\", \"Topic5\", \"Topic5\", \"Topic5\", \"Topic5\", \"Topic5\", \"Topic5\", \"Topic5\", \"Topic6\", \"Topic6\", \"Topic6\", \"Topic6\", \"Topic6\", \"Topic6\", \"Topic6\", \"Topic6\", \"Topic6\", \"Topic6\", \"Topic6\", \"Topic6\", \"Topic6\", \"Topic6\", \"Topic6\", \"Topic6\", \"Topic6\", \"Topic6\", \"Topic6\", \"Topic6\", \"Topic6\", \"Topic6\", \"Topic6\", \"Topic6\", \"Topic6\", \"Topic6\", \"Topic6\", \"Topic6\", \"Topic6\", \"Topic6\", \"Topic6\", \"Topic6\", \"Topic6\", \"Topic6\", \"Topic6\", \"Topic6\", \"Topic7\", \"Topic7\", \"Topic7\", \"Topic7\", \"Topic7\", \"Topic7\", \"Topic7\", \"Topic7\", \"Topic7\", \"Topic7\", \"Topic7\", \"Topic7\", \"Topic7\", \"Topic7\", \"Topic7\", \"Topic7\", \"Topic7\", \"Topic7\", \"Topic7\", \"Topic7\", \"Topic7\", \"Topic7\", \"Topic7\", \"Topic7\", \"Topic7\", \"Topic7\", \"Topic7\", \"Topic7\", \"Topic7\", \"Topic7\", \"Topic7\", \"Topic7\", \"Topic7\", \"Topic7\", \"Topic7\", \"Topic7\", \"Topic7\", \"Topic7\", \"Topic7\", \"Topic7\", \"Topic7\", \"Topic7\", \"Topic7\", \"Topic7\", \"Topic7\", \"Topic7\", \"Topic7\", \"Topic8\", \"Topic8\", \"Topic8\", \"Topic8\", \"Topic8\", \"Topic8\", \"Topic8\", \"Topic8\", \"Topic8\", \"Topic8\", \"Topic8\", \"Topic8\", \"Topic8\", \"Topic8\", \"Topic8\", \"Topic8\", \"Topic8\", \"Topic8\", \"Topic8\", \"Topic8\", \"Topic8\", \"Topic8\", \"Topic8\", \"Topic8\", \"Topic8\", \"Topic8\", \"Topic8\", \"Topic8\", \"Topic8\", \"Topic8\", \"Topic8\", \"Topic8\", \"Topic8\", \"Topic8\", \"Topic8\", \"Topic8\", \"Topic9\", \"Topic9\", \"Topic9\", \"Topic9\", \"Topic9\", \"Topic9\", \"Topic9\", \"Topic9\", \"Topic9\", \"Topic9\", \"Topic9\", \"Topic9\", \"Topic9\", \"Topic9\", \"Topic9\", \"Topic9\", \"Topic9\", \"Topic9\", \"Topic9\", \"Topic9\", \"Topic9\", \"Topic9\", \"Topic9\", \"Topic9\", \"Topic9\", \"Topic9\", \"Topic9\", \"Topic9\", \"Topic9\", \"Topic9\", \"Topic9\", \"Topic9\", \"Topic10\", \"Topic10\", \"Topic10\", \"Topic10\", \"Topic10\", \"Topic10\", \"Topic10\", \"Topic10\", \"Topic10\", \"Topic10\", \"Topic10\", \"Topic10\", \"Topic10\", \"Topic10\", \"Topic10\", \"Topic10\", \"Topic10\", \"Topic10\", \"Topic10\", \"Topic10\", \"Topic10\", \"Topic10\", \"Topic10\", \"Topic10\", \"Topic10\", \"Topic10\", \"Topic10\", \"Topic10\", \"Topic10\", \"Topic10\", \"Topic10\", \"Topic10\", \"Topic10\", \"Topic10\", \"Topic10\", \"Topic10\", \"Topic10\", \"Topic11\", \"Topic11\", \"Topic11\", \"Topic11\", \"Topic11\", \"Topic11\", \"Topic11\", \"Topic11\", \"Topic11\", \"Topic11\", \"Topic11\", \"Topic11\", \"Topic11\", \"Topic11\", \"Topic11\", \"Topic11\", \"Topic11\", \"Topic11\", \"Topic11\", \"Topic11\", \"Topic11\", \"Topic11\", \"Topic11\", \"Topic11\", \"Topic11\", \"Topic11\", \"Topic11\", \"Topic11\", \"Topic11\", \"Topic11\", \"Topic11\", \"Topic11\", \"Topic12\", \"Topic12\", \"Topic12\", \"Topic12\", \"Topic12\", \"Topic12\", \"Topic12\", \"Topic12\", \"Topic12\", \"Topic12\", \"Topic12\", \"Topic12\", \"Topic12\", \"Topic12\", \"Topic12\", \"Topic12\", \"Topic12\", \"Topic12\", \"Topic12\", \"Topic12\", \"Topic12\", \"Topic12\", \"Topic12\", \"Topic12\", \"Topic12\", \"Topic12\", \"Topic12\", \"Topic12\", \"Topic12\", \"Topic12\", \"Topic12\", \"Topic12\", \"Topic12\", \"Topic12\", \"Topic13\", \"Topic13\", \"Topic13\", \"Topic13\", \"Topic13\", \"Topic13\", \"Topic13\", \"Topic13\", \"Topic13\", \"Topic13\", \"Topic13\", \"Topic13\", \"Topic13\", \"Topic13\", \"Topic13\", \"Topic13\", \"Topic13\", \"Topic13\", \"Topic13\", \"Topic13\", \"Topic13\", \"Topic13\", \"Topic13\", \"Topic13\", \"Topic13\", \"Topic13\", \"Topic13\", \"Topic13\", \"Topic13\", \"Topic13\", \"Topic13\", \"Topic13\", \"Topic13\", \"Topic13\", \"Topic13\", \"Topic13\", \"Topic13\", \"Topic13\", \"Topic13\", \"Topic14\", \"Topic14\", \"Topic14\", \"Topic14\", \"Topic14\", \"Topic14\", \"Topic14\", \"Topic14\", \"Topic14\", \"Topic14\", \"Topic14\", \"Topic14\", \"Topic14\", \"Topic14\", \"Topic14\", \"Topic14\", \"Topic14\", \"Topic14\", \"Topic14\", \"Topic14\", \"Topic14\", \"Topic14\", \"Topic14\", \"Topic14\", \"Topic14\", \"Topic14\", \"Topic14\", \"Topic14\", \"Topic14\", \"Topic14\", \"Topic14\", \"Topic14\", \"Topic14\", \"Topic14\", \"Topic14\", \"Topic14\", \"Topic14\", \"Topic14\", \"Topic14\", \"Topic14\", \"Topic14\", \"Topic14\", \"Topic14\", \"Topic14\", \"Topic14\", \"Topic14\", \"Topic14\", \"Topic15\", \"Topic15\", \"Topic15\", \"Topic15\", \"Topic15\", \"Topic15\", \"Topic15\", \"Topic15\", \"Topic15\", \"Topic15\", \"Topic15\", \"Topic15\", \"Topic15\", \"Topic15\", \"Topic15\", \"Topic15\", \"Topic15\", \"Topic15\", \"Topic15\", \"Topic15\", \"Topic15\", \"Topic15\", \"Topic15\", \"Topic15\", \"Topic15\", \"Topic15\", \"Topic15\", \"Topic15\", \"Topic15\", \"Topic15\", \"Topic15\", \"Topic15\", \"Topic15\", \"Topic15\", \"Topic15\", \"Topic15\", \"Topic15\", \"Topic15\", \"Topic15\", \"Topic15\", \"Topic15\", \"Topic15\", \"Topic15\", \"Topic15\", \"Topic15\", \"Topic15\", \"Topic15\", \"Topic16\", \"Topic16\", \"Topic16\", \"Topic16\", \"Topic16\", \"Topic16\", \"Topic16\", \"Topic16\", \"Topic16\", \"Topic16\", \"Topic16\", \"Topic16\", \"Topic16\", \"Topic16\", \"Topic16\", \"Topic16\", \"Topic16\", \"Topic16\", \"Topic16\", \"Topic16\", \"Topic16\", \"Topic16\", \"Topic16\", \"Topic16\", \"Topic16\", \"Topic16\", \"Topic16\", \"Topic16\", \"Topic16\", \"Topic16\", \"Topic16\", \"Topic16\", \"Topic16\", \"Topic16\", \"Topic16\", \"Topic16\", \"Topic16\", \"Topic16\", \"Topic16\", \"Topic16\", \"Topic16\", \"Topic16\", \"Topic16\", \"Topic16\", \"Topic16\", \"Topic16\", \"Topic16\", \"Topic16\", \"Topic16\", \"Topic17\", \"Topic17\", \"Topic17\", \"Topic17\", \"Topic17\", \"Topic17\", \"Topic17\", \"Topic17\", \"Topic17\", \"Topic17\", \"Topic17\", \"Topic17\", \"Topic17\", \"Topic17\", \"Topic17\", \"Topic17\", \"Topic17\", \"Topic17\", \"Topic17\", \"Topic17\", \"Topic17\", \"Topic17\", \"Topic17\", \"Topic17\", \"Topic17\", \"Topic17\", \"Topic17\", \"Topic17\", \"Topic17\", \"Topic17\", \"Topic17\", \"Topic17\", \"Topic17\", \"Topic17\", \"Topic17\", \"Topic17\", \"Topic17\", \"Topic17\", \"Topic18\", \"Topic18\", \"Topic18\", \"Topic18\", \"Topic18\", \"Topic18\", \"Topic18\", \"Topic18\", \"Topic18\", \"Topic18\", \"Topic18\", \"Topic18\", \"Topic18\", \"Topic18\", \"Topic18\", \"Topic18\", \"Topic18\", \"Topic18\", \"Topic18\", \"Topic18\", \"Topic18\", \"Topic18\", \"Topic18\", \"Topic18\", \"Topic18\", \"Topic18\", \"Topic18\", \"Topic18\", \"Topic18\", \"Topic18\", \"Topic18\", \"Topic18\", \"Topic18\", \"Topic18\", \"Topic18\", \"Topic18\", \"Topic18\", \"Topic18\", \"Topic18\", \"Topic18\", \"Topic18\", \"Topic18\", \"Topic18\", \"Topic18\", \"Topic18\", \"Topic18\", \"Topic18\", \"Topic18\", \"Topic18\", \"Topic18\", \"Topic18\", \"Topic18\", \"Topic19\", \"Topic19\", \"Topic19\", \"Topic19\", \"Topic19\", \"Topic19\", \"Topic19\", \"Topic19\", \"Topic19\", \"Topic19\", \"Topic19\", \"Topic19\", \"Topic19\", \"Topic19\", \"Topic19\", \"Topic19\", \"Topic19\", \"Topic19\", \"Topic19\", \"Topic19\", \"Topic19\", \"Topic19\", \"Topic19\", \"Topic19\", \"Topic19\", \"Topic19\", \"Topic19\", \"Topic19\", \"Topic19\", \"Topic19\", \"Topic19\", \"Topic19\", \"Topic19\", \"Topic19\", \"Topic19\", \"Topic19\", \"Topic19\", \"Topic19\", \"Topic19\", \"Topic19\", \"Topic19\", \"Topic19\", \"Topic19\", \"Topic19\", \"Topic19\", \"Topic19\", \"Topic19\", \"Topic19\", \"Topic19\", \"Topic19\", \"Topic19\", \"Topic19\", \"Topic19\", \"Topic19\", \"Topic19\", \"Topic19\", \"Topic19\", \"Topic19\", \"Topic19\", \"Topic19\", \"Topic19\", \"Topic19\", \"Topic19\", \"Topic19\", \"Topic20\", \"Topic20\", \"Topic20\", \"Topic20\", \"Topic20\", \"Topic20\", \"Topic20\", \"Topic20\", \"Topic20\", \"Topic20\", \"Topic20\", \"Topic20\", \"Topic20\", \"Topic20\", \"Topic20\", \"Topic20\", \"Topic20\", \"Topic20\", \"Topic20\", \"Topic20\", \"Topic20\", \"Topic20\", \"Topic20\", \"Topic20\", \"Topic20\", \"Topic20\", \"Topic20\", \"Topic20\", \"Topic20\", \"Topic20\", \"Topic20\", \"Topic20\", \"Topic20\", \"Topic20\", \"Topic20\", \"Topic20\", \"Topic20\", \"Topic20\", \"Topic20\", \"Topic20\", \"Topic20\", \"Topic20\"], \"Freq\": [18.0, 41.0, 11.0, 9.0, 13.0, 10.0, 6.0, 5.0, 4.0, 5.0, 10.0, 6.0, 2.0, 5.0, 4.0, 4.0, 4.0, 4.0, 7.0, 4.0, 2.0, 6.0, 8.0, 2.0, 5.0, 2.0, 3.0, 3.0, 3.0, 3.0, 1.6447181701660156, 1.510824203491211, 1.4178980588912964, 1.8894747495651245, 1.6447181701660156, 0.8424166440963745, 0.8424167037010193, 0.8424166440963745, 0.8424167037010193, 0.8424166440963745, 0.8424166440963745, 0.8424166440963745, 0.8424166440963745, 0.8424166440963745, 0.8424166440963745, 0.8424166440963745, 0.8424166440963745, 0.8424166440963745, 0.8424166440963745, 0.8424166440963745, 0.8424166440963745, 0.8424166440963745, 0.8424166440963745, 0.8424166440963745, 0.8424166440963745, 0.8424166440963745, 0.8424166440963745, 0.8424166440963745, 0.8424166440963745, 0.8424166440963745, 0.8424166440963745, 0.8424166440963745, 1.6447181701660156, 8.901871681213379, 12.689691543579102, 2.4470198154449463, 4.256648063659668, 1.9250831604003906, 1.5909065008163452, 2.5251896381378174, 3.400773048400879, 1.6447184085845947, 1.8397023677825928, 1.5353338718414307, 1.8046826124191284, 1.8355909585952759, 1.0687973499298096, 1.0682663917541504, 1.1156444549560547, 1.0478410720825195, 0.9652138948440552, 0.8424167037010193, 1.121422529220581, 1.121422529220581, 1.121422529220581, 1.1214227676391602, 1.1214227676391602, 1.121422529220581, 1.121422529220581, 1.121422529220581, 1.1214227676391602, 3.2574658393859863, 1.5876904726028442, 1.121422529220581, 1.121422529220581, 1.121422529220581, 2.1894443035125732, 1.121422529220581, 1.121422529220581, 1.121422529220581, 1.121422529220581, 1.121422529220581, 1.121422529220581, 1.6470392942428589, 1.635337471961975, 0.5349119901657104, 0.5312432050704956, 0.5385851263999939, 0.5166557431221008, 0.5118149518966675, 0.5158044695854187, 1.121422529220581, 1.121422529220581, 1.121422529220581, 1.121422529220581, 3.0928540229797363, 2.600956678390503, 1.6504226922988892, 2.1059393882751465, 6.625649929046631, 1.5483471155166626, 1.5478459596633911, 1.6281465291976929, 1.5727365016937256, 1.121422529220581, 1.121422529220581, 1.121422529220581, 1.1214227676391602, 0.6991316676139832, 0.6991316080093384, 0.6991316080093384, 0.6991316080093384, 0.6991316080093384, 0.6991316080093384, 0.6991316080093384, 0.6991316080093384, 0.6991316080093384, 0.6991316080093384, 0.6991316080093384, 0.6991316080093384, 0.6991316080093384, 0.6991316080093384, 0.6991316080093384, 0.6991316080093384, 0.6991316080093384, 0.6991316080093384, 0.6991316080093384, 0.6991316080093384, 1.056930661201477, 1.804451584815979, 1.3649712800979614, 0.6991316080093384, 1.6681867837905884, 1.9276522397994995, 1.0378057956695557, 0.48141345381736755, 1.2834959030151367, 0.46642014384269714, 0.6991316676139832, 1.6944358348846436, 1.0671511888504028, 1.2975127696990967, 2.368283271789551, 1.3649712800979614, 0.9907111525535583, 1.2703629732131958, 0.9370570778846741, 0.7552059292793274, 0.7617127299308777, 0.6991316080093384, 0.6991316080093384, 1.0948704481124878, 1.0948704481124878, 1.0948704481124878, 1.0948704481124878, 1.0948704481124878, 1.0948704481124878, 1.0948704481124878, 1.0948704481124878, 1.0948704481124878, 1.4788193702697754, 1.3883593082427979, 1.2644851207733154, 0.7783776521682739, 0.7668153047561646, 0.7624154090881348, 0.7471942901611328, 0.7399640679359436, 0.7346892952919006, 0.7284110188484192, 0.7157010436058044, 0.7082886099815369, 0.7014195322990417, 0.6974360346794128, 1.0948704481124878, 0.6805436015129089, 0.6746294498443604, 0.665469229221344, 0.6455849409103394, 0.6379112601280212, 0.6322773098945618, 3.180337905883789, 1.492797613143921, 1.0948704481124878, 1.7701622247695923, 1.205148458480835, 1.0948705673217773, 1.2564210891723633, 1.247613787651062, 1.0948704481124878, 3.2466201782226562, 1.323254108428955, 1.0948704481124878, 1.5480760335922241, 1.0948704481124878, 1.0948704481124878, 0.7846450805664062, 1.200217366218567, 0.7460410594940186, 0.7460410594940186, 0.7460410594940186, 1.1274714469909668, 1.06599760055542, 0.6200258731842041, 0.6020611524581909, 0.5961099863052368, 0.5531677603721619, 0.5505771636962891, 0.5433636903762817, 0.5426540374755859, 0.5423952341079712, 0.5382509827613831, 1.0461980104446411, 0.4991776645183563, 0.4783257842063904, 1.4368529319763184, 0.6980061531066895, 0.7159796953201294, 0.418354332447052, 0.3890065550804138, 1.022274374961853, 0.3637743890285492, 0.3456437885761261, 0.5144340395927429, 0.34125974774360657, 0.35731610655784607, 0.33602938055992126, 1.3258857727050781, 0.8506839871406555, 0.7460410594940186, 0.5111204385757446, 0.7460410594940186, 1.3295193910598755, 1.8604931831359863, 3.5511837005615234, 1.0117554664611816, 0.9587757587432861, 1.0665810108184814, 0.8190377354621887, 0.7460410594940186, 0.7788482904434204, 0.8017613291740417, 0.5702567100524902, 0.5753512978553772, 0.578464150428772, 0.7388076782226562, 0.7388076782226562, 0.7388076782226562, 0.7388076782226562, 0.7388076782226562, 0.7388076782226562, 0.7388076782226562, 0.7388076782226562, 0.7388076782226562, 0.7388076782226562, 0.7388076782226562, 0.7388076782226562, 0.7388076782226562, 0.7388076782226562, 0.7388076782226562, 0.7388076782226562, 0.7388076782226562, 0.7388076782226562, 1.4424340724945068, 0.7388076782226562, 0.7388076782226562, 3.5533134937286377, 0.7388076782226562, 0.7388076782226562, 0.7388076782226562, 0.7388076782226562, 6.367818832397461, 0.7388076782226562, 0.7388076782226562, 1.4424340724945068, 1.4424340724945068, 0.7388077974319458, 0.7388076782226562, 0.7388076782226562, 0.7388076782226562, 0.7388076782226562, 0.6293630599975586, 0.6293630599975586, 0.6293630599975586, 0.6293630599975586, 0.6293630599975586, 0.6293630599975586, 0.6293630599975586, 0.6293630599975586, 0.6293630599975586, 0.6293630599975586, 0.6293630599975586, 0.6293630599975586, 0.6293631196022034, 0.6293560266494751, 0.6293553113937378, 0.6293553113937378, 0.6293541193008423, 0.6293506026268005, 1.2287565469741821, 0.9702715277671814, 0.6293630599975586, 0.6293630599975586, 0.4030858278274536, 0.39925986528396606, 0.3734425902366638, 0.35961759090423584, 0.357649028301239, 0.3550887703895569, 0.3534620404243469, 0.35339128971099854, 0.7082606554031372, 1.2287466526031494, 0.6293563842773438, 1.609776496887207, 0.629355788230896, 0.9620748162269592, 0.6293630599975586, 0.6293630599975586, 0.9725378751754761, 1.5119447708129883, 0.9475212693214417, 0.6293630599975586, 0.6293630599975586, 0.6293630599975586, 0.6293630599975586, 0.6293630599975586, 0.6293630599975586, 0.7278894782066345, 0.7278894782066345, 0.7278894782066345, 0.7278894782066345, 0.7278894782066345, 0.7278894782066345, 0.7278894782066345, 0.7278894782066345, 0.7278895378112793, 0.7278895378112793, 1.4211175441741943, 0.7278894782066345, 0.7278894782066345, 0.7278894782066345, 1.4211175441741943, 0.7278894782066345, 0.7278894782066345, 1.4211175441741943, 0.7278895378112793, 0.7278894782066345, 0.7278894782066345, 0.7278894782066345, 0.7278894782066345, 0.7278894782066345, 0.7278895378112793, 0.7278894782066345, 0.7278894782066345, 0.7278895378112793, 0.7278894782066345, 1.4211175441741943, 1.4211175441741943, 0.7278894782066345, 0.7278894782066345, 0.7278894782066345, 0.7278894782066345, 0.7278894782066345, 0.9270379543304443, 0.9270379543304443, 0.8950068354606628, 2.2406389713287354, 0.9270379543304443, 0.8321638107299805, 0.9270379543304443, 0.49981260299682617, 0.5027630925178528, 0.4841172695159912, 0.46094202995300293, 0.4619295001029968, 0.9270379543304443, 0.9158735275268555, 0.9270379543304443, 0.9270378351211548, 0.40448641777038574, 0.9270378351211548, 0.8601929545402527, 0.41192427277565, 0.4669618010520935, 0.4719744622707367, 0.9270379543304443, 0.375569224357605, 0.3940645754337311, 0.47863447666168213, 0.4310670495033264, 1.357590675354004, 0.04414466768503189, 0.04414466768503189, 0.5487933158874512, 0.3620883524417877, 1.296640396118164, 0.664132833480835, 0.664132833480835, 0.664132833480835, 0.664132833480835, 0.664132833480835, 0.664132833480835, 0.664132833480835, 1.2966402769088745, 1.2966402769088745, 0.664132833480835, 0.664132833480835, 0.664132833480835, 0.6641329526901245, 0.664132833480835, 0.664132833480835, 1.2966402769088745, 0.6641329526901245, 0.664132833480835, 0.664132833480835, 0.664132833480835, 0.664132833480835, 1.9291479587554932, 0.664132833480835, 0.664132833480835, 0.031625375151634216, 0.031625375151634216, 0.031625375151634216, 0.031625375151634216, 0.031625375151634216, 0.031625375151634216, 0.031625375151634216, 0.031625378876924515, 0.031625378876924515, 0.031625375151634216, 0.031625375151634216, 0.031625375151634216, 0.6372950673103333, 0.6372950673103333, 0.6372950673103333, 0.6372950673103333, 0.6372950673103333, 0.6372950673103333, 0.6372950673103333, 0.6372950673103333, 0.6372950673103333, 0.6372950673103333, 0.6372950673103333, 0.637295126914978, 0.6372950673103333, 0.6372950673103333, 0.6372950673103333, 0.6372950673103333, 0.6372950673103333, 0.6372950673103333, 0.637295126914978, 0.6372950673103333, 0.637295126914978, 0.6372950673103333, 0.6372950673103333, 0.6372950673103333, 0.6372950673103333, 0.6372950673103333, 0.6372950673103333, 0.6372950673103333, 0.03034738451242447, 0.03034738451242447, 1.244242787361145, 0.030347388237714767, 0.5676800608634949, 0.5178157091140747, 0.5176783800125122, 0.46724364161491394, 0.45296013355255127, 0.4416900873184204, 0.44158804416656494, 0.4392394423484802, 0.4355432689189911, 0.43270108103752136, 0.41274192929267883, 0.3754692077636719, 0.7947114109992981, 0.3699456751346588, 0.4367002844810486, 0.5544659495353699, 0.4164441227912903, 0.4409657418727875, 0.48687273263931274, 0.4719957411289215, 0.400533527135849, 0.46868574619293213, 0.5312381982803345, 0.42826521396636963, 0.04326745122671127, 0.04326745122671127, 0.3585350513458252, 0.4131554663181305, 0.04326745122671127, 0.04326745122671127, 0.44928890466690063, 0.4906963109970093, 0.3719675540924072, 0.49975958466529846, 0.5919469594955444, 0.5919469594955444, 0.5919469594955444, 0.5919469594955444, 0.5919469594955444, 0.5919469594955444, 0.5919469594955444, 0.5919469594955444, 0.5919469594955444, 0.5919469594955444, 0.5919469594955444, 0.5919469594955444, 1.7194651365280151, 0.5919469594955444, 0.591947078704834, 0.5919469594955444, 0.5919469594955444, 0.5919469594955444, 0.5919469594955444, 1.1557060480117798, 0.5919469594955444, 0.5919469594955444, 0.028187952935695648, 0.028187952935695648, 0.028187952935695648, 0.028187952935695648, 0.028187952935695648, 0.028187952935695648, 0.028187952935695648, 0.028187952935695648, 0.028187952935695648, 0.028187952935695648, 0.028187952935695648, 0.028187952935695648, 0.028187952935695648, 0.028187952935695648, 0.028187952935695648, 0.028187952935695648, 0.028187952935695648, 1.1222493648529053, 0.5748106837272644, 0.5748106241226196, 0.5748106241226196, 1.126932144165039, 0.5748106837272644, 1.1222493648529053, 1.673094391822815, 0.5748106241226196, 0.5748106241226196, 0.5748106241226196, 0.5788001418113708, 0.5777684450149536, 0.5852968096733093, 0.027371935546398163, 0.027371935546398163, 0.027371935546398163, 0.027371935546398163, 0.027371935546398163, 0.027371935546398163, 0.027371935546398163, 0.027371935546398163, 0.027371935546398163, 0.031794317066669464, 0.03161010146141052, 0.03139377385377884, 0.03160328045487404, 0.031131690368056297, 0.0312834270298481, 0.027371935546398163, 0.03082446940243244, 0.5879817605018616, 0.030519016087055206, 0.03055926226079464, 0.030217938125133514, 0.02964998222887516, 0.03362560272216797, 0.029566509649157524, 0.03125816211104393, 0.03170023113489151, 0.031386055052280426, 0.030916135758161545, 0.034213367849588394, 0.03269672021269798, 0.031334128230810165, 0.03116307221353054, 0.031005578115582466, 0.4669523537158966, 0.4669523537158966, 0.4669523537158966, 0.4669523537158966, 0.4669523537158966, 0.4669523537158966, 0.4669523537158966, 0.4669523537158966, 0.4669523537158966, 0.4669523537158966, 0.4669523537158966, 0.4669523537158966, 0.4669524133205414, 0.4669523537158966, 0.022235827520489693, 0.022235827520489693, 0.022235827520489693, 0.022235827520489693, 0.022235827520489693, 0.022235827520489693, 0.022235827520489693, 0.022235827520489693, 0.022235827520489693, 0.022235827520489693, 0.022235827520489693, 0.022235827520489693, 0.022235827520489693, 0.022235827520489693, 0.022235827520489693, 0.022235827520489693, 0.022235827520489693, 0.022235827520489693, 0.022235827520489693, 0.022235827520489693, 0.022235827520489693, 0.022235827520489693, 0.022235827520489693, 0.022235827520489693, 0.022235827520489693, 0.022235827520489693, 0.022235827520489693, 0.022235827520489693, 0.022235827520489693, 0.022235827520489693, 0.022235827520489693, 0.022235827520489693, 0.022235827520489693, 0.47575393319129944, 0.47575393319129944, 0.9288528561592102, 0.47575393319129944, 0.47575393319129944, 0.47575393319129944, 0.47575393319129944, 0.47575393319129944, 0.47575393319129944, 0.47575393319129944, 0.47575393319129944, 0.47575393319129944, 0.022654948756098747, 0.022654948756098747, 0.022654948756098747, 0.022654948756098747, 0.022654948756098747, 0.022654948756098747, 0.022654948756098747, 0.022654948756098747, 0.022654948756098747, 0.022654948756098747, 0.022654948756098747, 0.022654948756098747, 0.022654948756098747, 0.022654948756098747, 0.022654948756098747, 0.022654948756098747, 0.022654948756098747, 0.022654948756098747, 0.022654948756098747, 0.022654950618743896, 0.022654950618743896, 0.022654948756098747, 0.022654948756098747, 0.022654948756098747, 0.022654948756098747, 0.022654948756098747, 0.022654948756098747, 0.022654948756098747, 0.022654948756098747, 0.022654948756098747, 0.022654948756098747, 0.022654948756098747, 0.022654948756098747, 0.022654948756098747, 0.022654948756098747, 0.022654948756098747, 0.022654948756098747, 0.2780464291572571, 0.2780464291572571, 0.2780464291572571, 0.34725242853164673, 0.33891791105270386, 0.8941362500190735, 0.09981154650449753, 0.09201957285404205, 0.2780464291572571, 0.08968529105186462, 0.08898410946130753, 0.08927980810403824, 0.08582979440689087, 0.08656229823827744, 0.08532676100730896, 0.08494655042886734, 0.08495379239320755, 0.2780464291572571, 0.08254367858171463, 0.07832016050815582, 0.07650192081928253, 0.07469736784696579, 0.07099248468875885, 0.1007988378405571, 0.06239303573966026, 0.08774837851524353, 0.15062753856182098, 0.07972703874111176, 0.13124792277812958, 0.0741615742444992, 0.09121856093406677, 0.16289903223514557, 0.14364556968212128, 0.08834777027368546, 0.19180209934711456, 0.12145949900150299, 0.09058213979005814, 0.08596237748861313, 0.4165440499782562, 0.4165440499782562, 0.4165440499782562, 0.4165440499782562, 0.4165440499782562, 0.4165440499782562, 0.4165440499782562, 0.4165440499782562, 0.01983543299138546, 0.01983543299138546, 0.4165440499782562, 0.01983543299138546, 0.01983543299138546, 0.01983543299138546, 0.01983543299138546, 0.01983543299138546, 0.01983543299138546, 0.01983543299138546, 0.01983543299138546, 0.01983543299138546, 0.01983543299138546, 0.01983543299138546, 0.01983543299138546, 0.01983543299138546, 0.01983543299138546, 0.01983543299138546, 0.01983543299138546, 0.01983543299138546, 0.01983543299138546, 0.01983543299138546, 0.4165440499782562, 0.01983543299138546, 0.01983543299138546, 0.01983543299138546, 0.01983543299138546, 0.01983543299138546, 0.01983543299138546, 0.01983543299138546, 0.01983543299138546, 0.01983543299138546, 0.01983543299138546, 0.01983543299138546, 0.01983543299138546, 0.01983543299138546, 0.01983543299138546, 0.01983543299138546, 0.01983543299138546, 0.01983543299138546, 0.01983543299138546, 0.01983543299138546, 0.01983543299138546, 0.01983543299138546, 0.006171903107315302, 0.006171903107315302, 0.006171903107315302, 0.006171903107315302, 0.006171903107315302, 0.006171903107315302, 0.006171903107315302, 0.006171903107315302, 0.006171903107315302, 0.006171903107315302, 0.006171903107315302, 0.006171903107315302, 0.006171903107315302, 0.006171903107315302, 0.006171903107315302, 0.006171903107315302, 0.006171903107315302, 0.006171903107315302, 0.006171903107315302, 0.006171903107315302, 0.006171903107315302, 0.006171903107315302, 0.006171903107315302, 0.006171903107315302, 0.006171903107315302, 0.006171903107315302, 0.006171903107315302, 0.006171903107315302, 0.006171903107315302, 0.006171903107315302, 0.006171903107315302, 0.006171903107315302, 0.006171903107315302, 0.006171903107315302, 0.006171903107315302, 0.006171903107315302, 0.006171903107315302, 0.006171903107315302, 0.006171903107315302, 0.006171903107315302, 0.006171903107315302, 0.006171903107315302, 0.006171903107315302, 0.006171903107315302, 0.006171903107315302, 0.006171903107315302, 0.006171903107315302, 0.006171903107315302, 0.006171903107315302, 0.006171903107315302, 0.006171903107315302, 0.006171903107315302, 0.006171903107315302, 0.006171903107315302, 0.006171903107315302, 0.006171903107315302, 0.006171903107315302, 0.006171903107315302, 0.006171903107315302, 0.006171903107315302, 0.006171903107315302, 0.006171903107315302, 0.006171903107315302, 0.006171903107315302, 0.028935324400663376, 0.017012769356369972, 0.016308298334479332, 0.015921644866466522, 0.015573639422655106, 0.015347378328442574, 0.014988644048571587, 0.014947380870580673, 0.014663759618997574, 0.014667794108390808, 0.01348680816590786, 0.013223351910710335, 0.0128374844789505, 0.012304550036787987, 0.01629132404923439, 0.01887255720794201, 0.011971076019108295, 0.017897550016641617, 0.016478445380926132, 0.011249790899455547, 0.017507826909422874, 0.016277791932225227, 0.009675605222582817, 0.009722121991217136, 0.016608575358986855, 0.01709679141640663, 0.016454927623271942, 0.0045030140317976475, 0.0045030140317976475, 0.01666206493973732, 0.03153290972113609, 0.009411057457327843, 0.016058269888162613, 0.01990191824734211, 0.022567059844732285, 0.040103260427713394, 0.049786388874053955, 0.019484201446175575, 0.02057531289756298, 0.016688361763954163, 0.016394643113017082, 0.016317171975970268], \"Term\": [\"fit\", \"ear\", \"earring\", \"wear\", \"get\", \"would\", \"good\", \"item\", \"hole\", \"love\", \"make\", \"dragon\", \"gift\", \"price\", \"recommend\", \"expect\", \"heavy\", \"want\", \"way\", \"cheap\", \"bottom\", \"buy\", \"piece\", \"time\", \"bend\", \"fall\", \"come\", \"product\", \"take\", \"daughter\", \"fan\", \"silver\", \"dollar\", \"year\", \"girl\", \"sorry\", \"adult\", \"child\", \"woman\", \"hurt\", \"normal\", \"sized\", \"uncomfortable\", \"change\", \"need\", \"bearable\", \"yrs\", \"youngth\", \"rock\", \"punk\", \"apppreciat\", \"itchy\", \"awkward\", \"game\", \"hunger\", \"lay\", \"popular\", \"mean\", \"list\", \"present\", \"adjustable\", \"amazing\", \"beautiful\", \"fit\", \"ear\", \"little\", \"make\", \"old\", \"large\", \"small\", \"earring\", \"big\", \"way\", \"buy\", \"would\", \"get\", \"color\", \"daughter\", \"post\", \"item\", \"stay\", \"try\", \"irritate\", \"slide\", \"wearable\", \"cup\", \"earr\", \"layer\", \"sensitive\", \"impress\", \"nothing\", \"heavy\", \"may\", \"put\", \"figure\", \"right\", \"expect\", \"excellent\", \"service\", \"keep\", \"clear\", \"polish\", \"awesome\", \"arrive\", \"nice\", \"reshape\", \"majority\", \"crush\", \"receipt\", \"balance\", \"near\", \"receive\", \"use\", \"large\", \"great\", \"would\", \"wear\", \"stay\", \"piece\", \"ear\", \"post\", \"way\", \"look\", \"get\", \"small\", \"say\", \"price\", \"want\", \"tug\", \"poke\", \"itbut\", \"festival\", \"sis\", \"pagan\", \"serve\", \"provide\", \"potter\", \"manage\", \"lobe\", \"part\", \"goth\", \"door\", \"harry\", \"pride\", \"whose\", \"be\", \"basket\", \"myfriend\", \"lack\", \"order\", \"christma\", \"box\", \"go\", \"hole\", \"bit\", \"knit\", \"back\", \"company\", \"idea\", \"dragon\", \"come\", \"bent\", \"ear\", \"make\", \"stay\", \"fit\", \"earring\", \"people\", \"get\", \"cool\", \"arrive\", \"define\", \"dirty\", \"blob\", \"wing\", \"unfinished\", \"ugly\", \"someone\", \"luck\", \"definition\", \"bar\", \"body\", \"rat\", \"move\", \"sense\", \"hour\", \"think\", \"average\", \"least\", \"opinion\", \"should\", \"gap\", \"thought\", \"rest\", \"photo\", \"trick\", \"worn\", \"bracelet\", \"issue\", \"tip\", \"stick\", \"look\", \"-PRON-\", \"metal\", \"good\", \"size\", \"color\", \"hole\", \"say\", \"hope\", \"ear\", \"dragon\", \"old\", \"get\", \"wear\", \"make\", \"review\", \"ship\", \"mom\", \"piercing\", \"long\", \"gorgeous\", \"coat\", \"different\", \"prevent\", \"residue\", \"design\", \"date\", \"real\", \"leave\", \"fingernail\", \"chip\", \"break\", \"shipping\", \"day\", \"could\", \"place\", \"package\", \"ask\", \"action\", \"work\", \"question\", \"appearance\", \"like\", \"choice\", \"less\", \"quick\", \"post\", \"open\", \"use\", \"estimate\", \"take\", \"way\", \"get\", \"ear\", \"buy\", \"piece\", \"would\", \"bent\", \"big\", \"stay\", \"wear\", \"support\", \"come\", \"small\", \"ring\", \"improvise\", \"requirement\", \"hate\", \"pin\", \"young\", \"grand\", \"outer\", \"fill\", \"correct\", \"necklace\", \"stud\", \"pay\", \"will\", \"pierce\", \"see\", \"beautiful\", \"use\", \"buy\", \"cool\", \"do\", \"fit\", \"daughter\", \"recommend\", \"could\", \"big\", \"ear\", \"want\", \"top\", \"make\", \"would\", \"wear\", \"piece\", \"look\", \"way\", \"small\", \"severe\", \"angle\", \"eye\", \"inexpensive\", \"nervous\", \"none\", \"pleased\", \"remedi\", \"spike\", \"catch\", \"heating\", \"starter\", \"conversation\", \"attach\", \"tight\", \"case\", \"snap\", \"afraid\", \"friend\", \"receive\", \"like\", \"much\", \"that\", \"side\", \"sore\", \"must\", \"tuck\", \"week\", \"aww\", \"upper\", \"happy\", \"bend\", \"enough\", \"piece\", \"fall\", \"top\", \"metal\", \"christma\", \"wear\", \"ear\", \"earring\", \"daughter\", \"good\", \"go\", \"hope\", \"order\", \"buy\", \"super\", \"seller\", \"fun\", \"store\", \"crack\", \"glue\", \"guess\", \"incredible\", \"outcome\", \"read\", \"cuff\", \"comfortable\", \"estimate\", \"star\", \"try\", \"know\", \"enough\", \"price\", \"able\", \"take\", \"review\", \"work\", \"do\", \"nice\", \"recommend\", \"big\", \"say\", \"want\", \"bend\", \"would\", \"ear\", \"good\", \"way\", \"look\", \"buy\", \"get\", \"qualify\", \"can\", \"poor\", \"item\", \"low\", \"packaging\", \"high\", \"stem\", \"deal\", \"accept\", \"breaker\", \"something\", \"quality\", \"back\", \"do\", \"expect\", \"lack\", \"price\", \"bend\", \"bit\", \"able\", \"could\", \"wear\", \"come\", \"recommend\", \"small\", \"bent\", \"fit\", \"whole\", \"hard\", \"earring\", \"ear\", \"person\", \"point\", \"righty\", \"death\", \"amazon\", \"begin\", \"dnt\", \"new\", \"give\", \"take\", \"worth\", \"disappointed\", \"friend\", \"know\", \"money\", \"break\", \"love\", \"product\", \"open\", \"review\", \"bad\", \"cheap\", \"get\", \"way\", \"make\", \"whole\", \"hard\", \"matching\", \"snake\", \"disappoint\", \"halloween\", \"enjoy\", \"fit\", \"ear\", \"stay\", \"waste\", \"loose\", \"tag\", \"nope\", \"suuuuuuper\", \"ish\", \"portray\", \"sell\", \"comfortable\", \"pay\", \"picture\", \"adjust\", \"tiny\", \"right\", \"figure\", \"bit\", \"support\", \"weight\", \"quality\", \"metal\", \"able\", \"bad\", \"size\", \"cheap\", \"expect\", \"heavy\", \"little\", \"bend\", \"would\", \"get\", \"hard\", \"whole\", \"ear\", \"fit\", \"shipment\", \"beeaaauuutiful\", \"s\", \"play\", \"many\", \"upper\", \"aww\", \"week\", \"tuck\", \"must\", \"sore\", \"side\", \"happy\", \"that\", \"keep\", \"open\", \"receive\", \"great\", \"-PRON-\", \"come\", \"cool\", \"say\", \"love\", \"top\", \"hard\", \"whole\", \"piece\", \"wear\", \"snake\", \"matching\", \"earring\", \"get\", \"make\", \"ear\", \"suggest\", \"winner\", \"chain\", \"throw\", \"own\", \"lose\", \"add\", \"refined\", \"remove\", \"stud\", \"sit\", \"care\", \"good\", \"arrive\", \"cheap\", \"heavy\", \"price\", \"item\", \"bent\", \"earring\", \"buy\", \"piece\", \"hard\", \"whole\", \"matching\", \"snake\", \"halloween\", \"enjoy\", \"disappoint\", \"undamaged\", \"hear\", \"dump\", \"people\", \"question\", \"money\", \"loose\", \"listing\", \"large\", \"entire\", \"other\", \"tail\", \"hook\", \"latch\", \"bottom\", \"put\", \"hole\", \"earring\", \"recommend\", \"top\", \"good\", \"dragon\", \"would\", \"fit\", \"whole\", \"hard\", \"matching\", \"snake\", \"disappoint\", \"halloween\", \"enjoy\", \"undamaged\", \"hear\", \"dump\", \"return\", \"show\", \"listing\", \"purchase\", \"bronze\", \"suggest\", \"loose\", \"ear\", \"buck\", \"because\", \"cent\", \"crap\", \"dollar\", \"entire\", \"send\", \"waste\", \"silver\", \"picture\", \"way\", \"-PRON-\", \"post\", \"small\", \"stay\", \"enjoy\", \"disappoint\", \"halloween\", \"girl\", \"fall\", \"gift\", \"time\", \"able\", \"daughter\", \"recommend\", \"dragon\", \"wear\", \"make\", \"get\", \"whole\", \"hard\", \"matching\", \"snake\", \"hear\", \"undamaged\", \"tail\", \"hook\", \"latch\", \"lose\", \"own\", \"throw\", \"add\", \"chain\", \"refined\", \"remove\", \"winner\", \"choice\", \"motivate\", \"knit\", \"form\", \"female\", \"fast\", \"send\", \"exotic\", \"show\", \"silver\", \"small\", \"stay\", \"waste\", \"action\", \"address\", \"appearance\", \"hear\", \"undamaged\", \"gift\", \"wrap\", \"box\", \"send\", \"have\", \"sister\", \"product\", \"come\", \"recommend\", \"would\", \"whole\", \"hard\", \"snake\", \"matching\", \"halloween\", \"disappoint\", \"enjoy\", \"tail\", \"latch\", \"hook\", \"refined\", \"throw\", \"lose\", \"winner\", \"suggest\", \"remove\", \"own\", \"chain\", \"add\", \"fit\", \"ear\", \"show\", \"money\", \"post\", \"purchase\", \"exotic\", \"elegant\", \"return\", \"company\", \"action\", \"choice\", \"waste\", \"silver\", \"ask\", \"appearance\", \"small\", \"address\", \"whole\", \"hard\", \"thank\", \"fall\", \"time\", \"wear\", \"find\", \"reshape\", \"cheap\", \"belief\", \"tear\", \"majority\", \"renaissance\", \"faire\", \"cause\", \"shame\", \"balance\", \"expect\", \"receipt\", \"crush\", \"near\", \"third\", \"summer\", \"place\", \"less\", \"star\", \"hope\", \"package\", \"work\", \"waste\", \"support\", \"try\", \"piece\", \"weight\", \"ear\", \"would\", \"could\", \"review\", \"snake\", \"matching\", \"thank\", \"wrap\", \"perfect\", \"want\", \"love\", \"get\", \"hard\", \"whole\", \"fit\", \"enjoy\", \"halloween\", \"disappoint\", \"undamaged\", \"hear\", \"latch\", \"tail\", \"hook\", \"winner\", \"lose\", \"own\", \"throw\", \"add\", \"chain\", \"refined\", \"suggest\", \"remove\", \"afraid\", \"snap\", \"ear\", \"spike\", \"silver\", \"ring\", \"show\", \"return\", \"purchase\", \"post\", \"send\", \"stay\", \"small\", \"loose\", \"waste\", \"action\", \"address\", \"appearance\", \"ask\", \"choice\", \"company\", \"money\", \"large\", \"listing\", \"hard\", \"whole\", \"matching\", \"snake\", \"disappoint\", \"enjoy\", \"halloween\", \"hear\", \"undamaged\", \"latch\", \"tail\", \"hook\", \"lose\", \"own\", \"throw\", \"add\", \"chain\", \"winner\", \"refined\", \"suggest\", \"remove\", \"afraid\", \"snap\", \"tight\", \"case\", \"attach\", \"eye\", \"catch\", \"heating\", \"conversation\", \"angle\", \"inexpensive\", \"starter\", \"nervous\", \"none\", \"ring\", \"stay\", \"loose\", \"money\", \"post\", \"purchase\", \"return\", \"send\", \"show\", \"silver\", \"small\", \"waste\", \"form\", \"action\", \"address\", \"appearance\", \"ask\", \"choice\", \"company\", \"elegant\", \"exotic\", \"fast\", \"listing\", \"large\", \"entire\", \"enough\", \"order\", \"pleased\", \"remedi\", \"dollar\", \"show\", \"return\", \"purchase\", \"dump\", \"buck\", \"cent\", \"bronze\", \"listing\", \"entire\", \"loose\", \"crap\", \"because\", \"breaker\", \"send\", \"silver\", \"stem\", \"packaging\", \"picture\", \"accept\", \"waste\", \"poor\", \"something\", \"deal\", \"bottom\", \"enough\", \"money\", \"whole\", \"hard\", \"back\", \"way\", \"lack\", \"-PRON-\", \"price\", \"small\", \"fit\", \"ear\", \"post\", \"earring\", \"bend\", \"dragon\", \"buy\"], \"Total\": [18.0, 41.0, 11.0, 9.0, 13.0, 10.0, 6.0, 5.0, 4.0, 5.0, 10.0, 6.0, 2.0, 5.0, 4.0, 4.0, 4.0, 4.0, 7.0, 4.0, 2.0, 6.0, 8.0, 2.0, 5.0, 2.0, 3.0, 3.0, 3.0, 3.0, 2.212472438812256, 2.0969619750976562, 2.016338348388672, 2.950988531112671, 2.657188892364502, 1.4101707935333252, 1.4101709127426147, 1.4101707935333252, 1.4101709127426147, 1.4101707935333252, 1.4101707935333252, 1.4101707935333252, 1.4101707935333252, 1.4101707935333252, 1.4101707935333252, 1.4101707935333252, 1.4101707935333252, 1.4101707935333252, 1.4101707935333252, 1.4101707935333252, 1.4101707935333252, 1.4101707935333252, 1.4101707935333252, 1.4101707935333252, 1.4101707935333252, 1.4101707935333252, 1.4101707935333252, 1.4101707935333252, 1.4101707935333252, 1.4101707935333252, 1.4101707935333252, 1.4101707935333252, 2.9160985946655273, 18.640592575073242, 41.24538803100586, 5.289135932922363, 10.84802532196045, 3.997796058654785, 3.2347943782806396, 6.156043529510498, 11.0535249710083, 4.3198418617248535, 7.3184099197387695, 6.774421215057373, 10.963379859924316, 13.515849113464355, 3.1893186569213867, 3.8942604064941406, 5.224993705749512, 5.204154014587402, 5.480216979980469, 4.837114334106445, 1.6758906841278076, 1.6758906841278076, 1.6758906841278076, 1.6758909225463867, 1.6758909225463867, 1.6758906841278076, 1.6758906841278076, 1.6758906841278076, 1.6758909225463867, 4.982640743255615, 2.4327855110168457, 2.223329544067383, 2.2828385829925537, 2.2828385829925537, 4.498559474945068, 2.3565986156463623, 2.3568813800811768, 2.3962016105651855, 2.418557643890381, 2.4215970039367676, 2.478192090988159, 3.7060022354125977, 3.831073522567749, 1.3469666242599487, 1.350350022315979, 1.371254324913025, 1.3568049669265747, 1.3511279821395874, 1.3666892051696777, 2.9893689155578613, 3.0900321006774902, 3.2347943782806396, 3.3002865314483643, 10.963379859924316, 9.357245445251465, 5.480216979980469, 8.00360107421875, 41.24538803100586, 5.224993705749512, 7.3184099197387695, 8.467733383178711, 13.515849113464355, 6.156043529510498, 4.863041400909424, 5.187878608703613, 4.954100608825684, 1.2737090587615967, 1.2737090587615967, 1.2737090587615967, 1.2737090587615967, 1.2737090587615967, 1.2737090587615967, 1.2737090587615967, 1.2737090587615967, 1.2737090587615967, 1.2737090587615967, 1.2737090587615967, 1.2737090587615967, 1.2737090587615967, 1.2737090587615967, 1.2737090587615967, 1.2737090587615967, 1.2737090587615967, 1.2737090587615967, 1.2737090587615967, 1.2737090587615967, 1.9967577457427979, 3.9537532329559326, 3.341243267059326, 1.7268080711364746, 4.14501953125, 4.801391124725342, 2.593846559524536, 1.2883172035217285, 3.479407787322998, 1.289323091506958, 2.0760104656219482, 6.210373878479004, 3.896451473236084, 5.5447001457214355, 41.24538803100586, 10.84802532196045, 5.480216979980469, 18.640592575073242, 11.0535249710083, 2.9766085147857666, 13.515849113464355, 3.4888317584991455, 3.7060022354125977, 1.6506030559539795, 1.6506030559539795, 1.6506030559539795, 1.6506030559539795, 1.6506030559539795, 1.6506030559539795, 1.6506030559539795, 1.6506030559539795, 1.6506030559539795, 2.4552202224731445, 2.4225234985351562, 2.377749443054199, 1.5362073183059692, 1.532028079032898, 1.5304378271102905, 1.5249361991882324, 1.5223227739334106, 1.520416259765625, 1.5181471109390259, 1.5135530233383179, 1.5108739137649536, 1.50839102268219, 1.5069512128829956, 2.389183759689331, 1.5008454322814941, 1.4987077713012695, 1.4953968524932861, 1.48820960521698, 1.4854360818862915, 1.483399748802185, 8.467733383178711, 3.9044411182403564, 2.8569440841674805, 6.091862678527832, 3.69881010055542, 3.1893186569213867, 4.801391124725342, 4.863041400909424, 3.769336223602295, 41.24538803100586, 6.210373878479004, 3.997796058654785, 13.515849113464355, 9.357245445251465, 10.84802532196045, 3.565382480621338, 2.062014579772949, 1.3183845281600952, 1.3183845281600952, 1.3183845281600952, 2.0714118480682373, 2.0793533325195312, 1.3346636295318604, 1.3369842767715454, 1.3377530574798584, 1.343300461769104, 1.343635082244873, 1.344566822052002, 1.344658613204956, 1.3446921110153198, 1.3452273607254028, 2.714418411254883, 1.3502750396728516, 1.3529688119888306, 4.208761692047119, 2.0500638484954834, 2.1126770973205566, 1.2977803945541382, 1.295935034751892, 3.5765063762664795, 1.2943484783172607, 1.2932085990905762, 1.9476975202560425, 1.2929329872131348, 1.3648862838745117, 1.2926040887832642, 5.224993705749512, 3.479806661605835, 3.0900321006774902, 2.0419604778289795, 3.276627540588379, 7.3184099197387695, 13.515849113464355, 41.24538803100586, 6.774421215057373, 8.00360107421875, 10.963379859924316, 5.5447001457214355, 4.3198418617248535, 5.480216979980469, 9.357245445251465, 2.595867156982422, 3.896451473236084, 6.156043529510498, 1.3114956617355347, 1.3114956617355347, 1.3114956617355347, 1.3114956617355347, 1.3114956617355347, 1.3114956617355347, 1.3114956617355347, 1.3114956617355347, 1.3114956617355347, 1.3114956617355347, 1.3114956617355347, 1.8752546310424805, 1.9184433221817017, 1.9940263032913208, 2.197756767272949, 2.2001149654388428, 2.9160985946655273, 3.0900321006774902, 6.774421215057373, 3.4888317584991455, 3.6899185180664062, 18.640592575073242, 3.8942604064941406, 4.157118797302246, 4.208761692047119, 4.3198418617248535, 41.24538803100586, 4.954100608825684, 5.1427083015441895, 10.84802532196045, 10.963379859924316, 9.357245445251465, 8.00360107421875, 8.467733383178711, 7.3184099197387695, 6.156043529510498, 1.2072627544403076, 1.2072627544403076, 1.2072627544403076, 1.2072627544403076, 1.2072627544403076, 1.2072627544403076, 1.2072627544403076, 1.2072627544403076, 1.2072627544403076, 1.2072627544403076, 1.2072627544403076, 1.2072627544403076, 1.2072627544403076, 1.2072588205337524, 1.2072584629058838, 1.2072584629058838, 1.2072577476501465, 1.2072557210922241, 2.4391636848449707, 2.9893689155578613, 1.9476975202560425, 2.009564161300659, 1.3076636791229248, 1.3093613386154175, 1.3208167552947998, 1.3269509077072144, 1.3278244733810425, 1.3289604187011719, 1.3296822309494019, 1.3297135829925537, 2.778580665588379, 5.2996039390563965, 2.6021668910980225, 8.00360107421875, 2.6702098846435547, 5.1427083015441895, 2.8569440841674805, 3.341243267059326, 9.357245445251465, 41.24538803100586, 11.0535249710083, 3.8942604064941406, 6.091862678527832, 4.14501953125, 3.769336223602295, 3.9537532329559326, 6.774421215057373, 1.3010972738265991, 1.3010972738265991, 1.3010972738265991, 1.3010972738265991, 1.3010972738265991, 1.3010972738265991, 1.3010972738265991, 1.3010972738265991, 1.3010973930358887, 1.3010973930358887, 2.7966270446777344, 1.9080449342727661, 2.0419604778289795, 2.045480966567993, 4.837114334106445, 2.59944486618042, 2.6021668910980225, 5.187878608703613, 3.085632801055908, 3.276627540588379, 3.565382480621338, 3.5765063762664795, 3.6899185180664062, 3.831073522567749, 4.157118797302246, 4.3198418617248535, 4.863041400909424, 4.954100608825684, 5.2996039390563965, 10.963379859924316, 41.24538803100586, 6.091862678527832, 7.3184099197387695, 8.467733383178711, 6.774421215057373, 13.515849113464355, 1.4907625913619995, 1.4907625913619995, 2.073448419570923, 5.204154014587402, 2.26267409324646, 2.0476434230804443, 2.301922559738159, 1.3379868268966675, 1.3530901670455933, 1.3387393951416016, 1.326298713684082, 1.3433488607406616, 2.763550281524658, 3.479407787322998, 3.6899185180664062, 4.498559474945068, 1.9967577457427979, 5.187878608703613, 5.2996039390563965, 2.593846559524536, 3.085632801055908, 4.208761692047119, 9.357245445251465, 3.896451473236084, 4.157118797302246, 6.156043529510498, 5.5447001457214355, 18.640592575073242, 0.8726752400398254, 0.8726752400398254, 11.0535249710083, 41.24538803100586, 1.8728842735290527, 1.2403767108917236, 1.2403767108917236, 1.2403767108917236, 1.2403767108917236, 1.2403767108917236, 1.2403767108917236, 1.2403767108917236, 2.6156504154205322, 3.276627540588379, 2.042678117752075, 2.042678117752075, 2.4391636848449707, 2.59944486618042, 2.6933224201202393, 2.714418411254883, 5.569138526916504, 3.238309621810913, 3.479806661605835, 3.565382480621338, 3.6578826904296875, 4.077527046203613, 13.515849113464355, 7.3184099197387695, 10.84802532196045, 0.8726752400398254, 0.8726752400398254, 1.004577875137329, 1.004577875137329, 1.0525857210159302, 1.0525857210159302, 1.0525857210159302, 18.640592575073242, 41.24538803100586, 5.480216979980469, 2.0916810035705566, 1.3375152349472046, 1.214816927909851, 1.214816927909851, 1.214816927909851, 1.214816927909851, 1.214816927909851, 1.214816927909851, 1.9080449342727661, 1.9184433221817017, 1.920760989189148, 2.017118453979492, 2.017118453979492, 2.2828385829925537, 2.2828385829925537, 2.593846559524536, 2.595867156982422, 2.7535645961761475, 2.763550281524658, 2.8569440841674805, 3.085632801055908, 3.6578826904296875, 3.69881010055542, 4.077527046203613, 4.498559474945068, 4.982640743255615, 5.289135932922363, 5.2996039390563965, 10.963379859924316, 13.515849113464355, 0.8726752400398254, 0.8726752400398254, 41.24538803100586, 18.640592575073242, 1.368435263633728, 1.3531100749969482, 1.3530677556991577, 1.3375672101974487, 1.3331773281097412, 1.3297135829925537, 1.3296822309494019, 1.3289604187011719, 1.3278244733810425, 1.3269509077072144, 1.3208167552947998, 1.3093613386154175, 2.778580665588379, 1.3076636791229248, 2.3962016105651855, 3.479806661605835, 2.9893689155578613, 3.3002865314483643, 3.9044411182403564, 3.896451473236084, 3.4888317584991455, 4.863041400909424, 5.569138526916504, 5.1427083015441895, 0.8726752400398254, 0.8726752400398254, 8.00360107421875, 9.357245445251465, 1.004577875137329, 1.004577875137329, 11.0535249710083, 13.515849113464355, 10.84802532196045, 41.24538803100586, 1.1716282367706299, 1.1716282367706299, 1.1716282367706299, 1.1716282367706299, 1.1716282367706299, 1.1716282367706299, 1.1716282367706299, 1.1716282367706299, 1.1716282367706299, 1.8752546310424805, 1.9173086881637573, 1.973929762840271, 6.091862678527832, 3.7060022354125977, 4.077527046203613, 4.982640743255615, 5.187878608703613, 5.204154014587402, 5.5447001457214355, 11.0535249710083, 6.774421215057373, 8.00360107421875, 0.8726752400398254, 0.8726752400398254, 1.004577875137329, 1.004577875137329, 1.0525857210159302, 1.0525857210159302, 1.0525857210159302, 1.060968279838562, 1.060968279838562, 1.320560097694397, 2.9766085147857666, 1.2943484783172607, 2.6933224201202393, 1.3375152349472046, 1.3278448581695557, 3.2347943782806396, 1.328761100769043, 1.7027467489242554, 1.1553080081939697, 1.1553080081939697, 1.1553080081939697, 2.4071311950683594, 2.223329544067383, 4.801391124725342, 11.0535249710083, 4.157118797302246, 5.1427083015441895, 6.091862678527832, 6.210373878479004, 10.963379859924316, 18.640592575073242, 0.8726752400398254, 0.8726752400398254, 1.004577875137329, 1.004577875137329, 1.0525857210159302, 1.0525857210159302, 1.0525857210159302, 1.060968279838562, 1.060968279838562, 1.320560097694397, 1.3148356676101685, 1.309365153312683, 1.3278448581695557, 1.3181164264678955, 1.325750708580017, 1.1716282367706299, 1.3375152349472046, 41.24538803100586, 1.322943091392517, 1.3427740335464478, 1.3259203433990479, 1.3401455879211426, 2.016338348388672, 1.328761100769043, 1.768232822418213, 2.0916810035705566, 2.0969619750976562, 1.920760989189148, 7.3184099197387695, 3.9044411182403564, 5.224993705749512, 6.156043529510498, 5.480216979980469, 1.0525857210159302, 1.0525857210159302, 1.0525857210159302, 2.657188892364502, 2.6702098846435547, 2.761085271835327, 2.984645128250122, 3.085632801055908, 3.8942604064941406, 4.157118797302246, 6.210373878479004, 9.357245445251465, 10.84802532196045, 13.515849113464355, 0.8726752400398254, 0.8726752400398254, 1.004577875137329, 1.004577875137329, 1.060968279838562, 1.060968279838562, 1.1553080081939697, 1.1553080081939697, 1.1553080081939697, 1.1716282367706299, 1.1716282367706299, 1.1716282367706299, 1.1716282367706299, 1.1716282367706299, 1.1716282367706299, 1.1716282367706299, 1.1716282367706299, 1.2929329872131348, 1.2925019264221191, 1.2883172035217285, 1.290427803993225, 1.2913285493850708, 1.290611743927002, 1.768232822418213, 1.2913661003112793, 1.309365153312683, 2.0969619750976562, 6.156043529510498, 5.480216979980469, 2.0916810035705566, 1.295935034751892, 1.2919728755950928, 1.2932085990905762, 1.060968279838562, 1.060968279838562, 2.761085271835327, 1.457676887512207, 1.7268080711364746, 1.768232822418213, 1.8632699251174927, 2.529109477996826, 3.238309621810913, 3.896451473236084, 4.157118797302246, 10.963379859924316, 0.8726752400398254, 0.8726752400398254, 1.004577875137329, 1.004577875137329, 1.0525857210159302, 1.0525857210159302, 1.0525857210159302, 1.1553080081939697, 1.1553080081939697, 1.1553080081939697, 1.1716282367706299, 1.1716282367706299, 1.1716282367706299, 1.1716282367706299, 1.1716282367706299, 1.1716282367706299, 1.1716282367706299, 1.1716282367706299, 1.1716282367706299, 18.640592575073242, 41.24538803100586, 1.309365153312683, 2.6933224201202393, 5.224993705749512, 1.3181164264678955, 1.2913661003112793, 1.2905739545822144, 1.3148356676101685, 1.289323091506958, 1.295935034751892, 1.2929329872131348, 2.0916810035705566, 2.0969619750976562, 1.2977803945541382, 1.2932085990905762, 6.156043529510498, 1.2919728755950928, 0.8726752400398254, 0.8726752400398254, 1.2693839073181152, 2.6702098846435547, 2.984645128250122, 9.357245445251465, 1.3051064014434814, 1.3469666242599487, 4.077527046203613, 1.3212064504623413, 1.3275338411331177, 1.350350022315979, 1.3219127655029297, 1.3434640169143677, 1.335518479347229, 1.331296443939209, 1.3511279821395874, 4.498559474945068, 1.3568049669265747, 1.371254324913025, 1.3666892051696777, 1.3543609380722046, 1.358126163482666, 2.0500638484954834, 1.3648862838745117, 2.045480966567993, 3.769336223602295, 2.1126770973205566, 3.5765063762664795, 2.0916810035705566, 2.595867156982422, 4.837114334106445, 8.00360107421875, 2.7535645961761475, 41.24538803100586, 10.963379859924316, 4.208761692047119, 3.565382480621338, 1.004577875137329, 1.004577875137329, 1.2693839073181152, 1.457676887512207, 2.4727189540863037, 4.954100608825684, 5.569138526916504, 13.515849113464355, 0.8726752400398254, 0.8726752400398254, 18.640592575073242, 1.0525857210159302, 1.0525857210159302, 1.0525857210159302, 1.060968279838562, 1.060968279838562, 1.1553080081939697, 1.1553080081939697, 1.1553080081939697, 1.1716282367706299, 1.1716282367706299, 1.1716282367706299, 1.1716282367706299, 1.1716282367706299, 1.1716282367706299, 1.1716282367706299, 1.1716282367706299, 1.1716282367706299, 1.2072557210922241, 1.2072577476501465, 41.24538803100586, 1.2072627544403076, 2.0969619750976562, 1.3114956617355347, 1.309365153312683, 1.3148356676101685, 1.3181164264678955, 5.224993705749512, 1.768232822418213, 5.480216979980469, 6.156043529510498, 1.3375152349472046, 2.0916810035705566, 1.295935034751892, 1.2919728755950928, 1.2932085990905762, 1.2977803945541382, 1.2929329872131348, 1.289323091506958, 2.6933224201202393, 3.2347943782806396, 1.3278448581695557, 0.8726752400398254, 0.8726752400398254, 1.004577875137329, 1.004577875137329, 1.0525857210159302, 1.0525857210159302, 1.0525857210159302, 1.060968279838562, 1.060968279838562, 1.1553080081939697, 1.1553080081939697, 1.1553080081939697, 1.1716282367706299, 1.1716282367706299, 1.1716282367706299, 1.1716282367706299, 1.1716282367706299, 1.1716282367706299, 1.1716282367706299, 1.1716282367706299, 1.1716282367706299, 1.2072557210922241, 1.2072577476501465, 1.2072584629058838, 1.2072584629058838, 1.2072588205337524, 1.2072627544403076, 1.2072627544403076, 1.2072627544403076, 1.2072627544403076, 1.2072627544403076, 1.2072627544403076, 1.2072627544403076, 1.2072627544403076, 1.2072627544403076, 1.3114956617355347, 5.480216979980469, 1.3375152349472046, 2.6933224201202393, 5.224993705749512, 1.3181164264678955, 1.3148356676101685, 1.768232822418213, 1.309365153312683, 2.0969619750976562, 6.156043529510498, 2.0916810035705566, 1.290427803993225, 1.295935034751892, 1.2919728755950928, 1.2932085990905762, 1.2977803945541382, 1.2929329872131348, 1.289323091506958, 1.2905739545822144, 1.2913661003112793, 1.290611743927002, 1.3278448581695557, 3.2347943782806396, 1.328761100769043, 2.6021668910980225, 3.9537532329559326, 1.2072627544403076, 1.2072627544403076, 2.016338348388672, 1.309365153312683, 1.3148356676101685, 1.3181164264678955, 1.320560097694397, 1.322943091392517, 1.3259203433990479, 1.325750708580017, 1.3278448581695557, 1.328761100769043, 1.3375152349472046, 1.3401455879211426, 1.3427740335464478, 1.326298713684082, 1.768232822418213, 2.0969619750976562, 1.3379868268966675, 2.0476434230804443, 1.920760989189148, 1.3387393951416016, 2.0916810035705566, 2.073448419570923, 1.3433488607406616, 1.3530901670455933, 2.4071311950683594, 2.6021668910980225, 2.6933224201202393, 0.8726752400398254, 0.8726752400398254, 3.479407787322998, 7.3184099197387695, 1.9967577457427979, 3.9044411182403564, 5.187878608703613, 6.156043529510498, 18.640592575073242, 41.24538803100586, 5.224993705749512, 11.0535249710083, 5.2996039390563965, 6.210373878479004, 6.774421215057373], \"loglift\": [30.0, 29.0, 28.0, 27.0, 26.0, 25.0, 24.0, 23.0, 22.0, 21.0, 20.0, 19.0, 18.0, 17.0, 16.0, 15.0, 14.0, 13.0, 12.0, 11.0, 10.0, 9.0, 8.0, 7.0, 6.0, 5.0, 4.0, 3.0, 2.0, 1.0, 1.4948999881744385, 1.4636000394821167, 1.4392999410629272, 1.3456000089645386, 1.3116999864578247, 1.2762999534606934, 1.2762999534606934, 1.2762999534606934, 1.2762999534606934, 1.2762999534606934, 1.2762999534606934, 1.2762999534606934, 1.2762999534606934, 1.2762999534606934, 1.2762999534606934, 1.2762999534606934, 1.2762999534606934, 1.2762999534606934, 1.2762999534606934, 1.2762999534606934, 1.2762999534606934, 1.2762999534606934, 1.2762999534606934, 1.2762999534606934, 1.2762999534606934, 1.2762999534606934, 1.2762999534606934, 1.2762999534606934, 1.2762999534606934, 1.2762999534606934, 1.2762999534606934, 1.2762999534606934, 1.2187999486923218, 1.05239999294281, 0.6126999855041504, 1.0206999778747559, 0.85589998960495, 1.0607000589370728, 1.0817999839782715, 0.9003000259399414, 0.6126999855041504, 0.8258000016212463, 0.4106999933719635, 0.3070000112056732, -0.01269999984651804, -0.20499999821186066, 0.698199987411499, 0.49799999594688416, 0.24740000069141388, 0.18870000541210175, 0.05490000173449516, 0.04360000044107437, 1.690000057220459, 1.690000057220459, 1.690000057220459, 1.690000057220459, 1.690000057220459, 1.690000057220459, 1.690000057220459, 1.690000057220459, 1.690000057220459, 1.6668000221252441, 1.6649999618530273, 1.4074000120162964, 1.3809000253677368, 1.3809000253677368, 1.3717000484466553, 1.3490999937057495, 1.3489999771118164, 1.3324999809265137, 1.323199987411499, 1.3219000101089478, 1.298799991607666, 1.2807999849319458, 1.2404999732971191, 1.1683000326156616, 1.1589000225067139, 1.1571999788284302, 1.1262999773025513, 1.121000051498413, 1.117400050163269, 1.111299991607666, 1.0781999826431274, 1.0324000120162964, 1.0124000310897827, 0.8263000249862671, 0.8115000128746033, 0.891700029373169, 0.756600022315979, 0.2632000148296356, 0.8755000233650208, 0.5382000207901001, 0.44290000200271606, -0.059300001710653305, 0.3889000117778778, 0.6247000098228455, 0.5600000023841858, 0.6061999797821045, 1.7383999824523926, 1.7383999824523926, 1.7383999824523926, 1.7383999824523926, 1.7383999824523926, 1.7383999824523926, 1.7383999824523926, 1.7383999824523926, 1.7383999824523926, 1.7383999824523926, 1.7383999824523926, 1.7383999824523926, 1.7383999824523926, 1.7383999824523926, 1.7383999824523926, 1.7383999824523926, 1.7383999824523926, 1.7383999824523926, 1.7383999824523926, 1.7383999824523926, 1.7021000385284424, 1.5537999868392944, 1.4429999589920044, 1.4341000318527222, 1.4280999898910522, 1.4256000518798828, 1.4221999645233154, 1.3538999557495117, 1.340999960899353, 1.3214999437332153, 1.249899983406067, 1.0393999814987183, 1.0432000160217285, 0.8859000205993652, -0.51910001039505, 0.2653999924659729, 0.6277999877929688, -0.34779998660087585, -0.12950000166893005, 0.96670001745224, -0.5378000140190125, 0.7307999730110168, 0.6704000234603882, 1.9931000471115112, 1.9931000471115112, 1.9931000471115112, 1.9931000471115112, 1.9931000471115112, 1.9931000471115112, 1.9931000471115112, 1.9931000471115112, 1.9931000471115112, 1.8966000080108643, 1.8468999862670898, 1.7720999717712402, 1.7237999439239502, 1.7115000486373901, 1.7067999839782715, 1.6901999711990356, 1.6821999549865723, 1.676300048828125, 1.6691999435424805, 1.6547000408172607, 1.6460000276565552, 1.6378999948501587, 1.6332000494003296, 1.6232999563217163, 1.6126999855041504, 1.6053999662399292, 1.593999981880188, 1.5684000253677368, 1.55840003490448, 1.5508999824523926, 1.424299955368042, 1.442199945449829, 1.4444999694824219, 1.1677000522613525, 1.2821999788284302, 1.3344000577926636, 1.062999963760376, 1.0432000160217285, 1.1674000024795532, -0.13830000162124634, 0.8575000166893005, 1.1085000038146973, 0.23680000007152557, 0.2581000030040741, 0.11029999703168869, 0.8898000121116638, 1.9092999696731567, 1.881100058555603, 1.881100058555603, 1.881100058555603, 1.8422000408172607, 1.7824000120162964, 1.6837999820709229, 1.6526999473571777, 1.642199993133545, 1.5633000135421753, 1.5583000183105469, 1.5443999767303467, 1.5430999994277954, 1.5426000356674194, 1.534500002861023, 1.4970999956130981, 1.455399990081787, 1.4106999635696411, 1.3758000135421753, 1.3731000423431396, 1.368399977684021, 1.3184000253677368, 1.2470999956130981, 1.198099970817566, 1.1813000440597534, 1.13100004196167, 1.1191999912261963, 1.118499994277954, 1.1102999448776245, 1.1032999753952026, 1.0791000127792358, 1.0418000221252441, 1.0292999744415283, 1.0654000043869019, 0.9707000255584717, 0.7448999881744385, 0.4675000011920929, -0.0017999999690800905, 0.5490000247955322, 0.32850000262260437, 0.12039999663829803, 0.5379999876022339, 0.6942999958992004, 0.49939998984336853, -0.006599999964237213, 0.9348999857902527, 0.5376999974250793, 0.08569999784231186, 2.2578001022338867, 2.2578001022338867, 2.2578001022338867, 2.2578001022338867, 2.2578001022338867, 2.2578001022338867, 2.2578001022338867, 2.2578001022338867, 2.2578001022338867, 2.2578001022338867, 2.2578001022338867, 1.9002000093460083, 1.877500057220459, 1.8387999534606934, 1.7415000200271606, 1.7404999732971191, 1.4586999416351318, 1.4007999897003174, 1.2848999500274658, 1.2793999910354614, 1.2233999967575073, 1.1742000579833984, 1.1694999933242798, 1.104200005531311, 1.0917999744415283, 1.0657999515533447, 0.9634000062942505, 0.9287999868392944, 0.8913999795913696, 0.8140000104904175, 0.8034999966621399, 0.29280000925064087, 0.44909998774528503, 0.3926999866962433, 0.5386000275611877, 0.7114999890327454, 2.2151999473571777, 2.2151999473571777, 2.2151999473571777, 2.2151999473571777, 2.2151999473571777, 2.2151999473571777, 2.2151999473571777, 2.2151999473571777, 2.2151999473571777, 2.2151999473571777, 2.2151999473571777, 2.2151999473571777, 2.2151999473571777, 2.2151999473571777, 2.2151999473571777, 2.2151999473571777, 2.2151999473571777, 2.2151999473571777, 2.180999994277954, 1.7414000034332275, 1.736899971961975, 1.7057000398635864, 1.6898000240325928, 1.6789000034332275, 1.6033999919891357, 1.5609999895095825, 1.554900050163269, 1.5468000173568726, 1.541700005531311, 1.5414999723434448, 1.4996999502182007, 1.4049999713897705, 1.4471999406814575, 1.2627999782562256, 1.4213999509811401, 1.1904000043869019, 1.3538000583648682, 1.1971999406814575, 0.6025999784469604, -0.43950000405311584, 0.4099999964237213, 1.044100046157837, 0.5965999960899353, 0.9817000031471252, 1.07669997215271, 1.0289000272750854, 0.4903999865055084, 2.4347000122070312, 2.4347000122070312, 2.4347000122070312, 2.4347000122070312, 2.4347000122070312, 2.4347000122070312, 2.4347000122070312, 2.4347000122070312, 2.4347000122070312, 2.4347000122070312, 2.338599920272827, 2.0518999099731445, 1.9839999675750732, 1.982300043106079, 1.7906999588012695, 1.7426999807357788, 1.7416000366210938, 1.7207000255584717, 1.5712000131607056, 1.5111000537872314, 1.4266999959945679, 1.4235999584197998, 1.3924000263214111, 1.3547999858856201, 1.2731000185012817, 1.2346999645233154, 1.1162999868392944, 1.0976999998092651, 1.0303000211715698, 0.9724000096321106, -0.35249999165534973, 0.890999972820282, 0.7075999975204468, 0.5616999864578247, 0.7847999930381775, 0.0940999984741211, 2.6417999267578125, 2.6417999267578125, 2.276700019836426, 2.274199962615967, 2.224600076675415, 2.2165000438690186, 2.20740008354187, 2.132200002670288, 2.126800060272217, 2.0996999740600586, 2.059999942779541, 2.0494000911712646, 2.024600028991699, 1.782099962234497, 1.7354999780654907, 1.5374000072479248, 1.5202000141143799, 1.3947999477386475, 1.2985999584197998, 1.2768000364303589, 1.228600025177002, 0.9289000034332275, 0.8050000071525574, 0.7774999737739563, 0.7608000040054321, 0.5626000165939331, 0.5625, 0.49720001220703125, 0.13279999792575836, 0.13279999792575836, 0.11410000175237656, -1.618499994277954, 2.9226999282836914, 2.6656999588012695, 2.6656999588012695, 2.6656999588012695, 2.6656999588012695, 2.6656999588012695, 2.6656999588012695, 2.6656999588012695, 2.58870005607605, 2.3633999824523926, 2.1668999195098877, 2.1668999195098877, 1.9895000457763672, 1.9257999658584595, 1.8903000354766846, 1.8825000524520874, 1.832900047302246, 1.7060999870300293, 1.6340999603271484, 1.6097999811172485, 1.5842000246047974, 1.475600004196167, 1.3436000347137451, 0.8906999826431274, 0.49709999561309814, -0.0272000003606081, -0.0272000003606081, -0.1679999977350235, -0.1679999977350235, -0.21469999849796295, -0.21469999849796295, -0.21469999849796295, -3.08870005607605, -3.8828999996185303, -1.8645999431610107, -0.9014000296592712, -0.45419999957084656, 2.7067999839782715, 2.7067999839782715, 2.7067999839782715, 2.7067999839782715, 2.7067999839782715, 2.7067999839782715, 2.2553000450134277, 2.2499001026153564, 2.248699903488159, 2.1998000144958496, 2.1998000144958496, 2.0759999752044678, 2.0759999752044678, 1.9483000040054321, 1.9474999904632568, 1.8884999752044678, 1.8848999738693237, 1.851699948310852, 1.7747000455856323, 1.6045000553131104, 1.593400001525879, 1.49590003490448, 1.3976999521255493, 1.2955000400543213, 1.23580002784729, 1.2338000535964966, 0.5069000124931335, 0.29760000109672546, -0.006899999920278788, -0.006899999920278788, -0.14910000562667847, -3.0683999061584473, 2.4986000061035156, 2.4179000854492188, 2.4177000522613525, 2.32669997215271, 2.2990000247955322, 2.276400089263916, 2.27620005607605, 2.271399974822998, 2.2637999057769775, 2.2578999996185303, 2.2153000831604004, 2.1294000148773193, 2.126800060272217, 2.115799903869629, 1.6761000156402588, 1.5418000221252441, 1.4074000120162964, 1.3657000064849854, 1.2965999841690063, 1.2676000595092773, 1.2139999866485596, 1.0390000343322754, 1.0286999940872192, 0.8928999900817871, 0.3743000030517578, 0.3743000030517578, 0.2728999853134155, 0.25839999318122864, 0.23360000550746918, 0.23360000550746918, 0.17560000717639923, 0.06270000338554382, 0.005499999970197678, -1.0347000360488892, 2.8512001037597656, 2.8512001037597656, 2.8512001037597656, 2.8512001037597656, 2.8512001037597656, 2.8512001037597656, 2.8512001037597656, 2.8512001037597656, 2.8512001037597656, 2.3808999061584473, 2.3587000370025635, 2.3296000957489014, 2.2690000534057617, 1.6996999979019165, 1.604099988937378, 1.4036999940872192, 1.3632999658584595, 1.360200047492981, 1.2968000173568726, 1.2759000062942505, 1.096500039100647, 0.9297000169754028, 0.10130000114440918, 0.10130000114440918, -0.039500001817941666, -0.039500001817941666, -0.08609999716281891, -0.08609999716281891, -0.08609999716281891, -0.0940999984741211, -0.0940999984741211, -0.31290000677108765, -1.1256999969482422, -0.2928999960422516, -1.0256999731063843, -0.3257000148296356, -0.31839999556541443, -1.208899974822998, -0.3190999925136566, 3.2607998847961426, 2.979599952697754, 2.979599952697754, 2.979599952697754, 2.918800115585327, 2.325000047683716, 2.224100112915039, 1.7896000146865845, 1.6992000341415405, 1.4864000082015991, 1.3171000480651855, 1.3047000169754028, 0.7346000075340271, 0.2167000025510788, 0.21570000052452087, 0.21570000052452087, 0.07490000128746033, 0.07490000128746033, 0.028200000524520874, 0.028200000524520874, 0.028200000524520874, 0.0203000009059906, 0.0203000009059906, -0.04879999905824661, -0.0502999983727932, -0.05299999937415123, -0.06030000001192093, -0.06800000369548798, -0.06889999657869339, -0.07890000194311142, -0.0925000011920929, -0.5728999972343445, -0.09149999916553497, -0.10509999841451645, -0.10369999706745148, -0.13339999318122864, -0.41600000858306885, -0.12759999930858612, -0.357699990272522, -0.5116999745368958, -0.5242000222206116, -0.4514999985694885, -1.6878000497817993, -1.1049000024795532, -1.4387999773025513, -1.608199954032898, -1.496999979019165, 3.247999906539917, 3.247999906539917, 3.247999906539917, 2.322000026702881, 2.3171000480651855, 2.283600091934204, 2.205699920654297, 2.172499895095825, 1.9397000074386597, 1.874400019645691, 1.4730000495910645, 1.063099980354309, 0.9151999950408936, 0.6953999996185303, 0.39089998602867126, 0.39089998602867126, 0.2500999867916107, 0.2500999867916107, 0.19550000131130219, 0.19550000131130219, 0.11029999703168869, 0.11029999703168869, 0.11029999703168869, 0.09629999846220016, 0.09629999846220016, 0.09629999846220016, 0.09629999846220016, 0.09629999846220016, 0.09629999846220016, 0.09629999846220016, 0.09629999846220016, -0.002199999988079071, -0.0019000000320374966, 0.00139999995008111, -0.0003000000142492354, -0.0010000000474974513, -0.00039999998989515007, -0.31529998779296875, -0.0010000000474974513, -0.014800000004470348, -0.48579999804496765, -1.5627000331878662, -1.4464000463485718, -0.48330000042915344, -0.0044999998062849045, -0.001500000013038516, -0.002400000113993883, 3.2711000442504883, 3.2711000442504883, 2.9837000370025635, 2.953399896621704, 2.7839999198913574, 2.7602999210357666, 2.707900047302246, 2.402400016784668, 2.1552000045776367, 1.9701999425888062, 1.905400037765503, 0.935699999332428, 0.4219000041484833, 0.4219000041484833, 0.28110000491142273, 0.28110000491142273, 0.2345000058412552, 0.2345000058412552, 0.2345000058412552, 0.1412999927997589, 0.1412999927997589, 0.1412999927997589, 0.12729999423027039, 0.12729999423027039, 0.12729999423027039, 0.12729999423027039, 0.12729999423027039, 0.12729999423027039, 0.12729999423027039, 0.12729999423027039, 0.12729999423027039, -2.6396000385284424, -3.433799982070923, 0.016200000420212746, -0.7050999999046326, -1.3676999807357788, 0.009499999694526196, 0.029999999329447746, 0.03060000017285347, 0.012000000104308128, 0.031599998474121094, 0.026499999687075615, 0.02879999950528145, -0.4523000121116638, -0.454800009727478, 0.025100000202655792, 0.028599999845027924, -1.5317000150680542, 0.029500000178813934, 3.1614999771118164, 3.1614999771118164, 2.786799907684326, 2.265399932861328, 2.1298000812530518, 1.957200050354004, 1.7345000505447388, 1.6216000318527222, 1.6197999715805054, 1.6153000593185425, 1.6025999784469604, 1.5888999700546265, 1.5707999467849731, 1.563099980354309, 1.5547000169754028, 1.5534000396728516, 1.538699984550476, 1.5214999914169312, 1.5056999921798706, 1.4426000118255615, 1.4223999977111816, 1.4076000452041626, 1.3539999723434448, 1.292799949645996, 1.2199000120162964, 1.1562999486923218, 1.0853999853134155, 1.0281000137329102, 1.0002000331878662, 0.9657999873161316, 0.9567999839782715, 0.9143000245094299, 0.2849999964237213, 0.8658999800682068, -1.065600037574768, -0.19750000536441803, 0.4666000008583069, 0.5800999999046326, 3.4249000549316406, 3.4249000549316406, 3.190999984741211, 3.0525999069213867, 2.524199962615967, 1.829300045967102, 1.7122000455856323, 0.8256000280380249, 0.5212000012397766, 0.5212000012397766, 0.5041000247001648, 0.3337000012397766, 0.3337000012397766, 0.3337000012397766, 0.32580000162124634, 0.32580000162124634, 0.24060000479221344, 0.24060000479221344, 0.24060000479221344, 0.22660000622272491, 0.22660000622272491, 0.22660000622272491, 0.22660000622272491, 0.22660000622272491, 0.22660000622272491, 0.22660000622272491, 0.22660000622272491, 0.22660000622272491, 0.19660000503063202, 0.19660000503063202, -0.29010000824928284, 0.19660000503063202, -0.3555000126361847, 0.11379999667406082, 0.11540000140666962, 0.11129999905824661, 0.1088000014424324, -1.2684999704360962, -0.1850000023841858, -1.3162000179290771, -1.4325000047683716, 0.094200000166893, -0.3529999852180481, 0.1256999969482422, 0.12880000472068787, 0.12780000269412994, 0.12430000305175781, 0.12809999287128448, 0.13079999387264252, -0.6057999730110168, -0.7889999747276306, 0.10140000283718109, 0.9485999941825867, 0.9485999941825867, 0.8077999949455261, 0.8077999949455261, 0.7612000107765198, 0.7612000107765198, 0.7612000107765198, 0.7531999945640564, 0.7531999945640564, 0.6679999828338623, 0.6679999828338623, 0.6679999828338623, 0.6539999842643738, 0.6539999842643738, 0.6539999842643738, 0.6539999842643738, 0.6539999842643738, 0.6539999842643738, 0.6539999842643738, 0.6539999842643738, 0.6539999842643738, 0.6241000294685364, 0.6241000294685364, 0.6241000294685364, 0.6241000294685364, 0.6241000294685364, 0.6241000294685364, 0.6241000294685364, 0.6241000294685364, 0.6241000294685364, 0.6241000294685364, 0.6241000294685364, 0.6241000294685364, 0.6241000294685364, 0.6241000294685364, 0.5411999821662903, -0.888700008392334, 0.5216000080108643, -0.17839999496936798, -0.8410000205039978, 0.5361999869346619, 0.5386999845504761, 0.24240000545978546, 0.542900025844574, 0.07190000265836716, -1.0049999952316284, 0.07440000027418137, 0.5573999881744385, 0.5532000064849854, 0.5562000274658203, 0.5552999973297119, 0.551800012588501, 0.5554999709129333, 0.5583000183105469, 0.5572999715805054, 0.5566999912261963, 0.5572999715805054, 0.5289000272750854, -0.36160001158714294, 0.5281999707221985, -0.14390000700950623, -0.5623000264167786, 0.6241000294685364, 0.6241000294685364, 1.6562000513076782, 1.5568000078201294, 1.5104000568389893, 1.4838999509811401, 1.4599000215530396, 1.44350004196167, 1.4176000356674194, 1.4149999618530273, 1.3941999673843384, 1.3938000202178955, 1.3033000230789185, 1.281599998474121, 1.25, 1.2200000286102295, 1.2130999565124512, 1.1895999908447266, 1.1836999654769897, 1.1604000329971313, 1.141700029373169, 1.121000051498413, 1.1171000003814697, 1.0529999732971191, 0.9667999744415283, 0.9643999934196472, 0.9239000082015991, 0.8748999834060669, 0.802299976348877, 0.6333000063896179, 0.6333000063896179, 0.5587000250816345, 0.453000009059906, 0.5428000092506409, 0.4065000116825104, 0.336899995803833, 0.2915000021457672, -0.24150000512599945, -0.8194000124931335, 0.3086000084877014, -0.3862999975681305, 0.13950000703334808, -0.03689999878406525, -0.12849999964237213], \"logprob\": [30.0, 29.0, 28.0, 27.0, 26.0, 25.0, 24.0, 23.0, 22.0, 21.0, 20.0, 19.0, 18.0, 17.0, 16.0, 15.0, 14.0, 13.0, 12.0, 11.0, 10.0, 9.0, 8.0, 7.0, 6.0, 5.0, 4.0, 3.0, 2.0, 1.0, -4.450300216674805, -4.535200119018555, -4.598700046539307, -4.311600208282471, -4.450300216674805, -5.1194000244140625, -5.1194000244140625, -5.1194000244140625, -5.1194000244140625, -5.1194000244140625, -5.1194000244140625, -5.1194000244140625, -5.1194000244140625, -5.1194000244140625, -5.1194000244140625, -5.1194000244140625, -5.1194000244140625, -5.1194000244140625, -5.1194000244140625, -5.1194000244140625, -5.1194000244140625, -5.1194000244140625, -5.1194000244140625, -5.1194000244140625, -5.1194000244140625, -5.1194000244140625, -5.1194000244140625, -5.1194000244140625, -5.1194000244140625, -5.1194000244140625, -5.1194000244140625, -5.1194000244140625, -4.450300216674805, -2.7616000175476074, -2.407099962234497, -4.052999973297119, -3.4993999004364014, -4.292900085449219, -4.48360013961792, -4.021599769592285, -3.723900079727173, -4.450300216674805, -4.3383002281188965, -4.519100189208984, -4.357500076293945, -4.3404998779296875, -4.881400108337402, -4.881899833679199, -4.838500022888184, -4.901199817657471, -4.98330020904541, -5.1194000244140625, -4.5329999923706055, -4.5329999923706055, -4.5329999923706055, -4.5329999923706055, -4.5329999923706055, -4.5329999923706055, -4.5329999923706055, -4.5329999923706055, -4.5329999923706055, -3.466599941253662, -4.185299873352051, -4.5329999923706055, -4.5329999923706055, -4.5329999923706055, -3.8638999462127686, -4.5329999923706055, -4.5329999923706055, -4.5329999923706055, -4.5329999923706055, -4.5329999923706055, -4.5329999923706055, -4.148600101470947, -4.155700206756592, -5.273200035095215, -5.280099868774414, -5.26639986038208, -5.3078999519348145, -5.317399978637695, -5.309599876403809, -4.5329999923706055, -4.5329999923706055, -4.5329999923706055, -4.5329999923706055, -3.5185000896453857, -3.691699981689453, -4.146500110626221, -3.9028000831604004, -2.7565999031066895, -4.210400104522705, -4.210700035095215, -4.160099983215332, -4.194699764251709, -4.5329999923706055, -4.5329999923706055, -4.5329999923706055, -4.5329999923706055, -4.758999824523926, -4.758999824523926, -4.758999824523926, -4.758999824523926, -4.758999824523926, -4.758999824523926, -4.758999824523926, -4.758999824523926, -4.758999824523926, -4.758999824523926, -4.758999824523926, -4.758999824523926, -4.758999824523926, -4.758999824523926, -4.758999824523926, -4.758999824523926, -4.758999824523926, -4.758999824523926, -4.758999824523926, -4.758999824523926, -4.345699787139893, -3.810800075531006, -4.090000152587891, -4.758999824523926, -3.889400005340576, -3.744800090789795, -4.363999843597412, -5.1321001052856445, -4.151500225067139, -5.16379976272583, -4.758999824523926, -3.873699903488159, -4.336100101470947, -4.140600204467773, -3.5388998985290527, -4.090000152587891, -4.410399913787842, -4.161799907684326, -4.466100215911865, -4.6819000244140625, -4.673299789428711, -4.758999824523926, -4.758999824523926, -4.245100021362305, -4.245100021362305, -4.245100021362305, -4.245100021362305, -4.245100021362305, -4.245100021362305, -4.245100021362305, -4.245100021362305, -4.245100021362305, -3.944499969482422, -4.007599830627441, -4.101099967956543, -4.586299896240234, -4.601200103759766, -4.60699987411499, -4.627099990844727, -4.636899948120117, -4.644000053405762, -4.652599811553955, -4.670199871063232, -4.680600166320801, -4.690400123596191, -4.696100234985352, -4.245100021362305, -4.720600128173828, -4.729300022125244, -4.743000030517578, -4.7733001708984375, -4.785299777984619, -4.794099807739258, -3.1786999702453613, -3.9351000785827637, -4.245100021362305, -3.7646000385284424, -4.149099826812744, -4.245100021362305, -4.107399940490723, -4.114500045776367, -4.245100021362305, -3.158099889755249, -4.055600166320801, -4.245100021362305, -3.898699998855591, -4.245100021362305, -4.245100021362305, -4.578199863433838, -4.106299877166748, -4.5817999839782715, -4.5817999839782715, -4.5817999839782715, -4.168900012969971, -4.224899768829346, -4.7667999267578125, -4.796199798583984, -4.80620002746582, -4.880899906158447, -4.8856000900268555, -4.898799896240234, -4.900100231170654, -4.900599956512451, -4.908299922943115, -4.24370002746582, -4.98360013961792, -5.026299953460693, -3.9263999462127686, -4.648399829864502, -4.622900009155273, -5.160299777984619, -5.232999801635742, -4.2667999267578125, -5.300099849700928, -5.351200103759766, -4.953499794006348, -5.363999843597412, -5.317999839782715, -5.37939977645874, -4.006800174713135, -4.4506001472473145, -4.5817999839782715, -4.960000038146973, -4.5817999839782715, -4.004000186920166, -3.6679999828338623, -3.0216000080108643, -4.277200222015381, -4.330900192260742, -4.224400043487549, -4.488500118255615, -4.5817999839782715, -4.53879976272583, -4.509799957275391, -4.850500106811523, -4.841599941253662, -4.83620023727417, -4.210400104522705, -4.210400104522705, -4.210400104522705, -4.210400104522705, -4.210400104522705, -4.210400104522705, -4.210400104522705, -4.210400104522705, -4.210400104522705, -4.210400104522705, -4.210400104522705, -4.210400104522705, -4.210400104522705, -4.210400104522705, -4.210400104522705, -4.210400104522705, -4.210400104522705, -4.210400104522705, -3.541300058364868, -4.210400104522705, -4.210400104522705, -2.6398000717163086, -4.210400104522705, -4.210400104522705, -4.210400104522705, -4.210400104522705, -2.0564000606536865, -4.210400104522705, -4.210400104522705, -3.541300058364868, -3.541300058364868, -4.210400104522705, -4.210400104522705, -4.210400104522705, -4.210400104522705, -4.210400104522705, -4.3358001708984375, -4.3358001708984375, -4.3358001708984375, -4.3358001708984375, -4.3358001708984375, -4.3358001708984375, -4.3358001708984375, -4.3358001708984375, -4.3358001708984375, -4.3358001708984375, -4.3358001708984375, -4.3358001708984375, -4.3358001708984375, -4.3358001708984375, -4.3358001708984375, -4.3358001708984375, -4.3358001708984375, -4.3358001708984375, -3.6666998863220215, -3.902899980545044, -4.3358001708984375, -4.3358001708984375, -4.781300067901611, -4.790900230407715, -4.857699871063232, -4.895400047302246, -4.900899887084961, -4.908100128173828, -4.912700176239014, -4.912899971008301, -4.217700004577637, -3.6666998863220215, -4.3358001708984375, -3.3966000080108643, -4.3358001708984375, -3.911400079727173, -4.3358001708984375, -4.3358001708984375, -3.900599956512451, -3.4593000411987305, -3.9265999794006348, -4.3358001708984375, -4.3358001708984375, -4.3358001708984375, -4.3358001708984375, -4.3358001708984375, -4.3358001708984375, -4.041399955749512, -4.041399955749512, -4.041399955749512, -4.041399955749512, -4.041399955749512, -4.041399955749512, -4.041399955749512, -4.041399955749512, -4.041399955749512, -4.041399955749512, -3.372299909591675, -4.041399955749512, -4.041399955749512, -4.041399955749512, -3.372299909591675, -4.041399955749512, -4.041399955749512, -3.372299909591675, -4.041399955749512, -4.041399955749512, -4.041399955749512, -4.041399955749512, -4.041399955749512, -4.041399955749512, -4.041399955749512, -4.041399955749512, -4.041399955749512, -4.041399955749512, -4.041399955749512, -3.372299909591675, -3.372299909591675, -4.041399955749512, -4.041399955749512, -4.041399955749512, -4.041399955749512, -4.041399955749512, -3.698199987411499, -3.698199987411499, -3.7334001064300537, -2.815700054168701, -3.698199987411499, -3.8062000274658203, -3.698199987411499, -4.315999984741211, -4.310100078582764, -4.347899913787842, -4.396999835968018, -4.394800186157227, -3.698199987411499, -3.7102999687194824, -3.698199987411499, -3.698199987411499, -4.527599811553955, -3.698199987411499, -3.773099899291992, -4.509399890899658, -4.383999824523926, -4.373300075531006, -3.698199987411499, -4.601799964904785, -4.553699970245361, -4.359300136566162, -4.464000225067139, -3.316800117492676, -6.742800235748291, -6.742800235748291, -4.222499847412109, -4.638299942016602, -3.189199924468994, -3.8582000732421875, -3.8582000732421875, -3.8582000732421875, -3.8582000732421875, -3.8582000732421875, -3.8582000732421875, -3.8582000732421875, -3.189199924468994, -3.189199924468994, -3.8582000732421875, -3.8582000732421875, -3.8582000732421875, -3.8582000732421875, -3.8582000732421875, -3.8582000732421875, -3.189199924468994, -3.8582000732421875, -3.8582000732421875, -3.8582000732421875, -3.8582000732421875, -3.8582000732421875, -2.7918999195098877, -3.8582000732421875, -3.8582000732421875, -6.902699947357178, -6.902699947357178, -6.902699947357178, -6.902699947357178, -6.902699947357178, -6.902699947357178, -6.902699947357178, -6.902699947357178, -6.902699947357178, -6.902699947357178, -6.902699947357178, -6.902699947357178, -3.837899923324585, -3.837899923324585, -3.837899923324585, -3.837899923324585, -3.837899923324585, -3.837899923324585, -3.837899923324585, -3.837899923324585, -3.837899923324585, -3.837899923324585, -3.837899923324585, -3.837899923324585, -3.837899923324585, -3.837899923324585, -3.837899923324585, -3.837899923324585, -3.837899923324585, -3.837899923324585, -3.837899923324585, -3.837899923324585, -3.837899923324585, -3.837899923324585, -3.837899923324585, -3.837899923324585, -3.837899923324585, -3.837899923324585, -3.837899923324585, -3.837899923324585, -6.882400035858154, -6.882400035858154, -3.1689000129699707, -6.882400035858154, -3.9270999431610107, -4.019000053405762, -4.0192999839782715, -4.121799945831299, -4.1528000831604, -4.177999973297119, -4.178199768066406, -4.183599948883057, -4.191999912261963, -4.198599815368652, -4.245800018310547, -4.340400218963623, -3.59060001373291, -4.355299949645996, -4.1894001960754395, -3.9505999088287354, -4.2368998527526855, -4.179599761962891, -4.080599784851074, -4.111599922180176, -4.2758002281188965, -4.11870002746582, -3.9934000968933105, -4.208899974822998, -6.501200199127197, -6.501200199127197, -4.386600017547607, -4.244800090789795, -6.501200199127197, -6.501200199127197, -4.160900115966797, -4.072800159454346, -4.349800109863281, -4.054500102996826, -3.7297000885009766, -3.7297000885009766, -3.7297000885009766, -3.7297000885009766, -3.7297000885009766, -3.7297000885009766, -3.7297000885009766, -3.7297000885009766, -3.7297000885009766, -3.7297000885009766, -3.7297000885009766, -3.7297000885009766, -2.6633999347686768, -3.7297000885009766, -3.7297000885009766, -3.7297000885009766, -3.7297000885009766, -3.7297000885009766, -3.7297000885009766, -3.060699939727783, -3.7297000885009766, -3.7297000885009766, -6.774199962615967, -6.774199962615967, -6.774199962615967, -6.774199962615967, -6.774199962615967, -6.774199962615967, -6.774199962615967, -6.774199962615967, -6.774199962615967, -6.774199962615967, -6.774199962615967, -6.774199962615967, -6.774199962615967, -6.774199962615967, -6.774199962615967, -6.774199962615967, -6.774199962615967, -2.9463000297546387, -3.615299940109253, -3.615299940109253, -3.615299940109253, -2.9421000480651855, -3.615299940109253, -2.9463000297546387, -2.5469000339508057, -3.615299940109253, -3.615299940109253, -3.615299940109253, -3.6084001064300537, -3.6101999282836914, -3.5973000526428223, -6.659900188446045, -6.659900188446045, -6.659900188446045, -6.659900188446045, -6.659900188446045, -6.659900188446045, -6.659900188446045, -6.659900188446045, -6.659900188446045, -6.5100998878479, -6.515900135040283, -6.522799968719482, -6.51609992980957, -6.531099796295166, -6.526299953460693, -6.659900188446045, -6.541100025177002, -3.5927000045776367, -6.551000118255615, -6.549699783325195, -6.5609002113342285, -6.579899787902832, -6.454100131988525, -6.582699775695801, -6.527100086212158, -6.513000011444092, -6.5229997634887695, -6.538099765777588, -6.436800003051758, -6.482100009918213, -6.524700164794922, -6.530099868774414, -6.535200119018555, -3.4400999546051025, -3.4400999546051025, -3.4400999546051025, -3.4400999546051025, -3.4400999546051025, -3.4400999546051025, -3.4400999546051025, -3.4400999546051025, -3.4400999546051025, -3.4400999546051025, -3.4400999546051025, -3.4400999546051025, -3.4400999546051025, -3.4400999546051025, -6.484600067138672, -6.484600067138672, -6.484600067138672, -6.484600067138672, -6.484600067138672, -6.484600067138672, -6.484600067138672, -6.484600067138672, -6.484600067138672, -6.484600067138672, -6.484600067138672, -6.484600067138672, -6.484600067138672, -6.484600067138672, -6.484600067138672, -6.484600067138672, -6.484600067138672, -6.484600067138672, -6.484600067138672, -6.484600067138672, -6.484600067138672, -6.484600067138672, -6.484600067138672, -6.484600067138672, -6.484600067138672, -6.484600067138672, -6.484600067138672, -6.484600067138672, -6.484600067138672, -6.484600067138672, -6.484600067138672, -6.484600067138672, -6.484600067138672, -3.40910005569458, -3.40910005569458, -2.7400999069213867, -3.40910005569458, -3.40910005569458, -3.40910005569458, -3.40910005569458, -3.40910005569458, -3.40910005569458, -3.40910005569458, -3.40910005569458, -3.40910005569458, -6.45359992980957, -6.45359992980957, -6.45359992980957, -6.45359992980957, -6.45359992980957, -6.45359992980957, -6.45359992980957, -6.45359992980957, -6.45359992980957, -6.45359992980957, -6.45359992980957, -6.45359992980957, -6.45359992980957, -6.45359992980957, -6.45359992980957, -6.45359992980957, -6.45359992980957, -6.45359992980957, -6.45359992980957, -6.45359992980957, -6.45359992980957, -6.45359992980957, -6.45359992980957, -6.45359992980957, -6.45359992980957, -6.45359992980957, -6.45359992980957, -6.45359992980957, -6.45359992980957, -6.45359992980957, -6.45359992980957, -6.45359992980957, -6.45359992980957, -6.45359992980957, -6.45359992980957, -6.45359992980957, -6.45359992980957, -3.714099884033203, -3.714099884033203, -3.714099884033203, -3.49180006980896, -3.5160999298095703, -2.5460000038146973, -4.73859977722168, -4.819799900054932, -3.714099884033203, -4.8454999923706055, -4.853400230407715, -4.850100040435791, -4.889500141143799, -4.88100004196167, -4.895400047302246, -4.899799823760986, -4.899700164794922, -3.714099884033203, -4.928500175476074, -4.980999946594238, -5.004499912261963, -5.02839994430542, -5.0792999267578125, -4.728700160980225, -5.208399772644043, -4.867400169372559, -4.327000141143799, -4.963200092315674, -4.464799880981445, -5.035600185394287, -4.82859992980957, -4.248700141906738, -4.374499797821045, -4.860599994659424, -4.085400104522705, -4.542300224304199, -4.835599899291992, -4.887899875640869, -3.309799909591675, -3.309799909591675, -3.309799909591675, -3.309799909591675, -3.309799909591675, -3.309799909591675, -3.309799909591675, -3.309799909591675, -6.354400157928467, -6.354400157928467, -3.309799909591675, -6.354400157928467, -6.354400157928467, -6.354400157928467, -6.354400157928467, -6.354400157928467, -6.354400157928467, -6.354400157928467, -6.354400157928467, -6.354400157928467, -6.354400157928467, -6.354400157928467, -6.354400157928467, -6.354400157928467, -6.354400157928467, -6.354400157928467, -6.354400157928467, -6.354400157928467, -6.354400157928467, -6.354400157928467, -3.309799909591675, -6.354400157928467, -6.354400157928467, -6.354400157928467, -6.354400157928467, -6.354400157928467, -6.354400157928467, -6.354400157928467, -6.354400157928467, -6.354400157928467, -6.354400157928467, -6.354400157928467, -6.354400157928467, -6.354400157928467, -6.354400157928467, -6.354400157928467, -6.354400157928467, -6.354400157928467, -6.354400157928467, -6.354400157928467, -6.354400157928467, -6.354400157928467, -5.9268999099731445, -5.9268999099731445, -5.9268999099731445, -5.9268999099731445, -5.9268999099731445, -5.9268999099731445, -5.9268999099731445, -5.9268999099731445, -5.9268999099731445, -5.9268999099731445, -5.9268999099731445, -5.9268999099731445, -5.9268999099731445, -5.9268999099731445, -5.9268999099731445, -5.9268999099731445, -5.9268999099731445, -5.9268999099731445, -5.9268999099731445, -5.9268999099731445, -5.9268999099731445, -5.9268999099731445, -5.9268999099731445, -5.9268999099731445, -5.9268999099731445, -5.9268999099731445, -5.9268999099731445, -5.9268999099731445, -5.9268999099731445, -5.9268999099731445, -5.9268999099731445, -5.9268999099731445, -5.9268999099731445, -5.9268999099731445, -5.9268999099731445, -5.9268999099731445, -5.9268999099731445, -5.9268999099731445, -5.9268999099731445, -5.9268999099731445, -5.9268999099731445, -5.9268999099731445, -5.9268999099731445, -5.9268999099731445, -5.9268999099731445, -5.9268999099731445, -5.9268999099731445, -5.9268999099731445, -5.9268999099731445, -5.9268999099731445, -5.9268999099731445, -5.9268999099731445, -5.9268999099731445, -5.9268999099731445, -5.9268999099731445, -5.9268999099731445, -5.9268999099731445, -5.9268999099731445, -5.9268999099731445, -5.9268999099731445, -5.9268999099731445, -5.9268999099731445, -5.9268999099731445, -5.9268999099731445, -4.381899833679199, -4.913000106811523, -4.9552998542785645, -4.979300022125244, -5.001399993896484, -5.015999794006348, -5.039599895477295, -5.042399883270264, -5.061600208282471, -5.061299800872803, -5.145199775695801, -5.164899826049805, -5.1946001052856445, -5.236999988555908, -4.956299781799316, -4.809199810028076, -5.264400005340576, -4.862299919128418, -4.944900035858154, -5.326600074768066, -4.884300231933594, -4.957099914550781, -5.47730016708374, -5.472499847412109, -4.936999797821045, -4.9079999923706055, -4.946300029754639, -6.242199897766113, -6.242199897766113, -4.933800220489502, -4.295899868011475, -5.505000114440918, -4.970699787139893, -4.756100177764893, -4.63040018081665, -4.055500030517578, -3.839200019836426, -4.777299880981445, -4.722799777984619, -4.932199954986572, -4.949999809265137, -4.954699993133545]}, \"token.table\": {\"Topic\": [1, 4, 8, 11, 13, 1, 11, 1, 1, 7, 1, 10, 7, 1, 2, 3, 13, 7, 4, 1, 2, 1, 3, 5, 9, 2, 10, 11, 2, 4, 3, 3, 1, 1, 6, 1, 12, 10, 3, 5, 7, 8, 9, 11, 2, 3, 4, 5, 7, 13, 1, 5, 6, 8, 3, 11, 4, 3, 4, 1, 14, 3, 4, 1, 5, 10, 1, 1, 1, 5, 6, 7, 8, 13, 9, 1, 13, 7, 7, 1, 13, 1, 1, 3, 10, 11, 13, 1, 5, 1, 3, 7, 2, 5, 1, 4, 5, 3, 5, 8, 11, 7, 1, 3, 6, 6, 5, 6, 8, 1, 2, 1, 8, 2, 5, 1, 5, 6, 7, 9, 10, 4, 4, 5, 5, 4, 1, 10, 10, 1, 6, 8, 9, 1, 3, 1, 2, 3, 4, 14, 1, 1, 2, 3, 4, 5, 6, 7, 8, 11, 14, 2, 1, 2, 3, 5, 7, 9, 13, 14, 1, 7, 8, 1, 5, 8, 2, 2, 9, 11, 7, 2, 7, 1, 3, 2, 11, 6, 5, 1, 2, 3, 4, 6, 9, 14, 7, 10, 8, 1, 4, 1, 2, 3, 4, 5, 6, 8, 10, 11, 1, 16, 1, 10, 8, 3, 4, 5, 7, 4, 7, 8, 13, 14, 5, 3, 6, 2, 4, 8, 5, 7, 12, 3, 6, 1, 7, 2, 11, 13, 2, 9, 3, 4, 14, 14, 2, 4, 7, 4, 1, 1, 1, 3, 2, 6, 8, 7, 2, 11, 4, 3, 1, 1, 5, 9, 13, 2, 3, 8, 10, 3, 1, 2, 14, 1, 2, 4, 5, 5, 7, 1, 1, 1, 2, 7, 11, 3, 5, 1, 2, 4, 6, 8, 1, 13, 1, 2, 10, 12, 2, 9, 4, 2, 1, 3, 4, 6, 10, 3, 2, 1, 4, 7, 11, 5, 1, 10, 4, 1, 7, 3, 2, 6, 1, 7, 10, 2, 3, 8, 7, 11, 1, 2, 1, 4, 5, 10, 12, 4, 1, 3, 7, 14, 8, 6, 13, 2, 5, 3, 9, 3, 3, 6, 11, 1, 3, 4, 1, 3, 10, 4, 1, 11, 2, 4, 5, 6, 7, 13, 4, 6, 5, 6, 5, 7, 10, 3, 2, 3, 9, 1, 11, 1, 2, 3, 5, 3, 1, 5, 1, 2, 8, 9, 13, 3, 1, 2, 10, 3, 1, 1, 2, 14, 9, 3, 9, 11, 3, 4, 8, 5, 2, 2, 7, 6, 8, 14, 13, 7, 13, 6, 2, 5, 4, 1, 4, 8, 10, 2, 11, 10, 6, 1, 12, 2, 3, 4, 8, 4, 6, 11, 8, 1, 4, 2, 3, 2, 7, 5, 12, 4, 1, 1, 3, 1, 3, 13, 3, 4, 5, 11, 1, 2, 1, 2, 5, 6, 7, 4, 1, 7, 2, 8, 7, 1, 2, 3, 4, 5, 4, 8, 6, 13, 13, 8, 5, 11, 11, 11, 14, 5, 8, 10, 4, 4, 13, 7, 2, 4, 1, 11, 4, 2, 4, 6, 7, 14, 4, 1, 2, 5, 7, 8, 3, 4, 1, 4, 2, 5, 6, 1, 2, 6, 8, 1, 2, 1, 2, 5, 6, 8, 10, 2, 4, 5, 6, 7, 9, 17, 2, 1, 2, 11, 3, 6, 4, 13, 1, 2, 5, 8, 4, 1, 10, 1, 2, 5, 6, 8, 11, 14, 1, 5, 6, 1, 1], \"Freq\": [0.2561185956001282, 0.2561185956001282, 0.3240826427936554, 0.3240826427936554, 0.8535130620002747, 0.49575671553611755, 0.49575671553611755, 0.7091339826583862, 0.7091339230537415, 0.8283249139785767, 0.7091339826583862, 0.8062067031860352, 0.8283200860023499, 0.7091339826583862, 0.5396651029586792, 0.2698325514793396, 0.2698325514793396, 0.8283227682113647, 0.6568909287452698, 0.40351995825767517, 0.40351995825767517, 0.7091339826583862, 0.28740522265434265, 0.28740522265434265, 0.28740522265434265, 0.27338218688964844, 0.27338218688964844, 0.27338218688964844, 0.7401223182678223, 0.40729543566703796, 0.7851086258888245, 0.7851086258888245, 0.7091339826583862, 0.6858478784561157, 0.34292393922805786, 0.7447269558906555, 0.7390381693840027, 0.8062067031860352, 0.1886933445930481, 0.1886933445930481, 0.1886933445930481, 0.1886933445930481, 0.1886933445930481, 0.1886933445930481, 0.18035240471363068, 0.18035240471363068, 0.18035240471363068, 0.18035240471363068, 0.18035240471363068, 0.18035240471363068, 0.46297991275787354, 0.23148995637893677, 0.23148995637893677, 0.23148995637893677, 0.3855278193950653, 0.3855278193950653, 0.605839192867279, 0.4127926826477051, 0.4127926826477051, 0.41543227434158325, 0.41543227434158325, 0.5791031718254089, 0.6687188148498535, 0.36840304732322693, 0.36840304732322693, 0.36840304732322693, 0.7542896270751953, 0.755890429019928, 0.29522818326950073, 0.14761409163475037, 0.14761409163475037, 0.14761409163475037, 0.14761409163475037, 0.14761409163475037, 0.6707976460456848, 0.5066036581993103, 0.5066036581993103, 0.8283230662345886, 0.8283200860023499, 0.754193127155304, 0.8535130620002747, 0.7091339826583862, 0.24524669349193573, 0.24524669349193573, 0.24524669349193573, 0.24524669349193573, 0.24524669349193573, 0.7091339826583862, 0.7433687448501587, 0.2992897927761078, 0.2992897927761078, 0.2992897927761078, 0.4134695827960968, 0.4809187352657318, 0.3135465979576111, 0.3135465979576111, 0.3135465979576111, 0.25664377212524414, 0.25664377212524414, 0.524096667766571, 0.524096667766571, 0.8283200860023499, 0.2866289019584656, 0.2866289019584656, 0.2866289019584656, 0.7624882459640503, 0.23759958148002625, 0.23759958148002625, 0.7685820460319519, 0.7461875677108765, 0.7292593121528625, 0.35757359862327576, 0.35757359862327576, 0.5966975688934326, 0.744249701499939, 0.2567881643772125, 0.2567881643772125, 0.2567881643772125, 0.2567881643772125, 0.7390490770339966, 0.8062067031860352, 0.605839192867279, 0.605839192867279, 0.7444350719451904, 0.749252438545227, 0.605839192867279, 0.48955339193344116, 0.48955339193344116, 0.8062067031860352, 0.27100870013237, 0.27100870013237, 0.27100870013237, 0.27100870013237, 0.49594852328300476, 0.7851086258888245, 0.1610209047794342, 0.1610209047794342, 0.3220418095588684, 0.1610209047794342, 0.1610209047794342, 0.757254421710968, 0.3151867687702179, 0.16971594095230103, 0.04849027097225189, 0.07273540645837784, 0.09698054194450378, 0.14547081291675568, 0.04849027097225189, 0.024245135486125946, 0.024245135486125946, 0.024245135486125946, 0.5966975688934326, 0.2714066207408905, 0.0904688760638237, 0.0904688760638237, 0.0904688760638237, 0.0904688760638237, 0.0904688760638237, 0.0904688760638237, 0.1809377521276474, 0.38429510593414307, 0.38429510593414307, 0.38429510593414307, 0.7525807023048401, 0.4897254407405853, 0.4897254407405853, 0.4243403971195221, 0.44458675384521484, 0.22229337692260742, 0.22229337692260742, 0.8283200860023499, 0.37450239062309265, 0.37450239062309265, 0.9039660692214966, 0.7851086258888245, 0.43805113434791565, 0.43805113434791565, 0.7624882459640503, 0.7436646819114685, 0.48281726241111755, 0.05364636331796646, 0.05364636331796646, 0.05364636331796646, 0.21458545327186584, 0.05364636331796646, 0.05364636331796646, 0.4099765717983246, 0.4099765717983246, 0.7685820460319519, 0.7091339826583862, 0.6618685722351074, 0.14797443151474, 0.14797443151474, 0.07398721575737, 0.14797443151474, 0.14797443151474, 0.07398721575737, 0.07398721575737, 0.14797443151474, 0.07398721575737, 0.36217641830444336, 0.36217641830444336, 0.7526751160621643, 0.3823140859603882, 0.7685820460319519, 0.48250678181648254, 0.24125339090824127, 0.24125339090824127, 0.24125339090824127, 0.32830682396888733, 0.16415341198444366, 0.16415341198444366, 0.32830682396888733, 0.16415341198444366, 0.48276251554489136, 0.7851086258888245, 0.7624882459640503, 0.3030039966106415, 0.3030039966106415, 0.7685820460319519, 0.3598959743976593, 0.3598959743976593, 0.3598959743976593, 0.7851086258888245, 0.7624882459640503, 0.536690890789032, 0.8283200860023499, 0.6020903587341309, 0.20069679617881775, 0.20069679617881775, 0.4344194829463959, 0.4344194829463959, 0.41654595732688904, 0.20827297866344452, 0.20827297866344452, 0.865570068359375, 0.2652986943721771, 0.2652986943721771, 0.2652986943721771, 0.6534078121185303, 0.7091339826583862, 0.7091339826583862, 0.4816931486129761, 0.4816931486129761, 0.5966976284980774, 0.7624882459640503, 0.7685820460319519, 0.8283200860023499, 0.5966976284980774, 0.8231692910194397, 0.6719483733177185, 0.7851086258888245, 0.7091339826583862, 0.1921541839838028, 0.1921541839838028, 0.3843083679676056, 0.1921541839838028, 0.4173271656036377, 0.3846975266933441, 0.3846975266933441, 0.3846975266933441, 0.5008118748664856, 0.6182773113250732, 0.3091386556625366, 0.865570068359375, 0.7091339826583862, 0.5966976284980774, 0.6577146053314209, 0.7436831593513489, 0.5134267210960388, 0.5134267210960388, 0.7091339826583862, 0.7531000375747681, 0.3781335949897766, 0.1890667974948883, 0.1890667974948883, 0.1890667974948883, 0.7851086258888245, 0.7585040330886841, 0.11809536069631577, 0.23619072139263153, 0.3542860746383667, 0.11809536069631577, 0.11809536069631577, 0.7476550340652466, 0.8535130620002747, 0.17956098914146423, 0.17956098914146423, 0.17956098914146423, 0.17956098914146423, 0.44195494055747986, 0.44195494055747986, 0.605839192867279, 0.7405487298965454, 0.36873069405555725, 0.09218267351388931, 0.09218267351388931, 0.09218267351388931, 0.09218267351388931, 0.7851086258888245, 0.8221029043197632, 0.7091339826583862, 0.35002434253692627, 0.35002434253692627, 0.35002434253692627, 0.7585040330886841, 0.37128862738609314, 0.37128862738609314, 0.6509538292884827, 0.4976203441619873, 0.4976203441619873, 0.7851086258888245, 0.7316952347755432, 0.7624882459640503, 0.7091339826583862, 0.8283200860023499, 0.8062067031860352, 0.5220468640327454, 0.2610234320163727, 0.2610234320163727, 0.8283200860023499, 0.8231692910194397, 0.7091339826583862, 0.5966975688934326, 0.5002756714820862, 0.2501378357410431, 0.28737229108810425, 0.28737229108810425, 0.28737229108810425, 0.6586976647377014, 0.25292423367500305, 0.5058484673500061, 0.25292423367500305, 0.5872864127159119, 0.7685819864273071, 0.7624882459640503, 0.8535130620002747, 0.47333309054374695, 0.47333309054374695, 0.4883662760257721, 0.4883662760257721, 0.7851086258888245, 0.7851086258888245, 0.5212559700012207, 0.5212559700012207, 0.3359528183937073, 0.3359528183937073, 0.3359528183937073, 0.4044131338596344, 0.4044131338596344, 0.5339358448982239, 0.4185529947280884, 0.520626962184906, 0.520626962184906, 0.24988751113414764, 0.12494375556707382, 0.12494375556707382, 0.12494375556707382, 0.24988751113414764, 0.12494375556707382, 0.455009400844574, 0.455009400844574, 0.7585040330886841, 0.7624882459640503, 0.48778969049453735, 0.8283200860023499, 0.8062067031860352, 0.7851086258888245, 0.41295063495635986, 0.48228833079338074, 0.48228833079338074, 0.7091339826583862, 0.8231692910194397, 0.19138778746128082, 0.38277557492256165, 0.19138778746128082, 0.19138778746128082, 0.7851086258888245, 0.7091339826583862, 0.7479519248008728, 0.1927570104598999, 0.1927570104598999, 0.1927570104598999, 0.1927570104598999, 0.1927570104598999, 0.7851086258888245, 0.30880308151245117, 0.30880308151245117, 0.30880308151245117, 0.7851086258888245, 0.7091339826583862, 0.7586583495140076, 0.4497758746147156, 0.4497758746147156, 0.6707976460456848, 0.36185339093208313, 0.36185339093208313, 0.36185339093208313, 0.42056575417518616, 0.42056575417518616, 0.7685819864273071, 0.7437339425086975, 0.7370256185531616, 0.33451876044273376, 0.33451876044273376, 0.24055121839046478, 0.24055121839046478, 0.24055121839046478, 0.8535130620002747, 0.8283200860023499, 0.8535130620002747, 0.7624882459640503, 0.7424088716506958, 0.7475221157073975, 0.6635915040969849, 0.7605513334274292, 0.28047481179237366, 0.28047481179237366, 0.28047481179237366, 0.43805113434791565, 0.43805113434791565, 0.8062067031860352, 0.7624882459640503, 0.7091339826583862, 0.7390612959861755, 0.20563262701034546, 0.20563262701034546, 0.20563262701034546, 0.20563262701034546, 0.45452171564102173, 0.45452171564102173, 0.8231692910194397, 0.7685820460319519, 0.565536379814148, 0.6527295708656311, 0.5966976284980774, 0.7851086258888245, 0.4242894947528839, 0.8283200860023499, 0.4849626123905182, 0.7307616472244263, 0.6606970429420471, 0.76372891664505, 0.9537607431411743, 0.7851086258888245, 0.39539608359336853, 0.39539608359336853, 0.5215644240379333, 0.270357221364975, 0.270357221364975, 0.270357221364975, 0.270357221364975, 0.7091339826583862, 0.5966976284980774, 0.4873259961605072, 0.16244199872016907, 0.16244199872016907, 0.16244199872016907, 0.8283235430717468, 0.605839192867279, 0.7091339826583862, 0.8283200860023499, 0.48888257145881653, 0.48888257145881653, 0.8283200860023499, 0.1824745237827301, 0.3649490475654602, 0.1824745237827301, 0.1824745237827301, 0.1824745237827301, 0.6741271018981934, 0.7685820460319519, 0.5332609415054321, 0.5332609415054321, 0.8535130620002747, 0.7685820460319519, 0.3852277398109436, 0.3852277398109436, 0.8231692910194397, 0.8231692910194397, 0.865570068359375, 0.30519184470176697, 0.30519184470176697, 0.30519184470176697, 0.6557651162147522, 0.6629580855369568, 0.8535130620002747, 0.8283230662345886, 0.33504819869995117, 0.33504819869995117, 0.49575671553611755, 0.49575671553611755, 0.6732029914855957, 0.19445006549358368, 0.19445006549358368, 0.19445006549358368, 0.19445006549358368, 0.19445006549358368, 0.6662911176681519, 0.2067348212003708, 0.2067348212003708, 0.2067348212003708, 0.2067348212003708, 0.2067348212003708, 0.7851086258888245, 0.605839192867279, 0.7091339826583862, 0.605839192867279, 0.3236212432384491, 0.3236212432384491, 0.3236212432384491, 0.20185299217700958, 0.20185299217700958, 0.20185299217700958, 0.20185299217700958, 0.47808438539505005, 0.47808438539505005, 0.2732834219932556, 0.2732834219932556, 0.1366417109966278, 0.1366417109966278, 0.1366417109966278, 0.1366417109966278, 0.32060718536376953, 0.10686905682086945, 0.10686905682086945, 0.10686905682086945, 0.10686905682086945, 0.10686905682086945, 0.10686905682086945, 0.5966976284980774, 0.36316561698913574, 0.36316561698913574, 0.36316561698913574, 0.7851086258888245, 0.5014979243278503, 0.605839192867279, 0.8535130620002747, 0.7091339230537415, 0.2796024680137634, 0.2796024680137634, 0.2796024680137634, 0.6672415137290955, 0.48955339193344116, 0.48955339193344116, 0.18242549896240234, 0.2736382484436035, 0.09121274948120117, 0.09121274948120117, 0.09121274948120117, 0.09121274948120117, 0.09121274948120117, 0.6777390241622925, 0.33886951208114624, 0.7624882459640503, 0.7091339826583862, 0.7091339826583862], \"Term\": [\"-PRON-\", \"-PRON-\", \"able\", \"able\", \"add\", \"adjust\", \"adjust\", \"adjustable\", \"adult\", \"afraid\", \"amazing\", \"amazon\", \"angle\", \"apppreciat\", \"arrive\", \"arrive\", \"arrive\", \"attach\", \"average\", \"awesome\", \"awesome\", \"awkward\", \"back\", \"back\", \"back\", \"bad\", \"bad\", \"bad\", \"balance\", \"bar\", \"basket\", \"be\", \"bearable\", \"beautiful\", \"beautiful\", \"because\", \"beeaaauuutiful\", \"begin\", \"bend\", \"bend\", \"bend\", \"bend\", \"bend\", \"bend\", \"bent\", \"bent\", \"bent\", \"bent\", \"bent\", \"bent\", \"big\", \"big\", \"big\", \"big\", \"bit\", \"bit\", \"blob\", \"body\", \"body\", \"bottom\", \"bottom\", \"box\", \"bracelet\", \"break\", \"break\", \"break\", \"bronze\", \"buck\", \"buy\", \"buy\", \"buy\", \"buy\", \"buy\", \"buy\", \"can\", \"care\", \"care\", \"case\", \"catch\", \"cent\", \"chain\", \"change\", \"cheap\", \"cheap\", \"cheap\", \"cheap\", \"cheap\", \"child\", \"chip\", \"christma\", \"christma\", \"christma\", \"clear\", \"coat\", \"color\", \"color\", \"color\", \"come\", \"come\", \"comfortable\", \"comfortable\", \"conversation\", \"cool\", \"cool\", \"cool\", \"correct\", \"could\", \"could\", \"crack\", \"crap\", \"crush\", \"cuff\", \"cuff\", \"cup\", \"date\", \"daughter\", \"daughter\", \"daughter\", \"daughter\", \"deal\", \"death\", \"define\", \"definition\", \"design\", \"different\", \"dirty\", \"disappointed\", \"disappointed\", \"dnt\", \"do\", \"do\", \"do\", \"do\", \"dollar\", \"door\", \"dragon\", \"dragon\", \"dragon\", \"dragon\", \"dragon\", \"dump\", \"ear\", \"ear\", \"ear\", \"ear\", \"ear\", \"ear\", \"ear\", \"ear\", \"ear\", \"ear\", \"earr\", \"earring\", \"earring\", \"earring\", \"earring\", \"earring\", \"earring\", \"earring\", \"earring\", \"enough\", \"enough\", \"enough\", \"entire\", \"estimate\", \"estimate\", \"excellent\", \"expect\", \"expect\", \"expect\", \"eye\", \"fall\", \"fall\", \"fan\", \"festival\", \"figure\", \"figure\", \"fill\", \"fingernail\", \"fit\", \"fit\", \"fit\", \"fit\", \"fit\", \"fit\", \"fit\", \"friend\", \"friend\", \"fun\", \"game\", \"gap\", \"get\", \"get\", \"get\", \"get\", \"get\", \"get\", \"get\", \"get\", \"get\", \"gift\", \"gift\", \"girl\", \"give\", \"glue\", \"go\", \"go\", \"go\", \"go\", \"good\", \"good\", \"good\", \"good\", \"good\", \"gorgeous\", \"goth\", \"grand\", \"great\", \"great\", \"guess\", \"happy\", \"happy\", \"happy\", \"harry\", \"hate\", \"have\", \"heating\", \"heavy\", \"heavy\", \"heavy\", \"high\", \"high\", \"hole\", \"hole\", \"hole\", \"hook\", \"hope\", \"hope\", \"hope\", \"hour\", \"hunger\", \"hurt\", \"idea\", \"idea\", \"impress\", \"improvise\", \"incredible\", \"inexpensive\", \"irritate\", \"ish\", \"issue\", \"itbut\", \"itchy\", \"item\", \"item\", \"item\", \"item\", \"keep\", \"know\", \"know\", \"know\", \"lack\", \"large\", \"large\", \"latch\", \"lay\", \"layer\", \"least\", \"leave\", \"like\", \"like\", \"list\", \"listing\", \"little\", \"little\", \"little\", \"little\", \"lobe\", \"long\", \"look\", \"look\", \"look\", \"look\", \"look\", \"loose\", \"lose\", \"love\", \"love\", \"love\", \"love\", \"low\", \"low\", \"luck\", \"majority\", \"make\", \"make\", \"make\", \"make\", \"make\", \"manage\", \"may\", \"mean\", \"metal\", \"metal\", \"metal\", \"mom\", \"money\", \"money\", \"move\", \"much\", \"much\", \"myfriend\", \"near\", \"necklace\", \"need\", \"nervous\", \"new\", \"nice\", \"nice\", \"nice\", \"none\", \"nope\", \"normal\", \"nothing\", \"old\", \"old\", \"open\", \"open\", \"open\", \"opinion\", \"order\", \"order\", \"order\", \"other\", \"outcome\", \"outer\", \"own\", \"package\", \"package\", \"packaging\", \"packaging\", \"pagan\", \"part\", \"pay\", \"pay\", \"people\", \"people\", \"people\", \"perfect\", \"perfect\", \"person\", \"photo\", \"picture\", \"picture\", \"piece\", \"piece\", \"piece\", \"piece\", \"piece\", \"piece\", \"pierce\", \"pierce\", \"piercing\", \"pin\", \"place\", \"pleased\", \"point\", \"poke\", \"polish\", \"poor\", \"poor\", \"popular\", \"portray\", \"post\", \"post\", \"post\", \"post\", \"potter\", \"present\", \"prevent\", \"price\", \"price\", \"price\", \"price\", \"price\", \"pride\", \"product\", \"product\", \"product\", \"provide\", \"punk\", \"purchase\", \"put\", \"put\", \"qualify\", \"quality\", \"quality\", \"quality\", \"rat\", \"rat\", \"read\", \"real\", \"receipt\", \"receive\", \"receive\", \"recommend\", \"recommend\", \"recommend\", \"refined\", \"remedi\", \"remove\", \"requirement\", \"reshape\", \"residue\", \"rest\", \"return\", \"review\", \"review\", \"review\", \"right\", \"right\", \"righty\", \"ring\", \"rock\", \"s\", \"say\", \"say\", \"say\", \"say\", \"see\", \"see\", \"sell\", \"seller\", \"send\", \"sense\", \"sensitive\", \"serve\", \"service\", \"severe\", \"ship\", \"shipment\", \"should\", \"show\", \"silver\", \"sis\", \"sister\", \"sister\", \"sit\", \"size\", \"size\", \"size\", \"size\", \"sized\", \"slide\", \"small\", \"small\", \"small\", \"small\", \"snap\", \"someone\", \"sorry\", \"spike\", \"star\", \"star\", \"starter\", \"stay\", \"stay\", \"stay\", \"stay\", \"stay\", \"stick\", \"store\", \"stud\", \"stud\", \"suggest\", \"super\", \"support\", \"support\", \"suuuuuuper\", \"tag\", \"tail\", \"take\", \"take\", \"take\", \"think\", \"thought\", \"throw\", \"tight\", \"time\", \"time\", \"tiny\", \"tiny\", \"tip\", \"top\", \"top\", \"top\", \"top\", \"top\", \"trick\", \"try\", \"try\", \"try\", \"try\", \"try\", \"tug\", \"ugly\", \"uncomfortable\", \"unfinished\", \"use\", \"use\", \"use\", \"want\", \"want\", \"want\", \"want\", \"waste\", \"waste\", \"way\", \"way\", \"way\", \"way\", \"way\", \"way\", \"wear\", \"wear\", \"wear\", \"wear\", \"wear\", \"wear\", \"wear\", \"wearable\", \"weight\", \"weight\", \"weight\", \"whose\", \"will\", \"wing\", \"winner\", \"woman\", \"work\", \"work\", \"work\", \"worn\", \"worth\", \"worth\", \"would\", \"would\", \"would\", \"would\", \"would\", \"would\", \"would\", \"year\", \"year\", \"young\", \"youngth\", \"yrs\"]}, \"R\": 30, \"lambda.step\": 0.01, \"plot.opts\": {\"xlab\": \"PC1\", \"ylab\": \"PC2\"}, \"topic.order\": [5, 6, 14, 3, 2, 19, 7, 18, 9, 8, 17, 15, 4, 20, 1, 12, 13, 11, 16, 10]};\n",
       "\n",
       "function LDAvis_load_lib(url, callback){\n",
       "  var s = document.createElement('script');\n",
       "  s.src = url;\n",
       "  s.async = true;\n",
       "  s.onreadystatechange = s.onload = callback;\n",
       "  s.onerror = function(){console.warn(\"failed to load library \" + url);};\n",
       "  document.getElementsByTagName(\"head\")[0].appendChild(s);\n",
       "}\n",
       "\n",
       "if(typeof(LDAvis) !== \"undefined\"){\n",
       "   // already loaded: just create the visualization\n",
       "   !function(LDAvis){\n",
       "       new LDAvis(\"#\" + \"ldavis_el85482416380053448638162194\", ldavis_el85482416380053448638162194_data);\n",
       "   }(LDAvis);\n",
       "}else if(typeof define === \"function\" && define.amd){\n",
       "   // require.js is available: use it to load d3/LDAvis\n",
       "   require.config({paths: {d3: \"https://cdnjs.cloudflare.com/ajax/libs/d3/3.5.5/d3.min\"}});\n",
       "   require([\"d3\"], function(d3){\n",
       "      window.d3 = d3;\n",
       "      LDAvis_load_lib(\"https://cdn.rawgit.com/bmabey/pyLDAvis/files/ldavis.v1.0.0.js\", function(){\n",
       "        new LDAvis(\"#\" + \"ldavis_el85482416380053448638162194\", ldavis_el85482416380053448638162194_data);\n",
       "      });\n",
       "    });\n",
       "}else{\n",
       "    // require.js not available: dynamically load d3 & LDAvis\n",
       "    LDAvis_load_lib(\"https://cdnjs.cloudflare.com/ajax/libs/d3/3.5.5/d3.min.js\", function(){\n",
       "         LDAvis_load_lib(\"https://cdn.rawgit.com/bmabey/pyLDAvis/files/ldavis.v1.0.0.js\", function(){\n",
       "                 new LDAvis(\"#\" + \"ldavis_el85482416380053448638162194\", ldavis_el85482416380053448638162194_data);\n",
       "            })\n",
       "         });\n",
       "}\n",
       "</script>"
      ],
      "text/plain": [
       "PreparedData(topic_coordinates=              x         y  topics  cluster       Freq\n",
       "topic                                                \n",
       "4     -0.148345 -0.020210       1        1  16.671852\n",
       "5     -0.103465  0.048240       2        1  12.346841\n",
       "13     0.049633 -0.138720       3        1   9.649647\n",
       "2      0.023049 -0.125790       4        1   9.039009\n",
       "1     -0.090129  0.025109       5        1   8.625083\n",
       "18    -0.158401 -0.064814       6        1   5.891310\n",
       "6      0.058896 -0.040650       7        1   5.689091\n",
       "17    -0.054701  0.060600       8        1   4.901820\n",
       "8      0.030164 -0.025663       9        1   4.429568\n",
       "7      0.050772  0.154382      10        1   3.723935\n",
       "16    -0.001518  0.059388      11        1   3.501622\n",
       "14     0.055182 -0.005441      12        1   3.409923\n",
       "3      0.097314 -0.002932      13        1   2.918871\n",
       "19     0.019474 -0.067533      14        1   2.528057\n",
       "0      0.050929  0.020717      15        1   1.723606\n",
       "11     0.066745  0.037704      16        1   1.702473\n",
       "12     0.002887  0.068261      17        1   1.349749\n",
       "10    -0.002806  0.011069      18        1   1.349748\n",
       "15     0.049737  0.014252      19        1   0.273901\n",
       "9      0.004584 -0.007970      20        1   0.273901, topic_info=     Category       Freq       Term      Total  loglift  logprob\n",
       "term                                                            \n",
       "35    Default  18.000000        fit  18.000000  30.0000  30.0000\n",
       "19    Default  41.000000        ear  41.000000  29.0000  29.0000\n",
       "34    Default  11.000000    earring  11.000000  28.0000  28.0000\n",
       "32    Default   9.000000       wear   9.000000  27.0000  27.0000\n",
       "12    Default  13.000000        get  13.000000  26.0000  26.0000\n",
       "44    Default  10.000000      would  10.000000  25.0000  25.0000\n",
       "36    Default   6.000000       good   6.000000  24.0000  24.0000\n",
       "59    Default   5.000000       item   5.000000  23.0000  23.0000\n",
       "37    Default   4.000000       hole   4.000000  22.0000  22.0000\n",
       "80    Default   5.000000       love   5.000000  21.0000  21.0000\n",
       "30    Default  10.000000       make  10.000000  20.0000  20.0000\n",
       "10    Default   6.000000     dragon   6.000000  19.0000  19.0000\n",
       "13    Default   2.000000       gift   2.000000  18.0000  18.0000\n",
       "53    Default   5.000000      price   5.000000  17.0000  17.0000\n",
       "16    Default   4.000000  recommend   4.000000  16.0000  16.0000\n",
       "3     Default   4.000000     expect   4.000000  15.0000  15.0000\n",
       "4     Default   4.000000      heavy   4.000000  14.0000  14.0000\n",
       "150   Default   4.000000       want   4.000000  13.0000  13.0000\n",
       "75    Default   7.000000        way   7.000000  12.0000  12.0000\n",
       "18    Default   4.000000      cheap   4.000000  11.0000  11.0000\n",
       "33    Default   2.000000     bottom   2.000000  10.0000  10.0000\n",
       "57    Default   6.000000        buy   6.000000   9.0000   9.0000\n",
       "52    Default   8.000000      piece   8.000000   8.0000   8.0000\n",
       "31    Default   2.000000       time   2.000000   7.0000   7.0000\n",
       "85    Default   5.000000       bend   5.000000   6.0000   6.0000\n",
       "29    Default   2.000000       fall   2.000000   5.0000   5.0000\n",
       "208   Default   3.000000       come   3.000000   4.0000   4.0000\n",
       "173   Default   3.000000    product   3.000000   3.0000   3.0000\n",
       "69    Default   3.000000       take   3.000000   2.0000   2.0000\n",
       "27    Default   3.000000   daughter   3.000000   1.0000   1.0000\n",
       "...       ...        ...        ...        ...      ...      ...\n",
       "107   Topic20   0.012837    because   1.342774   1.2500  -5.1946\n",
       "309   Topic20   0.012305    breaker   1.326299   1.2200  -5.2370\n",
       "123   Topic20   0.016291       send   1.768233   1.2131  -4.9563\n",
       "125   Topic20   0.018873     silver   2.096962   1.1896  -4.8092\n",
       "315   Topic20   0.011971       stem   1.337987   1.1837  -5.2644\n",
       "312   Topic20   0.017898  packaging   2.047643   1.1604  -4.8623\n",
       "20    Topic20   0.016478    picture   1.920761   1.1417  -4.9449\n",
       "308   Topic20   0.011250     accept   1.338739   1.1210  -5.3266\n",
       "128   Topic20   0.017508      waste   2.091681   1.1171  -4.8843\n",
       "313   Topic20   0.016278       poor   2.073448   1.0530  -4.9571\n",
       "314   Topic20   0.009676  something   1.343349   0.9668  -5.4773\n",
       "310   Topic20   0.009722       deal   1.353090   0.9644  -5.4725\n",
       "33    Topic20   0.016609     bottom   2.407131   0.9239  -4.9370\n",
       "114   Topic20   0.017097     enough   2.602167   0.8749  -4.9080\n",
       "119   Topic20   0.016455      money   2.693322   0.8023  -4.9463\n",
       "224   Topic20   0.004503      whole   0.872675   0.6333  -6.2422\n",
       "222   Topic20   0.004503       hard   0.872675   0.6333  -6.2422\n",
       "203   Topic20   0.016662       back   3.479408   0.5587  -4.9338\n",
       "75    Topic20   0.031533        way   7.318410   0.4530  -4.2959\n",
       "311   Topic20   0.009411       lack   1.996758   0.5428  -5.5050\n",
       "106   Topic20   0.016058     -PRON-   3.904441   0.4065  -4.9707\n",
       "53    Topic20   0.019902      price   5.187879   0.3369  -4.7561\n",
       "126   Topic20   0.022567      small   6.156044   0.2915  -4.6304\n",
       "35    Topic20   0.040103        fit  18.640593  -0.2415  -4.0555\n",
       "19    Topic20   0.049786        ear  41.245388  -0.8194  -3.8392\n",
       "120   Topic20   0.019484       post   5.224994   0.3086  -4.7773\n",
       "34    Topic20   0.020575    earring  11.053525  -0.3863  -4.7228\n",
       "85    Topic20   0.016688       bend   5.299604   0.1395  -4.9322\n",
       "10    Topic20   0.016395     dragon   6.210374  -0.0369  -4.9500\n",
       "57    Topic20   0.016317        buy   6.774421  -0.1285  -4.9547\n",
       "\n",
       "[897 rows x 6 columns], token_table=      Topic      Freq        Term\n",
       "term                             \n",
       "106       1  0.256119      -PRON-\n",
       "106       4  0.256119      -PRON-\n",
       "26        8  0.324083        able\n",
       "26       11  0.324083        able\n",
       "48       13  0.853513         add\n",
       "0         1  0.495757      adjust\n",
       "0        11  0.495757      adjust\n",
       "362       1  0.709134  adjustable\n",
       "200       1  0.709134       adult\n",
       "253       7  0.828325      afraid\n",
       "363       1  0.709134     amazing\n",
       "335      10  0.806207      amazon\n",
       "84        7  0.828320       angle\n",
       "291       1  0.709134  apppreciat\n",
       "49        2  0.539665      arrive\n",
       "49        3  0.269833      arrive\n",
       "49       13  0.269833      arrive\n",
       "254       7  0.828323      attach\n",
       "228       4  0.656891     average\n",
       "258       1  0.403520     awesome\n",
       "258       2  0.403520     awesome\n",
       "277       1  0.709134     awkward\n",
       "203       3  0.287405        back\n",
       "203       5  0.287405        back\n",
       "203       9  0.287405        back\n",
       "17        2  0.273382         bad\n",
       "17       10  0.273382         bad\n",
       "17       11  0.273382         bad\n",
       "155       2  0.740122     balance\n",
       "229       4  0.407295         bar\n",
       "...     ...       ...         ...\n",
       "32        7  0.106869        wear\n",
       "32        9  0.106869        wear\n",
       "32       17  0.106869        wear\n",
       "266       2  0.596698    wearable\n",
       "25        1  0.363166      weight\n",
       "25        2  0.363166      weight\n",
       "25       11  0.363166      weight\n",
       "303       3  0.785109       whose\n",
       "104       6  0.501498        will\n",
       "199       4  0.605839        wing\n",
       "62       13  0.853513      winner\n",
       "202       1  0.709134       woman\n",
       "184       2  0.279602        work\n",
       "184       5  0.279602        work\n",
       "184       8  0.279602        work\n",
       "250       4  0.667242        worn\n",
       "295       1  0.489553       worth\n",
       "295      10  0.489553       worth\n",
       "44        1  0.182425       would\n",
       "44        2  0.273638       would\n",
       "44        5  0.091213       would\n",
       "44        6  0.091213       would\n",
       "44        8  0.091213       would\n",
       "44       11  0.091213       would\n",
       "44       14  0.091213       would\n",
       "189       1  0.677739        year\n",
       "189       5  0.338870        year\n",
       "105       6  0.762488       young\n",
       "296       1  0.709134     youngth\n",
       "274       1  0.709134         yrs\n",
       "\n",
       "[557 rows x 3 columns], R=30, lambda_step=0.01, plot_opts={'xlab': 'PC1', 'ylab': 'PC2'}, topic_order=[5, 6, 14, 3, 2, 19, 7, 18, 9, 8, 17, 15, 4, 20, 1, 12, 13, 11, 16, 10])"
      ]
     },
     "execution_count": 23,
     "metadata": {},
     "output_type": "execute_result"
    }
   ],
   "source": [
    "# Visualize the topics\n",
    "pyLDAvis.enable_notebook()\n",
    "vis = pyLDAvis.gensim.prepare(lda_model, doc_term_matrix, dictionary)\n",
    "vis"
   ]
  },
  {
   "cell_type": "markdown",
   "metadata": {},
   "source": [
    "## Compute Model Perplexity and Coherence Score"
   ]
  },
  {
   "cell_type": "code",
   "execution_count": 32,
   "metadata": {},
   "outputs": [
    {
     "name": "stdout",
     "output_type": "stream",
     "text": [
      "\n",
      "Perplexity:  -6.951938113587848\n",
      "\n",
      "Coherence Score:  0.4136262712912234\n"
     ]
    }
   ],
   "source": [
    "from gensim.models import CoherenceModel\n",
    "# Compute Perplexity\n",
    "print('\\nPerplexity: ', lda_model.log_perplexity(doc_term_matrix))  # a measure of how good the model is. lower the better.\n",
    "\n",
    "# Compute Coherence Score\n",
    "coherence_model_lda = CoherenceModel(model=lda_model, texts=reviews_2, dictionary=dictionary, coherence='c_v')\n",
    "coherence_lda = coherence_model_lda.get_coherence()\n",
    "print('\\nCoherence Score: ', coherence_lda)"
   ]
  },
  {
   "cell_type": "markdown",
   "metadata": {},
   "source": [
    "## Compute c_v coherence for various number of topics\n",
    "\n",
    "    Parameters:\n",
    "    ----------\n",
    "    dictionary : Gensim dictionary\n",
    "    corpus : Gensim corpus\n",
    "    texts : List of input texts\n",
    "    limit : Max num of topics\n",
    "\n",
    "    Returns:\n",
    "    -------\n",
    "    model_list : List of LDA topic models\n",
    "    coherence_values : Coherence values corresponding to the LDA model with respective number of topics\n",
    "    "
   ]
  },
  {
   "cell_type": "code",
   "execution_count": 19,
   "metadata": {},
   "outputs": [],
   "source": [
    "def compute_coherence_values(dictionary, corpus, texts, limit, start=2, step=3):\n",
    "    coherence_values = []\n",
    "    model_list = []\n",
    "    for num_topics in range(start, limit, step):\n",
    "        model = gensim.models.ldamodel.LdaModel(corpus=corpus, num_topics=num_topics, id2word=dictionary)\n",
    "        model_list.append(model)\n",
    "        coherencemodel = CoherenceModel(model=model, texts=texts, dictionary=dictionary, coherence='c_v')\n",
    "        coherence_values.append(coherencemodel.get_coherence())\n",
    "\n",
    "    return model_list, coherence_values"
   ]
  },
  {
   "cell_type": "code",
   "execution_count": 20,
   "metadata": {},
   "outputs": [],
   "source": [
    "# Can take a long time to run.\n",
    "model_list, coherence_values = compute_coherence_values(dictionary=dictionary, corpus=doc_term_matrix, texts=reviews_2, start=2, limit=40, step=6)"
   ]
  },
  {
   "cell_type": "code",
   "execution_count": 21,
   "metadata": {},
   "outputs": [
    {
     "data": {
      "image/png": "[encoded data removed]",
      "text/plain": [
       "<Figure size 432x288 with 1 Axes>"
      ]
     },
     "metadata": {
      "needs_background": "light"
     },
     "output_type": "display_data"
    }
   ],
   "source": [
    "# Show graph\n",
    "limit=40; start=2; step=6;\n",
    "x = range(start, limit, step)\n",
    "plt.plot(x, coherence_values)\n",
    "plt.xlabel(\"Num Topics\")\n",
    "plt.ylabel(\"Coherence score\")\n",
    "plt.legend((\"coherence_values\"), loc='best')\n",
    "plt.show()"
   ]
  },
  {
   "cell_type": "code",
   "execution_count": 22,
   "metadata": {},
   "outputs": [
    {
     "name": "stdout",
     "output_type": "stream",
     "text": [
      "Num Topics = 2  has Coherence Value of 0.2672\n",
      "Num Topics = 8  has Coherence Value of 0.3257\n",
      "Num Topics = 14  has Coherence Value of 0.3237\n",
      "Num Topics = 20  has Coherence Value of 0.4243\n",
      "Num Topics = 26  has Coherence Value of 0.3678\n",
      "Num Topics = 32  has Coherence Value of 0.4437\n",
      "Num Topics = 38  has Coherence Value of 0.4228\n"
     ]
    }
   ],
   "source": [
    "# Print the coherence scores\n",
    "for m, cv in zip(x, coherence_values):\n",
    "    print(\"Num Topics =\", m, \" has Coherence Value of\", round(cv, 4))"
   ]
  },
  {
   "cell_type": "code",
   "execution_count": 23,
   "metadata": {
    "scrolled": true
   },
   "outputs": [
    {
     "name": "stdout",
     "output_type": "stream",
     "text": [
      "LdaModel(num_terms=375, num_topics=32, decay=0.5, chunksize=2000)\n"
     ]
    }
   ],
   "source": [
    "print(model_list[5])\n"
   ]
  },
  {
   "cell_type": "code",
   "execution_count": 25,
   "metadata": {
    "scrolled": true
   },
   "outputs": [],
   "source": [
    "# Select the model and print the topics\n",
    "import pprint\n",
    "optimal_model = model_list[5]\n",
    "model_topics = optimal_model.show_topics(formatted=False)"
   ]
  },
  {
   "cell_type": "markdown",
   "metadata": {},
   "source": [
    "## '''Finding the dominant topic in each sentence'''"
   ]
  },
  {
   "cell_type": "code",
   "execution_count": 26,
   "metadata": {},
   "outputs": [
    {
     "data": {
      "text/html": [
       "<div>\n",
       "<style scoped>\n",
       "    .dataframe tbody tr th:only-of-type {\n",
       "        vertical-align: middle;\n",
       "    }\n",
       "\n",
       "    .dataframe tbody tr th {\n",
       "        vertical-align: top;\n",
       "    }\n",
       "\n",
       "    .dataframe thead th {\n",
       "        text-align: right;\n",
       "    }\n",
       "</style>\n",
       "<table border=\"1\" class=\"dataframe\">\n",
       "  <thead>\n",
       "    <tr style=\"text-align: right;\">\n",
       "      <th></th>\n",
       "      <th>Document_No</th>\n",
       "      <th>Dominant_Topic</th>\n",
       "      <th>Topic_Perc_Contrib</th>\n",
       "      <th>Keywords</th>\n",
       "      <th>Text</th>\n",
       "    </tr>\n",
       "  </thead>\n",
       "  <tbody>\n",
       "    <tr>\n",
       "      <th>0</th>\n",
       "      <td>0</td>\n",
       "      <td>6.0</td>\n",
       "      <td>0.9119</td>\n",
       "      <td>ear, dragon, piece, get, bar, body, rat, size, hole, say</td>\n",
       "      <td>[comfortable, tag, sell, adjust, little, metal, ish, bit, heavy, expect]</td>\n",
       "    </tr>\n",
       "    <tr>\n",
       "      <th>1</th>\n",
       "      <td>1</td>\n",
       "      <td>0.0</td>\n",
       "      <td>0.8789</td>\n",
       "      <td>be, enjoy, sis, go, recommend, make, girl, halloween, get, christma</td>\n",
       "      <td>[get, halloween, gift, girl, dragon, enjoy, recommend]</td>\n",
       "    </tr>\n",
       "    <tr>\n",
       "      <th>2</th>\n",
       "      <td>2</td>\n",
       "      <td>14.0</td>\n",
       "      <td>0.9031</td>\n",
       "      <td>wear, ear, price, cheap, bad, expect, nice, able, thank, time</td>\n",
       "      <td>[support, weight, ear, quality, bad, picture, portray, suuuuuuper, cheap]</td>\n",
       "    </tr>\n",
       "    <tr>\n",
       "      <th>3</th>\n",
       "      <td>3</td>\n",
       "      <td>12.0</td>\n",
       "      <td>0.8789</td>\n",
       "      <td>make, earring, fit, wear, item, punk, gift, own, able, time</td>\n",
       "      <td>[make, fall, daughter, able, wear, time, disappoint]</td>\n",
       "    </tr>\n",
       "    <tr>\n",
       "      <th>4</th>\n",
       "      <td>4</td>\n",
       "      <td>9.0</td>\n",
       "      <td>0.9539</td>\n",
       "      <td>ear, earring, good, wear, hole, fit, other, bottom, item, get</td>\n",
       "      <td>[dragon, earring, fit, good, other, put, tail, bottom, earring, hole, would, recommend, other, hook, top, ear, latch, bottom, earring, hole]</td>\n",
       "    </tr>\n",
       "    <tr>\n",
       "      <th>5</th>\n",
       "      <td>5</td>\n",
       "      <td>12.0</td>\n",
       "      <td>0.8385</td>\n",
       "      <td>make, earring, fit, wear, item, punk, gift, own, able, time</td>\n",
       "      <td>[good, earring, own, lose, throw]</td>\n",
       "    </tr>\n",
       "    <tr>\n",
       "      <th>6</th>\n",
       "      <td>6</td>\n",
       "      <td>9.0</td>\n",
       "      <td>0.9193</td>\n",
       "      <td>ear, earring, good, wear, hole, fit, other, bottom, item, get</td>\n",
       "      <td>[arrive, earring, stud, bent, remove, add, chain, good, price, refined, piece]</td>\n",
       "    </tr>\n",
       "    <tr>\n",
       "      <th>7</th>\n",
       "      <td>7</td>\n",
       "      <td>9.0</td>\n",
       "      <td>0.9031</td>\n",
       "      <td>ear, earring, good, wear, hole, fit, other, bottom, item, get</td>\n",
       "      <td>[cheap, heavy, care, sit, suggest, buy, good, item, winner]</td>\n",
       "    </tr>\n",
       "    <tr>\n",
       "      <th>8</th>\n",
       "      <td>8</td>\n",
       "      <td>22.0</td>\n",
       "      <td>0.9193</td>\n",
       "      <td>big, ear, use, could, piercing, ship, take, mom, long, get</td>\n",
       "      <td>[big, mom, ear, buy, take, long, ship, get, piercing, could, use]</td>\n",
       "    </tr>\n",
       "    <tr>\n",
       "      <th>9</th>\n",
       "      <td>9</td>\n",
       "      <td>13.0</td>\n",
       "      <td>0.9119</td>\n",
       "      <td>fit, ear, back, bend, could, post, earring, make, come, bent</td>\n",
       "      <td>[do, fit, ear, see, way, could, look, cool, would, fit]</td>\n",
       "    </tr>\n",
       "  </tbody>\n",
       "</table>\n",
       "</div>"
      ],
      "text/plain": [
       "   Document_No  Dominant_Topic  Topic_Perc_Contrib  \\\n",
       "0            0             6.0              0.9119   \n",
       "1            1             0.0              0.8789   \n",
       "2            2            14.0              0.9031   \n",
       "3            3            12.0              0.8789   \n",
       "4            4             9.0              0.9539   \n",
       "5            5            12.0              0.8385   \n",
       "6            6             9.0              0.9193   \n",
       "7            7             9.0              0.9031   \n",
       "8            8            22.0              0.9193   \n",
       "9            9            13.0              0.9119   \n",
       "\n",
       "                                                              Keywords  \\\n",
       "0             ear, dragon, piece, get, bar, body, rat, size, hole, say   \n",
       "1  be, enjoy, sis, go, recommend, make, girl, halloween, get, christma   \n",
       "2        wear, ear, price, cheap, bad, expect, nice, able, thank, time   \n",
       "3          make, earring, fit, wear, item, punk, gift, own, able, time   \n",
       "4        ear, earring, good, wear, hole, fit, other, bottom, item, get   \n",
       "5          make, earring, fit, wear, item, punk, gift, own, able, time   \n",
       "6        ear, earring, good, wear, hole, fit, other, bottom, item, get   \n",
       "7        ear, earring, good, wear, hole, fit, other, bottom, item, get   \n",
       "8           big, ear, use, could, piercing, ship, take, mom, long, get   \n",
       "9         fit, ear, back, bend, could, post, earring, make, come, bent   \n",
       "\n",
       "                                                                                                                                           Text  \n",
       "0                                                                      [comfortable, tag, sell, adjust, little, metal, ish, bit, heavy, expect]  \n",
       "1                                                                                        [get, halloween, gift, girl, dragon, enjoy, recommend]  \n",
       "2                                                                     [support, weight, ear, quality, bad, picture, portray, suuuuuuper, cheap]  \n",
       "3                                                                                          [make, fall, daughter, able, wear, time, disappoint]  \n",
       "4  [dragon, earring, fit, good, other, put, tail, bottom, earring, hole, would, recommend, other, hook, top, ear, latch, bottom, earring, hole]  \n",
       "5                                                                                                             [good, earring, own, lose, throw]  \n",
       "6                                                                [arrive, earring, stud, bent, remove, add, chain, good, price, refined, piece]  \n",
       "7                                                                                   [cheap, heavy, care, sit, suggest, buy, good, item, winner]  \n",
       "8                                                                             [big, mom, ear, buy, take, long, ship, get, piercing, could, use]  \n",
       "9                                                                                       [do, fit, ear, see, way, could, look, cool, would, fit]  "
      ]
     },
     "execution_count": 26,
     "metadata": {},
     "output_type": "execute_result"
    }
   ],
   "source": [
    "def format_topics_sentences(ldamodel=lda_model, corpus=doc_term_matrix, texts=reviews_2):\n",
    "    # Init output\n",
    "    sent_topics_df = pd.DataFrame()\n",
    "\n",
    "    # Get main topic in each document\n",
    "    for i, row in enumerate(ldamodel[corpus]):\n",
    "        row = sorted(row, key=lambda x: (x[1]), reverse=True)\n",
    "        # Get the Dominant topic, Perc Contribution and Keywords for each document\n",
    "        for j, (topic_num, prop_topic) in enumerate(row):\n",
    "            if j == 0:  # => dominant topic\n",
    "                wp = ldamodel.show_topic(topic_num)\n",
    "                topic_keywords = \", \".join([word for word, prop in wp])\n",
    "                sent_topics_df = sent_topics_df.append(pd.Series([int(topic_num), round(prop_topic,4), topic_keywords]), ignore_index=True)\n",
    "            else:\n",
    "                break\n",
    "    sent_topics_df.columns = ['Dominant_Topic', 'Perc_Contribution', 'Topic_Keywords']\n",
    "\n",
    "    # Add original text to the end of the output\n",
    "    contents = pd.Series(texts)\n",
    "    sent_topics_df = pd.concat([sent_topics_df, contents], axis=1)\n",
    "    return(sent_topics_df)\n",
    "\n",
    "\n",
    "df_topic_sents_keywords = format_topics_sentences(ldamodel=optimal_model, corpus=doc_term_matrix,texts=reviews_2)\n",
    "\n",
    "# Format\n",
    "df_dominant_topic = df_topic_sents_keywords.reset_index()\n",
    "df_dominant_topic.columns = ['Document_No', 'Dominant_Topic', 'Topic_Perc_Contrib', 'Keywords', 'Text']\n",
    "\n",
    "# Show\n",
    "df_dominant_topic.head(10)"
   ]
  },
  {
   "cell_type": "markdown",
   "metadata": {},
   "source": [
    "## Find the most representative document for each topic"
   ]
  },
  {
   "cell_type": "code",
   "execution_count": 27,
   "metadata": {},
   "outputs": [
    {
     "data": {
      "text/html": [
       "<div>\n",
       "<style scoped>\n",
       "    .dataframe tbody tr th:only-of-type {\n",
       "        vertical-align: middle;\n",
       "    }\n",
       "\n",
       "    .dataframe tbody tr th {\n",
       "        vertical-align: top;\n",
       "    }\n",
       "\n",
       "    .dataframe thead th {\n",
       "        text-align: right;\n",
       "    }\n",
       "</style>\n",
       "<table border=\"1\" class=\"dataframe\">\n",
       "  <thead>\n",
       "    <tr style=\"text-align: right;\">\n",
       "      <th></th>\n",
       "      <th>Topic_Num</th>\n",
       "      <th>Topic_Perc_Contrib</th>\n",
       "      <th>Keywords</th>\n",
       "      <th>Text</th>\n",
       "    </tr>\n",
       "  </thead>\n",
       "  <tbody>\n",
       "    <tr>\n",
       "      <th>0</th>\n",
       "      <td>0.0</td>\n",
       "      <td>0.9193</td>\n",
       "      <td>be, enjoy, sis, go, recommend, make, girl, halloween, get, christma</td>\n",
       "      <td>[make, door, be, part, christma, goth, basket, sis, know, go, order]</td>\n",
       "    </tr>\n",
       "    <tr>\n",
       "      <th>1</th>\n",
       "      <td>1.0</td>\n",
       "      <td>0.9354</td>\n",
       "      <td>ear, want, fit, matching, perfect, stud, ring, fill, requirement, get</td>\n",
       "      <td>[ear, ring, beautiful, correct, ear, stud, requirement, want, fit, top, ear, fill, outer, ear]</td>\n",
       "    </tr>\n",
       "    <tr>\n",
       "      <th>2</th>\n",
       "      <td>3.0</td>\n",
       "      <td>0.9462</td>\n",
       "      <td>ear, buy, fan, daughter, pierce, make, care, big, fit, pin</td>\n",
       "      <td>[lay, little, awkward, ear, ear, weight, popular, hunger, game, fan, daughter, buy, item, fan, mean, care, fit]</td>\n",
       "    </tr>\n",
       "    <tr>\n",
       "      <th>3</th>\n",
       "      <td>5.0</td>\n",
       "      <td>0.9031</td>\n",
       "      <td>sorry, yrs, ear, beautiful, change, need, fit, large, small, afraid</td>\n",
       "      <td>[beautiful, large, small, ear, yrs, need, change, fit, sorry]</td>\n",
       "    </tr>\n",
       "    <tr>\n",
       "      <th>4</th>\n",
       "      <td>6.0</td>\n",
       "      <td>0.9833</td>\n",
       "      <td>ear, dragon, piece, get, bar, body, rat, size, hole, say</td>\n",
       "      <td>[could, give, less, star, would, arrive, bent, belief, third, time, try, review, product, hope, get, post, waste, money, photo, nice, look, dragon, receipt, tear, package, open, find, hope, crush,...</td>\n",
       "    </tr>\n",
       "  </tbody>\n",
       "</table>\n",
       "</div>"
      ],
      "text/plain": [
       "   Topic_Num  Topic_Perc_Contrib  \\\n",
       "0        0.0              0.9193   \n",
       "1        1.0              0.9354   \n",
       "2        3.0              0.9462   \n",
       "3        5.0              0.9031   \n",
       "4        6.0              0.9833   \n",
       "\n",
       "                                                                Keywords  \\\n",
       "0    be, enjoy, sis, go, recommend, make, girl, halloween, get, christma   \n",
       "1  ear, want, fit, matching, perfect, stud, ring, fill, requirement, get   \n",
       "2             ear, buy, fan, daughter, pierce, make, care, big, fit, pin   \n",
       "3    sorry, yrs, ear, beautiful, change, need, fit, large, small, afraid   \n",
       "4               ear, dragon, piece, get, bar, body, rat, size, hole, say   \n",
       "\n",
       "                                                                                                                                                                                                      Text  \n",
       "0                                                                                                                                     [make, door, be, part, christma, goth, basket, sis, know, go, order]  \n",
       "1                                                                                                           [ear, ring, beautiful, correct, ear, stud, requirement, want, fit, top, ear, fill, outer, ear]  \n",
       "2                                                                                          [lay, little, awkward, ear, ear, weight, popular, hunger, game, fan, daughter, buy, item, fan, mean, care, fit]  \n",
       "3                                                                                                                                            [beautiful, large, small, ear, yrs, need, change, fit, sorry]  \n",
       "4  [could, give, less, star, would, arrive, bent, belief, third, time, try, review, product, hope, get, post, waste, money, photo, nice, look, dragon, receipt, tear, package, open, find, hope, crush,...  "
      ]
     },
     "execution_count": 27,
     "metadata": {},
     "output_type": "execute_result"
    }
   ],
   "source": [
    "# Group top 5 sentences under each topic\n",
    "sent_topics_sorteddf_mallet = pd.DataFrame()\n",
    "\n",
    "sent_topics_outdf_grpd = df_topic_sents_keywords.groupby('Dominant_Topic')\n",
    "\n",
    "for i, grp in sent_topics_outdf_grpd:\n",
    "    sent_topics_sorteddf_mallet = pd.concat([sent_topics_sorteddf_mallet, \n",
    "                                             grp.sort_values(['Perc_Contribution'], ascending=[0]).head(1)], \n",
    "                                            axis=0)\n",
    "\n",
    "# Reset Index    \n",
    "sent_topics_sorteddf_mallet.reset_index(drop=True, inplace=True)\n",
    "\n",
    "# Format\n",
    "sent_topics_sorteddf_mallet.columns = ['Topic_Num', \"Topic_Perc_Contrib\", \"Keywords\", \"Text\"]\n",
    "\n",
    "# Show\n",
    "sent_topics_sorteddf_mallet.head()"
   ]
  }
 ],
 "metadata": {
  "colab": {
   "collapsed_sections": [],
   "name": "Mining Online Reviews using Topic Modeling (LDA)",
   "provenance": [],
   "version": "0.3.2"
  },
  "kernelspec": {
   "display_name": "Python 3",
   "language": "python",
   "name": "python3"
  },
  "language_info": {
   "codemirror_mode": {
    "name": "ipython",
    "version": 3
   },
   "file_extension": ".py",
   "mimetype": "text/x-python",
   "name": "python",
   "nbconvert_exporter": "python",
   "pygments_lexer": "ipython3",
   "version": "3.7.0"
  }
 },
 "nbformat": 4,
 "nbformat_minor": 1
}
