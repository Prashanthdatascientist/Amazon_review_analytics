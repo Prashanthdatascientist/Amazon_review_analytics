{
 "cells": [
  {
   "cell_type": "code",
   "execution_count": 1,
   "metadata": {
    "colab": {
     "base_uri": "https://localhost:8080/",
     "height": 71
    },
    "colab_type": "code",
    "id": "z3LQhDUitB_I",
    "outputId": "be88b89d-e4fe-4371-fb8b-c9c030169fe9"
   },
   "outputs": [
    {
     "name": "stdout",
     "output_type": "stream",
     "text": [
      "[nltk_data] Downloading package stopwords to\n",
      "[nltk_data]     C:\\Users\\praveen\\AppData\\Roaming\\nltk_data...\n",
      "[nltk_data]   Package stopwords is already up-to-date!\n"
     ]
    }
   ],
   "source": [
    "import nltk\n",
    "from nltk import FreqDist\n",
    "nltk.download('stopwords')\n",
    "import warnings\n",
    "warnings.filterwarnings(\"ignore\")\n",
    "from nltk.corpus import stopwords\n",
    "from pattern.en import tag\n",
    "from nltk.corpus import wordnet as wn\n",
    "from wordcloud import WordCloud\n",
    "import en_core_web_sm\n",
    "import pandas as pd\n",
    "pd.set_option(\"display.max_colwidth\", 200)\n",
    "import numpy as np\n",
    "import json\n",
    "import re\n",
    "import gzip\n",
    "import spacy\n",
    "import gensim\n",
    "from gensim import corpora\n",
    "import pyLDAvis\n",
    "import pyLDAvis.gensim\n",
    "import matplotlib.pyplot as plt\n",
    "import seaborn as sns\n",
    "%matplotlib inline"
   ]
  },
  {
   "cell_type": "code",
   "execution_count": 2,
   "metadata": {
    "colab": {},
    "colab_type": "code",
    "id": "k-_gLizownvx"
   },
   "outputs": [],
   "source": [
    "#Unzip and extract dataset\n",
    "def parse(path):\n",
    "  g = gzip.open(path, 'rb')\n",
    "  for l in g:\n",
    "    yield eval(l)\n",
    "    \n",
    "def getDF(path):\n",
    "  i = 0\n",
    "  df = {}\n",
    "  for d in parse(path):\n",
    "    df[i] = d\n",
    "    i += 1\n",
    "  return pd.DataFrame.from_dict(df, orient='index')"
   ]
  },
  {
   "cell_type": "code",
   "execution_count": 3,
   "metadata": {
    "colab": {
     "base_uri": "https://localhost:8080/",
     "height": 35
    },
    "colab_type": "code",
    "id": "FPle7KMpCVuc",
    "outputId": "0e836477-df77-4f96-8df5-3319afddfb50"
   },
   "outputs": [
    {
     "data": {
      "text/plain": [
       "(278677, 9)"
      ]
     },
     "execution_count": 3,
     "metadata": {},
     "output_type": "execute_result"
    }
   ],
   "source": [
    "raw_df = getDF('reviews_Clothing_Shoes_and_Jewelry_5.json.gz')\n",
    "raw_df.shape"
   ]
  },
  {
   "cell_type": "code",
   "execution_count": 36,
   "metadata": {},
   "outputs": [
    {
     "data": {
      "text/html": [
       "<div>\n",
       "<style scoped>\n",
       "    .dataframe tbody tr th:only-of-type {\n",
       "        vertical-align: middle;\n",
       "    }\n",
       "\n",
       "    .dataframe tbody tr th {\n",
       "        vertical-align: top;\n",
       "    }\n",
       "\n",
       "    .dataframe thead th {\n",
       "        text-align: right;\n",
       "    }\n",
       "</style>\n",
       "<table border=\"1\" class=\"dataframe\">\n",
       "  <thead>\n",
       "    <tr style=\"text-align: right;\">\n",
       "      <th></th>\n",
       "      <th>reviewerID</th>\n",
       "      <th>asin</th>\n",
       "      <th>reviewerName</th>\n",
       "      <th>helpful</th>\n",
       "      <th>reviewText</th>\n",
       "      <th>overall</th>\n",
       "      <th>summary</th>\n",
       "      <th>unixReviewTime</th>\n",
       "      <th>reviewTime</th>\n",
       "    </tr>\n",
       "  </thead>\n",
       "  <tbody>\n",
       "    <tr>\n",
       "      <th>340</th>\n",
       "      <td>A2S7YBFPZX1IGQ</td>\n",
       "      <td>B000072UMJ</td>\n",
       "      <td>alysha davis</td>\n",
       "      <td>[0, 0]</td>\n",
       "      <td>fits true to size i can wear this with anything since it being a darker shade of purple wont stand out as much but still has that color its great just what i was looking for totally would recommen...</td>\n",
       "      <td>5.0</td>\n",
       "      <td>great shoes!</td>\n",
       "      <td>1362268800</td>\n",
       "      <td>03 3, 2013</td>\n",
       "    </tr>\n",
       "    <tr>\n",
       "      <th>341</th>\n",
       "      <td>AWF47TNS4EM6A</td>\n",
       "      <td>B000072UMJ</td>\n",
       "      <td>amazon_mama0312</td>\n",
       "      <td>[0, 0]</td>\n",
       "      <td>I got these as a gift for my little sister. She had been wanting a pair of these for a really long time. I was so happy to find them here on amazon for the cheapest price ;) She absolutely LOVES t...</td>\n",
       "      <td>5.0</td>\n",
       "      <td>She loved them!!!</td>\n",
       "      <td>1398729600</td>\n",
       "      <td>04 29, 2014</td>\n",
       "    </tr>\n",
       "    <tr>\n",
       "      <th>342</th>\n",
       "      <td>A1UMN556PVE5ZJ</td>\n",
       "      <td>B000072UMJ</td>\n",
       "      <td>Angie</td>\n",
       "      <td>[0, 0]</td>\n",
       "      <td>My daughter loves converse so the fact that it fit her witout us having to return or try on in the store was a plus - it arrived on time</td>\n",
       "      <td>5.0</td>\n",
       "      <td>Fit her well</td>\n",
       "      <td>1361232000</td>\n",
       "      <td>02 19, 2013</td>\n",
       "    </tr>\n",
       "  </tbody>\n",
       "</table>\n",
       "</div>"
      ],
      "text/plain": [
       "         reviewerID        asin     reviewerName helpful  \\\n",
       "340  A2S7YBFPZX1IGQ  B000072UMJ     alysha davis  [0, 0]   \n",
       "341   AWF47TNS4EM6A  B000072UMJ  amazon_mama0312  [0, 0]   \n",
       "342  A1UMN556PVE5ZJ  B000072UMJ            Angie  [0, 0]   \n",
       "\n",
       "                                                                                                                                                                                                  reviewText  \\\n",
       "340  fits true to size i can wear this with anything since it being a darker shade of purple wont stand out as much but still has that color its great just what i was looking for totally would recommen...   \n",
       "341  I got these as a gift for my little sister. She had been wanting a pair of these for a really long time. I was so happy to find them here on amazon for the cheapest price ;) She absolutely LOVES t...   \n",
       "342                                                                 My daughter loves converse so the fact that it fit her witout us having to return or try on in the store was a plus - it arrived on time   \n",
       "\n",
       "     overall            summary  unixReviewTime   reviewTime  \n",
       "340      5.0       great shoes!      1362268800   03 3, 2013  \n",
       "341      5.0  She loved them!!!      1398729600  04 29, 2014  \n",
       "342      5.0       Fit her well      1361232000  02 19, 2013  "
      ]
     },
     "execution_count": 36,
     "metadata": {},
     "output_type": "execute_result"
    }
   ],
   "source": [
    "#Filtering to reduce local machine load\n",
    "pro_filt = ['B005LERHD8','B005GYGD7O','B008WYDP1C','B0058XIMMM','B00CKGB85I','B007RD9DS8','B002RADHJC',\n",
    "            'B000T9VK56','B0000C321X','B007WNWEFC','B0001ZNZJM','B007WA3K4Y','B007NLX16O','B00012O12A',\n",
    "            'B0008EOEPK','B0007YR8WW','B0067GUM2W','B000O32MLI','B001IB70JY','B004Q7AB4I','B006PGGJOE',\n",
    "            'B003NX87U6','B002PHLVJA','B008KK0ZJ8','B0083S18LQ','B005UVM368','B0007YVP1W','B00DNQIIE8',\n",
    "            'B000KEG4V0','B004YM2FV2','B008NCYALM','B003XDVUEQ','B0007CKMA4','B008X0EW44','B00DMWQOYY',\n",
    "            'B0078FXHNM','B000XDDERK','B002KMI7OC','B000J6ZYL0','B001Q5QLP6','B0074T7TY0','B00550PLV8',\n",
    "            'B003DNR2HK','B007WAU1VY','B0008172S4','B00CIBCJ62','B0068VM5T4','B000FBO0DM','B000QW6LE6',\n",
    "            'B000GOVRDE','B005CSNTJY','B0002TOZ1E','B004R1II48','B000DZUGOM','B00D1MR8YU','B00CN47GXA',\n",
    "            'B001HEF6W0','B000PH25X8','B0013KDS96','B0000ANHST','B00DQYNS3I','B008RUOCJU','B007WAEBPQ',\n",
    "            'B0053XF2U2','B0051U15E4','B001AOZVSQ','B0009F0Z38','B0026P45QW','B0007YXTOS','B0006LMBJ6',\n",
    "            'B00BNB3A0W','B000EIJG0I','B000072UMJ','B000KKTPD8','B000FH4JJQ','B0076R6KY0','B0012QM8IS',\n",
    "            'B0081IZ3UA','B0031U0PO2','B001188FZC','B00DMWQK0W','B004Z1CZDK','B009DNWFD0','B004M6XUI2',\n",
    "            'B009ZDEXQK','B006SCSOOS','B0051D7GF8','B003DNR4XC','B002APTA9K','B0007QCOTM','B0009B3IN6',\n",
    "            'B003YBHF82','B0012M0XSE','B000MXIMHI','B000KD44G8','B007DLVLAW','B0011D2FL2','B000KGOHLM',\n",
    "            'B000EX15NY','B0019MPRJW']\n",
    "df = raw_df[raw_df.asin.isin(pro_filt)]\n",
    "df.head(3)"
   ]
  },
  {
   "cell_type": "code",
   "execution_count": 64,
   "metadata": {},
   "outputs": [
    {
     "data": {
      "text/plain": [
       "(14153, 9)"
      ]
     },
     "execution_count": 64,
     "metadata": {},
     "output_type": "execute_result"
    }
   ],
   "source": [
    "df.shape"
   ]
  },
  {
   "cell_type": "code",
   "execution_count": 65,
   "metadata": {},
   "outputs": [],
   "source": [
    "# #Code Testing data to be hard coded\n",
    "\n",
    "# row_data = []\n",
    "# row_data.append([\n",
    "#                     \"This is a great tutu and at a really great price. It doesn't look cheap at all. I'm so glad I looked on Amazon and found such an affordable tutu that isn't made poorly. A++\",\n",
    "#                     \"Great tutu-  not cheaply made\"])\n",
    "\n",
    "# row_data.append([\n",
    "#                     \"Great tutu for a great price. It isn't a &#34;full&#34; or high quality skirt, but it is perfect for my daughter to wear over leggings for her little outfits.\",\n",
    "#                     \"Great value\"])\n",
    "# row_data.append(\n",
    "#     [\"My daughter liked this, and it with her costume, but she would have liked it to be a bit fuller.\", 'Good'])\n",
    "# row_data.append([\n",
    "#                     \"For what I paid for two tutus is unbeatable anywhere!  I ordered a pink and turquios and they are vibrant and beautiful! The tutu is very full! Princess style! Not cheaply made! Not cheap materia! Obviously someone made these with love and care! I paid less than 7 bucks for a tutu I and I feel proud of my self for researching to the point of finding gold!Recommend 2-6 years!My daughter is two ! Wears size 4t and this skirt ( one size ) fit perfect and will probaly be able to accommodate her quickly growing waist for some time!\",\n",
    "#                     \"WOW !! ..is al345l I have to say!\"])\n",
    "# row_data.append([\n",
    "#                     \"Wonder my niece wears it every single day, yellow is her favorite color right now an this cute little tutu made he da. It is well built and we hope she gets lots of wear out of it.\",\n",
    "#                     \"Wonderful and great shipping.\"])\n",
    "# row_data.append([\n",
    "#                     \"My daughter has worn this skirt almost every day since she received it and it's even been through the washer along with the other clothes.  It's amazing quality!  She fits a 4T and it's just above her knee, and has a little bit of growing room, although I'm not so sure as much as others are saying.  But considering how often she wears it, I'm not worried! ;)\",\n",
    "#                     'Excellent quality!'])\n",
    "\n",
    "# df = pd.DataFrame(row_data, columns=['reviewText','summary'])\n",
    "\n",
    "# # #preview dataframe\n",
    "# # headers = review_df.dtypes.index\n",
    "# # print(headers)\n",
    "# # sample = review_df.head()\n",
    "# # print(sample)"
   ]
  },
  {
   "cell_type": "code",
   "execution_count": 66,
   "metadata": {
    "colab": {
     "base_uri": "https://localhost:8080/",
     "height": 459
    },
    "colab_type": "code",
    "id": "17zMP_rlEnCo",
    "outputId": "7f4dcd45-133b-49a5-b5fe-7f85e8d741b6"
   },
   "outputs": [],
   "source": [
    "# df.head()"
   ]
  },
  {
   "cell_type": "code",
   "execution_count": 37,
   "metadata": {
    "colab": {},
    "colab_type": "code",
    "id": "jjLyeSxg41OQ"
   },
   "outputs": [],
   "source": [
    "#Word Frequency bar chart\n",
    "def freq_words(x, terms = 30):\n",
    "  all_words = ' '.join([text for text in x])\n",
    "  all_words = all_words.split()\n",
    "  \n",
    "  fdist = FreqDist(all_words)\n",
    "  words_df = pd.DataFrame({'word':list(fdist.keys()), 'count':list(fdist.values())})\n",
    "  \n",
    "  # selecting top 20 most frequent words\n",
    "  d = words_df.nlargest(columns=\"count\", n = terms) \n",
    "  plt.figure(figsize=(20,5))\n",
    "  ax = sns.barplot(data=d, x= \"word\", y = \"count\")\n",
    "  ax.set(ylabel = 'Count')\n",
    "  plt.show()"
   ]
  },
  {
   "cell_type": "code",
   "execution_count": 38,
   "metadata": {
    "colab": {
     "base_uri": "https://localhost:8080/",
     "height": 426
    },
    "colab_type": "code",
    "id": "pennLlyl5Whp",
    "outputId": "057ab4de-0c87-4d9a-edf8-7a4bbc7e8949"
   },
   "outputs": [
    {
     "data": {
      "image/png": "[encoded data removed]",
      "text/plain": [
       "<Figure size 1440x360 with 1 Axes>"
      ]
     },
     "metadata": {
      "needs_background": "light"
     },
     "output_type": "display_data"
    }
   ],
   "source": [
    "freq_words(df['reviewText'])"
   ]
  },
  {
   "cell_type": "code",
   "execution_count": 50,
   "metadata": {
    "colab": {},
    "colab_type": "code",
    "id": "jUc1_gTcLfYt"
   },
   "outputs": [
    {
     "name": "stdout",
     "output_type": "stream",
     "text": [
      "     review_stopwords  summary_stopwords\n",
      "340                 0                  0\n",
      "341                 0                  1\n",
      "342                 0                  0\n",
      "343                 0                  0\n",
      "344                 0                  0\n"
     ]
    }
   ],
   "source": [
    "# replace \"n't\" with \" not\"\n",
    "df['reviewText'] = df['reviewText'].str.replace(\"n\\'t\", \" not\")\n",
    "\n",
    "# remove unwanted characters, numbers and symbols\n",
    "df['reviewText'] = df['reviewText'].str.replace(\"[^a-zA-Z#]\", \" \")\n",
    "\n",
    "#number of stop words\n",
    "stop = stopwords.words('english')\n",
    "custom_stop = ['the','they','this']\n",
    "for x in custom_stop:\n",
    "    stop.append(x)\n",
    "df['review_stopwords'] = df['reviewText'].apply(lambda x: len([x for x in x.split() if x in stop]))\n",
    "df['summary_stopwords'] = df['summary'].apply(lambda x: len([x for x in x.split() if x in stop]))\n",
    "print(df[['review_stopwords','summary_stopwords']].head(5))\n",
    "\n",
    "#remove Stop words\n",
    "df['reviewText'] = df['reviewText'].apply(lambda x: \" \".join(x for x in x.split() if x not in stop))\n",
    "df['summary'] = df['summary'].apply(lambda x: \" \".join(x for x in x.split() if x not in stop))\n",
    "\n",
    "# remove short words (length < 3)\n",
    "df['reviewText'] = df['reviewText'].apply(lambda x: ' '.join([w for w in x.split() if len(w)>2]))\n",
    "\n",
    "#convert all char to lower case\n",
    "reviews = df['reviewText'].apply(lambda x: \" \".join(x.lower() for x in x.split()))\n",
    "df['summary'] = df['summary'].apply(lambda x: \" \".join(x.lower() for x in x.split()))"
   ]
  },
  {
   "cell_type": "code",
   "execution_count": 33,
   "metadata": {},
   "outputs": [
    {
     "name": "stdout",
     "output_type": "stream",
     "text": [
      "['i', 'me', 'my', 'myself', 'we', 'our', 'ours', 'ourselves', 'you', \"you're\", \"you've\", \"you'll\", \"you'd\", 'your', 'yours', 'yourself', 'yourselves', 'he', 'him', 'his', 'himself', 'she', \"she's\", 'her', 'hers', 'herself', 'it', \"it's\", 'its', 'itself', 'they', 'them', 'their', 'theirs', 'themselves', 'what', 'which', 'who', 'whom', 'this', 'that', \"that'll\", 'these', 'those', 'am', 'is', 'are', 'was', 'were', 'be', 'been', 'being', 'have', 'has', 'had', 'having', 'do', 'does', 'did', 'doing', 'a', 'an', 'the', 'and', 'but', 'if', 'or', 'because', 'as', 'until', 'while', 'of', 'at', 'by', 'for', 'with', 'about', 'against', 'between', 'into', 'through', 'during', 'before', 'after', 'above', 'below', 'to', 'from', 'up', 'down', 'in', 'out', 'on', 'off', 'over', 'under', 'again', 'further', 'then', 'once', 'here', 'there', 'when', 'where', 'why', 'how', 'all', 'any', 'both', 'each', 'few', 'more', 'most', 'other', 'some', 'such', 'no', 'nor', 'not', 'only', 'own', 'same', 'so', 'than', 'too', 'very', 's', 't', 'can', 'will', 'just', 'don', \"don't\", 'should', \"should've\", 'now', 'd', 'll', 'm', 'o', 're', 've', 'y', 'ain', 'aren', \"aren't\", 'couldn', \"couldn't\", 'didn', \"didn't\", 'doesn', \"doesn't\", 'hadn', \"hadn't\", 'hasn', \"hasn't\", 'haven', \"haven't\", 'isn', \"isn't\", 'ma', 'mightn', \"mightn't\", 'mustn', \"mustn't\", 'needn', \"needn't\", 'shan', \"shan't\", 'shouldn', \"shouldn't\", 'wasn', \"wasn't\", 'weren', \"weren't\", 'won', \"won't\", 'wouldn', \"wouldn't\", 'the', 'they', 'this']\n"
     ]
    }
   ],
   "source": [
    "print(stop)"
   ]
  },
  {
   "cell_type": "code",
   "execution_count": 51,
   "metadata": {
    "colab": {
     "base_uri": "https://localhost:8080/",
     "height": 426
    },
    "colab_type": "code",
    "id": "9eSP1Ruj9fdT",
    "outputId": "1bfc8f92-c390-4d1c-cfa3-ed6b9982271f"
   },
   "outputs": [
    {
     "data": {
      "image/png": "[encoded data removed]",
      "text/plain": [
       "<Figure size 1440x360 with 1 Axes>"
      ]
     },
     "metadata": {
      "needs_background": "light"
     },
     "output_type": "display_data"
    }
   ],
   "source": [
    "freq_words(reviews, 35)"
   ]
  },
  {
   "cell_type": "code",
   "execution_count": 14,
   "metadata": {},
   "outputs": [
    {
     "data": {
      "image/png": "[encoded data removed]",
      "text/plain": [
       "<Figure size 1440x360 with 1 Axes>"
      ]
     },
     "metadata": {
      "needs_background": "light"
     },
     "output_type": "display_data"
    }
   ],
   "source": [
    "custom_stop = ['the','they','this']\n",
    "\n",
    "df['review_stopwords'] = reviews.apply(lambda x: len([x for x in x.split() if x in custom_stop]))\n",
    "df['review_stopwords'].head()\n",
    "#remove Stop words\n",
    "reviews = df['reviewText'].apply(lambda x: \" \".join(x for x in x.split() if x not in custom_stop))\n",
    "freq_words(reviews, 35)"
   ]
  },
  {
   "cell_type": "code",
   "execution_count": 62,
   "metadata": {
    "colab": {},
    "colab_type": "code",
    "id": "x3MUTshKDvC4"
   },
   "outputs": [
    {
     "name": "stdout",
     "output_type": "stream",
     "text": [
      "350    [old, son, needed, black, shoes, play, want, buy, dress, shoes, would, get, additional, wear, opted, black, converse, they, adorable, fit, well, size, little, kids, ordered, fine, bit, growing, ro...\n",
      "Name: reviewText, dtype: object\n"
     ]
    }
   ],
   "source": [
    "nlp = en_core_web_sm.load(disable=['parser', 'ner'])\n",
    "\n",
    "#lemmatization method\n",
    "def lemmatization(texts, tags=['NOUN', 'ADJ', 'VERB']):\n",
    "    output = []\n",
    "    for sent in texts:\n",
    "        doc = nlp(\" \".join(sent)) \n",
    "        output.append([token.lemma_ for token in doc if token.pos_ in tags])\n",
    "    return output\n",
    "\n",
    "#tokenization\n",
    "tokenized_reviews = pd.Series(reviews).apply(lambda x: x.split())\n",
    "print(tokenized_reviews.iloc[[10]])"
   ]
  },
  {
   "cell_type": "code",
   "execution_count": 63,
   "metadata": {
    "colab": {},
    "colab_type": "code",
    "id": "x3MUTshKDvC4"
   },
   "outputs": [
    {
     "name": "stdout",
     "output_type": "stream",
     "text": [
      "['old', 'son', 'need', 'black', 'shoe', 'play', 'want', 'buy', 'dress', 'shoe', 'would', 'get', 'additional', 'wear', 'opted', 'black', 'converse', 'adorable', 'fit', 'size', 'little', 'kid', 'order', 'fine', 'bit', 'grow', 'room', 'call', 'chuck', 'think', 'cool', 'wear', 'wear', 'several', 'time', 'play', 'overall', 'good', 'purchase']\n"
     ]
    }
   ],
   "source": [
    "#lemmatization takes a lot of time to load\n",
    "reviews_2 = lemmatization(tokenized_reviews)\n",
    "print(reviews_2[10])"
   ]
  },
  {
   "cell_type": "code",
   "execution_count": 65,
   "metadata": {
    "colab": {},
    "colab_type": "code",
    "id": "aZ9ZPfO-CEmD"
   },
   "outputs": [],
   "source": [
    "# Merge processed reviews with df in a seperate column\n",
    "reviews_3 = []\n",
    "for i in range(len(reviews_2)):\n",
    "    reviews_3.append(' '.join(reviews_2[i]))\n",
    "    \n",
    "df['reviews'] = reviews_3"
   ]
  },
  {
   "cell_type": "code",
   "execution_count": 66,
   "metadata": {
    "colab": {
     "base_uri": "https://localhost:8080/",
     "height": 426
    },
    "colab_type": "code",
    "id": "Zyj9zVQqCY6R",
    "outputId": "a71332fc-e6bf-4581-e3f8-4fb081bbb8f1"
   },
   "outputs": [
    {
     "data": {
      "image/png": "[encoded data removed]",
      "text/plain": [
       "<Figure size 1440x360 with 1 Axes>"
      ]
     },
     "metadata": {
      "needs_background": "light"
     },
     "output_type": "display_data"
    }
   ],
   "source": [
    "freq_words(df['reviews'], 35)"
   ]
  },
  {
   "cell_type": "code",
   "execution_count": 68,
   "metadata": {
    "colab": {},
    "colab_type": "code",
    "id": "FBtKwstViu_h"
   },
   "outputs": [],
   "source": [
    "# Create the term dictionary of our corpus, where every unique term is assigned an index\n",
    "dictionary = corpora.Dictionary(reviews_2)\n",
    "\n",
    "# Convert list of reviews (reviews_2) into a Document Term Matrix using the dictionary prepared above.\n",
    "doc_term_matrix = [dictionary.doc2bow(rev) for rev in reviews_2]"
   ]
  },
  {
   "cell_type": "code",
   "execution_count": 69,
   "metadata": {
    "colab": {},
    "colab_type": "code",
    "id": "X6JSF612qkm1"
   },
   "outputs": [
    {
     "data": {
      "text/plain": [
       "[(0,\n",
       "  '0.041*\"cute\" + 0.031*\"love\" + 0.028*\"look\" + 0.028*\"great\" + 0.027*\"wear\"'),\n",
       " (1,\n",
       "  '0.026*\"necklace\" + 0.022*\"get\" + 0.015*\"buy\" + 0.014*\"love\" + 0.014*\"gift\"'),\n",
       " (2,\n",
       "  '0.026*\"fit\" + 0.023*\"shirt\" + 0.019*\"look\" + 0.012*\"wear\" + 0.012*\"good\"'),\n",
       " (3,\n",
       "  '0.040*\"foot\" + 0.037*\"shoe\" + 0.029*\"flop\" + 0.026*\"flip\" + 0.026*\"wear\"'),\n",
       " (4,\n",
       "  '0.049*\"size\" + 0.034*\"order\" + 0.030*\"fit\" + 0.023*\"wear\" + 0.022*\"would\"')]"
      ]
     },
     "execution_count": 69,
     "metadata": {},
     "output_type": "execute_result"
    }
   ],
   "source": [
    "# Creating the object for LDA model using gensim library\n",
    "LDA = gensim.models.ldamodel.LdaModel\n",
    "\n",
    "# Build LDA model\n",
    "warnings.filterwarnings(\"ignore\", category=DeprecationWarning)\n",
    "lda_model = LDA(corpus=doc_term_matrix,\n",
    "                id2word=dictionary,\n",
    "                num_topics=5, \n",
    "                random_state=30,\n",
    "                chunksize=1000,\n",
    "                passes=1)\n",
    "#Print topics\n",
    "lda_model.print_topics(num_topics=5,num_words=5)"
   ]
  },
  {
   "cell_type": "code",
   "execution_count": 70,
   "metadata": {
    "colab": {
     "base_uri": "https://localhost:8080/",
     "height": 860
    },
    "colab_type": "code",
    "id": "4nRZyKPDCauL",
    "outputId": "b0ef59ff-5204-4ea1-80c9-f100cc9bf1cb"
   },
   "outputs": [
    {
     "data": {
      "text/html": [
       "\n",
       "<link rel=\"stylesheet\" type=\"text/css\" href=\"https://cdn.rawgit.com/bmabey/pyLDAvis/files/ldavis.v1.0.0.css\">\n",
       "\n",
       "\n",
       "<div id=\"ldavis_el584426194752241605943155467\"></div>\n",
       "<script type=\"text/javascript\">\n",
       "\n",
       "var ldavis_el584426194752241605943155467_data = {\"mdsDat\": {\"x\": [-0.03712277869994887, -0.010309814179002027, -0.020395111296748505, 0.20083922154502082, -0.13301151736932135], \"y\": [0.12809887765379893, -0.012158745260798926, 0.07594686504207121, -0.057942672547170386, -0.13394432488790087], \"topics\": [1, 2, 3, 4, 5], \"cluster\": [1, 1, 1, 1, 1], \"Freq\": [24.769834518432617, 20.570138931274414, 20.546127319335938, 18.071260452270508, 16.042644500732422]}, \"tinfo\": {\"Category\": [\"Default\", \"Default\", \"Default\", \"Default\", \"Default\", \"Default\", \"Default\", \"Default\", \"Default\", \"Default\", \"Default\", \"Default\", \"Default\", \"Default\", \"Default\", \"Default\", \"Default\", \"Default\", \"Default\", \"Default\", \"Default\", \"Default\", \"Default\", \"Default\", \"Default\", \"Default\", \"Default\", \"Default\", \"Default\", \"Default\", \"Topic1\", \"Topic1\", \"Topic1\", \"Topic1\", \"Topic1\", \"Topic1\", \"Topic1\", \"Topic1\", \"Topic1\", \"Topic1\", \"Topic1\", \"Topic1\", \"Topic1\", \"Topic1\", \"Topic1\", \"Topic1\", \"Topic1\", \"Topic1\", \"Topic1\", \"Topic1\", \"Topic1\", \"Topic1\", \"Topic1\", \"Topic1\", \"Topic1\", \"Topic1\", \"Topic1\", \"Topic1\", \"Topic1\", \"Topic1\", \"Topic1\", \"Topic1\", \"Topic1\", \"Topic1\", \"Topic1\", \"Topic1\", \"Topic1\", \"Topic1\", \"Topic1\", \"Topic1\", \"Topic1\", \"Topic1\", \"Topic1\", \"Topic1\", \"Topic1\", \"Topic1\", \"Topic1\", \"Topic1\", \"Topic1\", \"Topic1\", \"Topic1\", \"Topic1\", \"Topic1\", \"Topic1\", \"Topic1\", \"Topic1\", \"Topic1\", \"Topic1\", \"Topic1\", \"Topic1\", \"Topic1\", \"Topic1\", \"Topic1\", \"Topic1\", \"Topic1\", \"Topic1\", \"Topic1\", \"Topic1\", \"Topic1\", \"Topic1\", \"Topic1\", \"Topic1\", \"Topic1\", \"Topic1\", \"Topic1\", \"Topic1\", \"Topic1\", \"Topic1\", \"Topic2\", \"Topic2\", \"Topic2\", \"Topic2\", \"Topic2\", \"Topic2\", \"Topic2\", \"Topic2\", \"Topic2\", \"Topic2\", \"Topic2\", \"Topic2\", \"Topic2\", \"Topic2\", \"Topic2\", \"Topic2\", \"Topic2\", \"Topic2\", \"Topic2\", \"Topic2\", \"Topic2\", \"Topic2\", \"Topic2\", \"Topic2\", \"Topic2\", \"Topic2\", \"Topic2\", \"Topic2\", \"Topic2\", \"Topic2\", \"Topic2\", \"Topic2\", \"Topic2\", \"Topic2\", \"Topic2\", \"Topic2\", \"Topic2\", \"Topic2\", \"Topic2\", \"Topic2\", \"Topic2\", \"Topic2\", \"Topic2\", \"Topic2\", \"Topic2\", \"Topic2\", \"Topic2\", \"Topic2\", \"Topic2\", \"Topic2\", \"Topic2\", \"Topic2\", \"Topic2\", \"Topic2\", \"Topic2\", \"Topic2\", \"Topic2\", \"Topic2\", \"Topic2\", \"Topic2\", \"Topic2\", \"Topic2\", \"Topic2\", \"Topic2\", \"Topic2\", \"Topic2\", \"Topic2\", \"Topic2\", \"Topic2\", \"Topic2\", \"Topic2\", \"Topic2\", \"Topic2\", \"Topic3\", \"Topic3\", \"Topic3\", \"Topic3\", \"Topic3\", \"Topic3\", \"Topic3\", \"Topic3\", \"Topic3\", \"Topic3\", \"Topic3\", \"Topic3\", \"Topic3\", \"Topic3\", \"Topic3\", \"Topic3\", \"Topic3\", \"Topic3\", \"Topic3\", \"Topic3\", \"Topic3\", \"Topic3\", \"Topic3\", \"Topic3\", \"Topic3\", \"Topic3\", \"Topic3\", \"Topic3\", \"Topic3\", \"Topic3\", \"Topic3\", \"Topic3\", \"Topic3\", \"Topic3\", \"Topic3\", \"Topic3\", \"Topic3\", \"Topic3\", \"Topic3\", \"Topic3\", \"Topic3\", \"Topic3\", \"Topic3\", \"Topic3\", \"Topic3\", \"Topic3\", \"Topic3\", \"Topic3\", \"Topic3\", \"Topic3\", \"Topic3\", \"Topic3\", \"Topic3\", \"Topic3\", \"Topic3\", \"Topic3\", \"Topic3\", \"Topic3\", \"Topic3\", \"Topic3\", \"Topic3\", \"Topic3\", \"Topic3\", \"Topic3\", \"Topic3\", \"Topic3\", \"Topic3\", \"Topic3\", \"Topic3\", \"Topic3\", \"Topic3\", \"Topic3\", \"Topic3\", \"Topic3\", \"Topic3\", \"Topic4\", \"Topic4\", \"Topic4\", \"Topic4\", \"Topic4\", \"Topic4\", \"Topic4\", \"Topic4\", \"Topic4\", \"Topic4\", \"Topic4\", \"Topic4\", \"Topic4\", \"Topic4\", \"Topic4\", \"Topic4\", \"Topic4\", \"Topic4\", \"Topic4\", \"Topic4\", \"Topic4\", \"Topic4\", \"Topic4\", \"Topic4\", \"Topic4\", \"Topic4\", \"Topic4\", \"Topic4\", \"Topic4\", \"Topic4\", \"Topic4\", \"Topic4\", \"Topic4\", \"Topic4\", \"Topic4\", \"Topic4\", \"Topic4\", \"Topic4\", \"Topic4\", \"Topic4\", \"Topic4\", \"Topic4\", \"Topic4\", \"Topic4\", \"Topic4\", \"Topic4\", \"Topic4\", \"Topic4\", \"Topic4\", \"Topic4\", \"Topic4\", \"Topic4\", \"Topic4\", \"Topic4\", \"Topic4\", \"Topic4\", \"Topic4\", \"Topic4\", \"Topic4\", \"Topic4\", \"Topic4\", \"Topic4\", \"Topic4\", \"Topic4\", \"Topic4\", \"Topic4\", \"Topic4\", \"Topic4\", \"Topic4\", \"Topic4\", \"Topic4\", \"Topic4\", \"Topic4\", \"Topic5\", \"Topic5\", \"Topic5\", \"Topic5\", \"Topic5\", \"Topic5\", \"Topic5\", \"Topic5\", \"Topic5\", \"Topic5\", \"Topic5\", \"Topic5\", \"Topic5\", \"Topic5\", \"Topic5\", \"Topic5\", \"Topic5\", \"Topic5\", \"Topic5\", \"Topic5\", \"Topic5\", \"Topic5\", \"Topic5\", \"Topic5\", \"Topic5\", \"Topic5\", \"Topic5\", \"Topic5\", \"Topic5\", \"Topic5\", \"Topic5\", \"Topic5\", \"Topic5\", \"Topic5\", \"Topic5\", \"Topic5\", \"Topic5\", \"Topic5\", \"Topic5\", \"Topic5\", \"Topic5\", \"Topic5\", \"Topic5\", \"Topic5\", \"Topic5\", \"Topic5\", \"Topic5\", \"Topic5\", \"Topic5\", \"Topic5\", \"Topic5\", \"Topic5\", \"Topic5\", \"Topic5\", \"Topic5\", \"Topic5\", \"Topic5\", \"Topic5\", \"Topic5\", \"Topic5\", \"Topic5\", \"Topic5\", \"Topic5\", \"Topic5\", \"Topic5\", \"Topic5\", \"Topic5\", \"Topic5\", \"Topic5\", \"Topic5\", \"Topic5\", \"Topic5\", \"Topic5\"], \"Freq\": [2817.0, 3979.0, 2854.0, 1716.0, 3516.0, 1656.0, 3302.0, 1680.0, 1068.0, 1163.0, 2746.0, 926.0, 3547.0, 755.0, 1715.0, 3440.0, 1277.0, 5281.0, 1290.0, 865.0, 794.0, 1921.0, 872.0, 5033.0, 5137.0, 588.0, 1062.0, 1103.0, 684.0, 671.0, 220.17420959472656, 151.48501586914062, 225.9071807861328, 192.253173828125, 130.4611358642578, 136.25364685058594, 128.14303588867188, 110.02449798583984, 115.28227233886719, 130.703857421875, 82.17538452148438, 91.00852966308594, 78.63927459716797, 77.04339599609375, 99.54278564453125, 73.25511169433594, 72.95560455322266, 64.27409362792969, 63.712467193603516, 354.8016662597656, 64.69525146484375, 67.93446350097656, 144.76907348632812, 54.355045318603516, 56.71440887451172, 56.826107025146484, 51.52421569824219, 195.5811767578125, 39.714508056640625, 37.311946868896484, 306.144287109375, 138.0112762451172, 117.31732940673828, 175.830078125, 150.52987670898438, 179.2305450439453, 149.58070373535156, 172.50711059570312, 804.562255859375, 219.43515014648438, 482.27801513671875, 841.2913818359375, 1869.586181640625, 160.42356872558594, 497.3258972167969, 158.06590270996094, 201.96194458007812, 447.6186828613281, 548.662841796875, 2123.2626953125, 211.0637969970703, 953.55615234375, 271.6988525390625, 255.67782592773438, 574.7593383789062, 350.4338073730469, 1515.7386474609375, 593.4889526367188, 239.96771240234375, 329.63671875, 772.7299194335938, 966.2728881835938, 743.2684936523438, 485.4339294433594, 620.9066772460938, 476.0585021972656, 985.1085205078125, 350.8566589355469, 660.75732421875, 720.4561767578125, 653.1068115234375, 588.6463623046875, 427.6886291503906, 435.2948303222656, 417.8735046386719, 392.05950927734375, 446.6806335449219, 398.1938781738281, 2807.2470703125, 175.41709899902344, 150.04051208496094, 101.848388671875, 67.98645782470703, 57.75137710571289, 54.2924690246582, 112.08719635009766, 74.5579833984375, 54.08551788330078, 77.81298828125, 44.27382278442383, 44.13314437866211, 42.77524185180664, 41.22856521606445, 39.09935760498047, 39.431846618652344, 37.13919448852539, 37.39778518676758, 47.72645950317383, 33.35741424560547, 29.754865646362305, 29.802154541015625, 135.87918090820312, 80.08794403076172, 28.33985710144043, 27.22774314880371, 24.448963165283203, 24.422657012939453, 92.98601531982422, 68.21440887451172, 36.62953567504883, 79.22502899169922, 45.19404220581055, 633.7533569335938, 438.602783203125, 200.1016387939453, 1158.1318359375, 1898.2188720703125, 337.8529968261719, 126.36504364013672, 136.8058319091797, 152.6605987548828, 1480.9241943359375, 152.0292510986328, 2093.2158203125, 576.4495239257812, 1907.0428466796875, 546.1591796875, 153.83555603027344, 182.64041137695312, 556.8278198242188, 1239.52685546875, 1807.793701171875, 1146.1075439453125, 502.5624694824219, 788.75830078125, 706.2007446289062, 383.80426025390625, 888.285400390625, 529.4912109375, 856.831298828125, 652.7998046875, 941.4503173828125, 513.5596313476562, 751.8441772460938, 403.6083984375, 374.19268798828125, 478.16412353515625, 326.4835510253906, 353.6563415527344, 532.6146850585938, 372.6348571777344, 94.40787506103516, 66.6790771484375, 63.11457061767578, 62.83369064331055, 48.870182037353516, 40.42722702026367, 37.14444351196289, 41.657894134521484, 34.06985855102539, 30.372665405273438, 31.561140060424805, 27.696409225463867, 27.648080825805664, 32.94695281982422, 51.738616943359375, 32.33827590942383, 34.2525520324707, 45.53908157348633, 41.27461624145508, 46.75703048706055, 20.324167251586914, 19.02424430847168, 55.51353073120117, 38.291404724121094, 17.5340576171875, 17.58376121520996, 296.6114807128906, 16.775732040405273, 17.817909240722656, 16.113309860229492, 62.26660919189453, 179.91201782226562, 29.06261444091797, 44.98401641845703, 3328.751220703125, 39.18262481689453, 109.44607543945312, 41.43666458129883, 448.5694885253906, 1031.7711181640625, 439.879638671875, 544.5151977539062, 2308.820068359375, 1213.5433349609375, 213.3789825439453, 149.71189880371094, 869.5070190429688, 117.24758911132812, 208.88636779785156, 192.76866149902344, 779.52099609375, 401.8273010253906, 1492.6785888671875, 2008.62939453125, 1325.303955078125, 92.74897003173828, 911.8046264648438, 436.5755310058594, 288.0363464355469, 483.49822998046875, 1537.870849609375, 1206.05908203125, 1211.4537353515625, 1126.4849853515625, 533.8851928710938, 499.3088684082031, 490.69708251953125, 674.5816040039062, 470.07757568359375, 709.582275390625, 590.4605712890625, 396.57183837890625, 549.4749755859375, 421.0691223144531, 411.3622741699219, 1710.5848388671875, 131.7805938720703, 70.49557495117188, 91.30631256103516, 119.04297637939453, 106.0201644897461, 91.76321411132812, 113.76969909667969, 204.5628204345703, 43.34381103515625, 903.7694702148438, 72.14379119873047, 65.26918029785156, 94.34945678710938, 32.5199089050293, 47.50082778930664, 26.66314697265625, 29.037572860717773, 25.983083724975586, 25.215744018554688, 27.104228973388672, 26.414825439453125, 26.788209915161133, 23.916236877441406, 27.85992431640625, 26.280864715576172, 27.625444412231445, 28.756771087646484, 26.812923431396484, 26.944622039794922, 1017.6039428710938, 1563.1339111328125, 200.69036865234375, 81.47172546386719, 134.49618530273438, 546.3648681640625, 70.05091094970703, 221.08412170410156, 1037.598388671875, 430.550048828125, 48.97525405883789, 2360.51171875, 342.6310119628906, 330.5016784667969, 83.34434509277344, 150.7403564453125, 702.32421875, 928.7198486328125, 2180.75244140625, 209.67860412597656, 443.0999450683594, 342.15728759765625, 1503.0416259765625, 176.00144958496094, 269.5844421386719, 1521.6038818359375, 461.6907958984375, 256.5784912109375, 198.747314453125, 382.56884765625, 550.7145385742188, 352.5577697753906, 657.0597534179688, 326.2889709472656, 396.5132141113281, 360.70648193359375, 362.7419738769531, 532.5881958007812, 414.178955078125, 313.2475280761719, 458.9424133300781, 357.7684326171875, 355.2763977050781, 278.6630859375, 192.1599578857422, 183.7642364501953, 100.38973999023438, 83.35928344726562, 77.4736099243164, 318.0783996582031, 291.6484375, 141.348388671875, 49.92562484741211, 60.260379791259766, 41.50413513183594, 35.50003433227539, 33.49702835083008, 34.44133377075195, 38.96166229248047, 96.66644287109375, 28.74551773071289, 28.908937454223633, 30.675724029541016, 297.8318176269531, 25.994518280029297, 24.492416381835938, 20.49789810180664, 39.38901138305664, 33.70531463623047, 23.383760452270508, 18.909996032714844, 28.377532958984375, 59.31686782836914, 716.993408203125, 187.23458862304688, 74.38276672363281, 74.86456298828125, 219.89541625976562, 355.42181396484375, 1354.1903076171875, 644.3189697265625, 134.0899658203125, 688.909912109375, 360.7941589355469, 274.24609375, 82.50037384033203, 492.8407287597656, 337.6054992675781, 88.1479263305664, 452.6272888183594, 184.87832641601562, 151.7826385498047, 235.75599670410156, 336.8517150878906, 323.0640563964844, 167.90724182128906, 331.0933837890625, 255.47616577148438, 505.2533874511719, 1182.9542236328125, 278.6788635253906, 685.438720703125, 379.7353210449219, 473.5909118652344, 813.178955078125, 755.12548828125, 593.0106811523438, 402.00372314453125, 404.1711120605469, 342.2382507324219, 586.5484008789062, 374.6521301269531, 367.1490173339844, 349.6757507324219, 365.6617126464844, 300.3819274902344], \"Term\": [\"cute\", \"size\", \"foot\", \"flop\", \"shoe\", \"flip\", \"order\", \"necklace\", \"yoga\", \"walk\", \"shirt\", \"strap\", \"comfortable\", \"gift\", \"small\", \"great\", \"sandal\", \"fit\", \"large\", \"chain\", \"earring\", \"price\", \"toe\", \"love\", \"look\", \"support\", \"sweater\", \"comfy\", \"piece\", \"owl\", \"tunic\", \"credit\", \"secure\", \"fix\", \"present\", \"flower\", \"soooo\", \"drape\", \"begin\", \"niece\", \"cling\", \"classy\", \"tone\", \"delicate\", \"suede\", \"gentle\", \"charm\", \"oversized\", \"frame\", \"wallet\", \"cruise\", \"bummer\", \"sheer\", \"soooooo\", \"cash\", \"pure\", \"cousin\", \"head\", \"fault\", \"combo\", \"jacket\", \"walking\", \"granddaughter\", \"skinny\", \"instruction\", \"pocket\", \"clasp\", \"mid\", \"wash\", \"smell\", \"waist\", \"sweater\", \"shirt\", \"shrink\", \"jean\", \"thigh\", \"leg\", \"pant\", \"thin\", \"fit\", \"arm\", \"material\", \"dry\", \"hang\", \"fabric\", \"weight\", \"look\", \"dress\", \"neck\", \"loose\", \"nice\", \"good\", \"make\", \"long\", \"little\", \"top\", \"wear\", \"length\", \"great\", \"get\", \"buy\", \"color\", \"see\", \"expect\", \"feel\", \"soft\", \"love\", \"would\", \"cute\", \"unique\", \"surprised\", \"vintage\", \"swell\", \"attach\", \"accessory\", \"sound\", \"purchasing\", \"environment\", \"shiny\", \"sensitive\", \"kick\", \"complement\", \"clingy\", \"packaging\", \"chic\", \"planning\", \"bare\", \"toddler\", \"gotten\", \"sporty\", \"capris\", \"maxi\", \"value\", \"min\", \"hrs\", \"fabulous\", \"exception\", \"supportive\", \"pic\", \"broken\", \"child\", \"period\", \"skirt\", \"compliment\", \"winter\", \"price\", \"great\", \"warm\", \"live\", \"outfit\", \"weather\", \"good\", \"beat\", \"love\", \"quality\", \"look\", \"comfy\", \"lightweight\", \"ship\", \"recommend\", \"buy\", \"wear\", \"comfortable\", \"cheap\", \"make\", \"nice\", \"lot\", \"color\", \"time\", \"shoe\", \"pair\", \"get\", \"perfect\", \"would\", \"dress\", \"work\", \"material\", \"light\", \"day\", \"fit\", \"expect\", \"blouse\", \"pop\", \"advice\", \"lover\", \"rain\", \"nervous\", \"alot\", \"vibrant\", \"holiday\", \"safe\", \"rare\", \"rich\", \"anticipate\", \"who\", \"sooo\", \"stability\", \"wearable\", \"texture\", \"looking\", \"advise\", \"zip\", \"tho\", \"trendy\", \"liked\", \"instep\", \"bump\", \"scarf\", \"breeze\", \"halloween\", \"timely\", \"petite\", \"hurt\", \"numerous\", \"capri\", \"size\", \"generous\", \"purple\", \"shade\", \"medium\", \"large\", \"true\", \"run\", \"order\", \"small\", \"half\", \"reviewer\", \"big\", \"width\", \"read\", \"thought\", \"picture\", \"review\", \"would\", \"fit\", \"color\", \"worried\", \"little\", \"legging\", \"return\", \"bit\", \"wear\", \"love\", \"look\", \"get\", \"perfect\", \"soft\", \"think\", \"shirt\", \"go\", \"buy\", \"comfortable\", \"see\", \"great\", \"material\", \"nice\", \"flop\", \"footb\", \"worker\", \"coral\", \"cushy\", \"thong\", \"beach\", \"flattering\", \"lace\", \"fatigue\", \"strap\", \"clark\", \"pregnant\", \"cup\", \"balance\", \"soak\", \"memory\", \"member\", \"cradle\", \"breaker\", \"sand\", \"arthritis\", \"costly\", \"beige\", \"chunky\", \"straps\", \"cleavage\", \"foam\", \"response\", \"lounge\", \"yoga\", \"flip\", \"arch\", \"squishy\", \"tank\", \"support\", \"bust\", \"bed\", \"walk\", \"bra\", \"pool\", \"foot\", \"sole\", \"heel\", \"sol\", \"cushion\", \"toe\", \"sandal\", \"shoe\", \"girl\", \"mat\", \"wide\", \"comfortable\", \"sanuk\", \"slip\", \"wear\", \"comfy\", \"narrow\", \"house\", \"day\", \"pair\", \"put\", \"get\", \"find\", \"soft\", \"top\", \"feel\", \"love\", \"make\", \"try\", \"fit\", \"would\", \"buy\", \"yellow\", \"cat\", \"eye\", \"gorgeous\", \"jewel\", \"pale\", \"pendant\", \"card\", \"costume\", \"estimate\", \"cent\", \"law\", \"fight\", \"envelope\", \"effect\", \"vacation\", \"box\", \"march\", \"string\", \"surprising\", \"sister\", \"tighten\", \"bargain\", \"figured\", \"elegant\", \"left\", \"huh\", \"god\", \"hanging\", \"crystal\", \"gift\", \"christma\", \"date\", \"finger\", \"adorable\", \"jewelry\", \"necklace\", \"earring\", \"adjust\", \"chain\", \"friend\", \"match\", \"buck\", \"owl\", \"break\", \"wrap\", \"piece\", \"package\", \"metal\", \"fun\", \"arrive\", \"pay\", \"ring\", \"item\", \"beautiful\", \"give\", \"get\", \"receive\", \"pair\", \"take\", \"come\", \"buy\", \"love\", \"order\", \"purchase\", \"time\", \"cheap\", \"wear\", \"think\", \"price\", \"go\", \"would\", \"look\"], \"Total\": [2817.0, 3979.0, 2854.0, 1716.0, 3516.0, 1656.0, 3302.0, 1680.0, 1068.0, 1163.0, 2746.0, 926.0, 3547.0, 755.0, 1715.0, 3440.0, 1277.0, 5281.0, 1290.0, 865.0, 794.0, 1921.0, 872.0, 5033.0, 5137.0, 588.0, 1062.0, 1103.0, 684.0, 671.0, 220.92764282226562, 152.23272705078125, 227.068359375, 193.35122680664062, 131.22743225097656, 137.09254455566406, 128.96697998046875, 110.76089477539062, 116.12815856933594, 131.66941833496094, 82.9443359375, 91.87164306640625, 79.39351654052734, 77.81532287597656, 100.55384826660156, 74.05636596679688, 73.77684783935547, 65.0311050415039, 64.46312713623047, 359.0208740234375, 65.47193145751953, 68.77751159667969, 146.6728973388672, 55.15399169921875, 57.554901123046875, 57.70848846435547, 52.37035369873047, 198.79551696777344, 40.44801712036133, 38.05459213256836, 314.9779968261719, 141.55780029296875, 120.4947738647461, 186.1356964111328, 160.01683044433594, 192.62376403808594, 159.41946411132812, 185.7436981201172, 970.3656005859375, 240.7129669189453, 575.4200439453125, 1062.369140625, 2746.0, 176.42918395996094, 647.2774658203125, 175.04286193847656, 236.47280883789062, 628.87890625, 884.2970581054688, 5281.892578125, 255.74549865722656, 2012.886474609375, 363.52789306640625, 340.5367431640625, 1157.8880615234375, 565.3991088867188, 5137.79541015625, 1257.878173828125, 323.2720642089844, 548.9961547851562, 2189.97802734375, 3192.48583984375, 2582.317626953125, 1325.862060546875, 2254.132080078125, 1343.843017578125, 6438.92578125, 727.5748291015625, 3440.580810546875, 4628.40576171875, 3770.671142578125, 3304.7939453125, 1383.679443359375, 1515.2977294921875, 1392.930419921875, 1580.9093017578125, 5033.66943359375, 3366.14697265625, 2817.755126953125, 176.35580444335938, 150.94363403320312, 102.74492645263672, 68.98619842529297, 58.65628433227539, 55.162322998046875, 113.92030334472656, 75.78968048095703, 55.143028259277344, 79.370849609375, 45.19697189331055, 45.08876419067383, 43.734100341796875, 42.173160552978516, 40.018375396728516, 40.372581481933594, 38.05101776123047, 38.337459564208984, 48.926273345947266, 34.268775939941406, 30.643016815185547, 30.694847106933594, 140.2911376953125, 82.76595306396484, 29.29645347595215, 28.204486846923828, 25.328536987304688, 25.32586669921875, 96.46824645996094, 71.11450958251953, 38.03887176513672, 85.04676055908203, 47.57203674316406, 855.1201171875, 584.7323608398438, 260.2647399902344, 1921.3978271484375, 3440.580810546875, 491.933837890625, 157.89358520507812, 174.0526885986328, 199.58767700195312, 3192.48583984375, 204.39122009277344, 5033.66943359375, 1129.490478515625, 5137.79541015625, 1103.67919921875, 215.38760375976562, 275.4314880371094, 1256.7774658203125, 3770.671142578125, 6438.92578125, 3547.523193359375, 1127.8221435546875, 2582.317626953125, 2189.97802734375, 881.961181640625, 3304.7939453125, 1596.614990234375, 3516.2880859375, 2271.691650390625, 4628.40576171875, 1639.3314208984375, 3366.14697265625, 1257.878173828125, 1103.986083984375, 2012.886474609375, 845.9217529296875, 1053.4677734375, 5281.892578125, 1515.2977294921875, 95.29678344726562, 67.58711242675781, 64.10752868652344, 63.83164978027344, 49.75632858276367, 41.35476303100586, 38.02737045288086, 42.7144889831543, 35.0682258605957, 31.2729549407959, 32.53078079223633, 28.573532104492188, 28.534269332885742, 34.02836227416992, 53.55512619018555, 33.58378982543945, 35.59780502319336, 47.38786697387695, 43.01825714111328, 48.76311492919922, 21.204689025878906, 19.904951095581055, 58.240325927734375, 40.19935989379883, 18.409425735473633, 18.530807495117188, 312.8255615234375, 17.710655212402344, 18.814714431762695, 17.057723999023438, 66.09394836425781, 193.77102661132812, 30.79046058654785, 47.88239288330078, 3979.484130859375, 41.86675262451172, 121.81668853759766, 44.49057388305664, 534.5762939453125, 1290.6461181640625, 538.5188598632812, 680.2808837890625, 3302.20947265625, 1715.633056640625, 268.24114990234375, 186.2965087890625, 1382.3057861328125, 142.601806640625, 275.9333801269531, 256.5996398925781, 1431.24560546875, 675.5328979492188, 3366.14697265625, 5281.892578125, 3304.7939453125, 116.49108123779297, 2254.132080078125, 875.7286376953125, 529.483154296875, 1155.4053955078125, 6438.92578125, 5033.66943359375, 5137.79541015625, 4628.40576171875, 1639.3314208984375, 1580.9093017578125, 1541.139404296875, 2746.0, 1459.94775390625, 3770.671142578125, 3547.523193359375, 1383.679443359375, 3440.580810546875, 2012.886474609375, 2189.97802734375, 1716.814208984375, 133.1979522705078, 71.41096496582031, 92.51468658447266, 120.7915267944336, 107.86378479003906, 93.46270751953125, 116.08824920654297, 208.75401306152344, 44.29950714111328, 926.3766479492188, 74.12408447265625, 67.0639419555664, 97.32241821289062, 33.566558837890625, 49.12569046020508, 27.5877685546875, 30.049312591552734, 26.89630889892578, 26.114688873291016, 28.08464241027832, 27.391407012939453, 27.78537368774414, 24.818443298339844, 28.94572639465332, 27.30785369873047, 28.71144676208496, 29.91139793395996, 27.898801803588867, 28.046863555908203, 1068.5103759765625, 1656.0474853515625, 210.0681915283203, 85.11332702636719, 141.96347045898438, 588.9229736328125, 73.79093933105469, 239.10276794433594, 1163.7139892578125, 480.67236328125, 51.45310592651367, 2854.054931640625, 391.12677001953125, 378.0382385253906, 90.12577819824219, 169.47238159179688, 872.645263671875, 1277.993896484375, 3516.2880859375, 259.3260192871094, 668.80224609375, 496.3215026855469, 3547.523193359375, 229.34915161132812, 427.0965576171875, 6438.92578125, 1103.67919921875, 449.46209716796875, 308.8207092285156, 1053.4677734375, 2271.691650390625, 1086.2398681640625, 4628.40576171875, 964.45361328125, 1580.9093017578125, 1343.843017578125, 1392.930419921875, 5033.66943359375, 2582.317626953125, 974.6639404296875, 5281.892578125, 3366.14697265625, 3770.671142578125, 279.5943298339844, 193.0872344970703, 184.8609161376953, 101.36006164550781, 84.2215576171875, 78.37203979492188, 321.858154296875, 296.05291748046875, 143.48773193359375, 50.90034484863281, 61.484127044677734, 42.35430145263672, 36.3955192565918, 34.36727523803711, 35.35518264770508, 40.00287628173828, 99.49468994140625, 29.626432418823242, 29.815780639648438, 31.6517333984375, 307.7177429199219, 26.857561111450195, 25.531898498535156, 21.380687713623047, 41.15892791748047, 35.2333869934082, 24.444190979003906, 19.770769119262695, 29.6800594329834, 62.07041549682617, 755.8128051757812, 201.6217041015625, 79.25167083740234, 80.62744903564453, 246.47996520996094, 407.84368896484375, 1680.496337890625, 794.0609130859375, 151.36883544921875, 865.2428588867188, 440.16259765625, 333.3645935058594, 91.05935668945312, 671.4520874023438, 446.7115478515625, 101.44013977050781, 684.1806640625, 245.65408325195312, 195.92063903808594, 362.01373291015625, 587.9847412109375, 575.175537109375, 239.06716918945312, 618.8575439453125, 439.3359375, 1206.727294921875, 4628.40576171875, 522.283935546875, 2271.691650390625, 898.65966796875, 1341.4344482421875, 3770.671142578125, 5033.66943359375, 3302.20947265625, 1343.49853515625, 1596.614990234375, 1127.8221435546875, 6438.92578125, 1541.139404296875, 1921.3978271484375, 1459.94775390625, 3366.14697265625, 5137.79541015625], \"loglift\": [30.0, 29.0, 28.0, 27.0, 26.0, 25.0, 24.0, 23.0, 22.0, 21.0, 20.0, 19.0, 18.0, 17.0, 16.0, 15.0, 14.0, 13.0, 12.0, 11.0, 10.0, 9.0, 8.0, 7.0, 6.0, 5.0, 4.0, 3.0, 2.0, 1.0, 1.3920999765396118, 1.3905999660491943, 1.3904000520706177, 1.389799952507019, 1.3897000551223755, 1.3894000053405762, 1.3890999555587769, 1.3889000415802002, 1.388200044631958, 1.388200044631958, 1.386199951171875, 1.3861000537872314, 1.3860000371932983, 1.385599970817566, 1.3854000568389893, 1.3846999406814575, 1.3842999935150146, 1.3838000297546387, 1.3838000297546387, 1.3837000131607056, 1.3835999965667725, 1.3832000494003296, 1.3825000524520874, 1.38100004196167, 1.3808000087738037, 1.3801000118255615, 1.3792999982833862, 1.3791999816894531, 1.3772000074386597, 1.3758000135421753, 1.3671000003814697, 1.3702000379562378, 1.3688000440597534, 1.3386000394821167, 1.3344000577926636, 1.3235000371932983, 1.3317999839782715, 1.3215999603271484, 1.2081999778747559, 1.3029999732971191, 1.218999981880188, 1.1621999740600586, 1.0111000537872314, 1.3004000186920166, 1.1319999694824219, 1.2934999465942383, 1.2378000020980835, 1.0555000305175781, 0.9182000160217285, 0.48420000076293945, 1.2035000324249268, 0.6484000086784363, 1.1044000387191772, 1.1088999509811401, 0.6951000094413757, 0.9172000288963318, 0.17479999363422394, 0.6444000005722046, 1.097599983215332, 0.8853999972343445, 0.3537999987602234, 0.2003999948501587, 0.1501999944448471, 0.39079999923706055, 0.10620000213384628, 0.3578000068664551, -0.48179998993873596, 0.6661999821662903, -0.25450000166893005, -0.4645000100135803, -0.357699990272522, -0.329800009727478, 0.22139999270439148, 0.14820000529289246, 0.1915999948978424, 0.0012000000569969416, -1.0264999866485596, -0.7390000224113464, 1.5776000022888184, 1.5759999752044678, 1.5752999782562256, 1.57260000705719, 1.5666999816894531, 1.5657999515533447, 1.5654000043869019, 1.5650999546051025, 1.5649000406265259, 1.562000036239624, 1.5614999532699585, 1.5607000589370728, 1.5599000453948975, 1.5592000484466553, 1.5586999654769897, 1.5580999851226807, 1.557800054550171, 1.5571000576019287, 1.55649995803833, 1.55649995803833, 1.5543999671936035, 1.551900029182434, 1.551800012588501, 1.549399971961975, 1.5484000444412231, 1.5480999946594238, 1.5461000204086304, 1.5460000038146973, 1.5449999570846558, 1.544600009918213, 1.5397000312805176, 1.5435999631881714, 1.5104000568389893, 1.5299999713897705, 1.2817000150680542, 1.2937999963760376, 1.31850004196167, 1.0750999450683594, 0.9865999817848206, 1.2056000232696533, 1.3586000204086304, 1.340499997138977, 1.3133000135421753, 0.8131999969482422, 1.2854000329971313, 0.7038999795913696, 0.9086999893188477, 0.5903000235557556, 0.8777999877929688, 1.2447999715805054, 1.1705000400543213, 0.767300009727478, 0.46880000829696655, 0.3111000061035156, 0.4514999985694885, 0.7730000019073486, 0.3953000009059906, 0.4496000111103058, 0.7493000030517578, 0.26750001311302185, 0.47760000824928284, 0.16940000653266907, 0.3343000113964081, -0.01119999960064888, 0.4207000136375427, 0.08229999989271164, 0.444599986076355, 0.49939998984336853, 0.14399999380111694, 0.6292999982833862, 0.48980000615119934, -0.7128999829292297, 0.1785999983549118, 1.573099970817566, 1.569000005722046, 1.5669000148773193, 1.5666999816894531, 1.5644999742507935, 1.5598000288009644, 1.559000015258789, 1.5575000047683716, 1.5535999536514282, 1.5533000230789185, 1.5521999597549438, 1.551300048828125, 1.5508999824523926, 1.5501999855041504, 1.5479999780654907, 1.544700026512146, 1.5440000295639038, 1.5427000522613525, 1.541100025177002, 1.5405000448226929, 1.5400999784469604, 1.5371999740600586, 1.534500002861023, 1.5339000225067139, 1.5338000059127808, 1.5299999713897705, 1.5292999744415283, 1.5283000469207764, 1.5281000137329102, 1.5255000591278076, 1.5227999687194824, 1.5082999467849731, 1.5247000455856323, 1.5200999975204468, 1.4039000272750854, 1.5161999464035034, 1.4753999710083008, 1.5113999843597412, 1.407099962234497, 1.3586000204086304, 1.3802000284194946, 1.3598999977111816, 1.2245999574661255, 1.236299991607666, 1.353700041770935, 1.3638999462127686, 1.118899941444397, 1.3867000341415405, 1.3041000366210938, 1.2964999675750732, 0.9749000072479248, 1.062999963760376, 0.7692999839782715, 0.6157000064849854, 0.6687999963760376, 1.354599952697754, 0.6773999929428101, 0.8863999843597412, 0.9736999869346619, 0.7113000154495239, 0.15049999952316284, 0.15369999408721924, 0.13770000636577606, 0.16940000653266907, 0.46059998869895935, 0.4300000071525574, 0.43799999356269836, 0.17870000004768372, 0.44920000433921814, -0.08780000358819962, -0.21060000360012054, 0.3328999876976013, -0.25189998745918274, 0.017999999225139618, -0.08969999849796295, 1.707200050354004, 1.7000999450683594, 1.6979000568389893, 1.697700023651123, 1.6963000297546387, 1.693600058555603, 1.6924999952316284, 1.6907000541687012, 1.690600037574768, 1.6890000104904175, 1.6861000061035156, 1.6837999820709229, 1.6836999654769897, 1.679800033569336, 1.6792000532150269, 1.6771999597549438, 1.676800012588501, 1.6765999794006348, 1.676300048828125, 1.6757999658584595, 1.6753000020980835, 1.6744999885559082, 1.674299955368042, 1.673799991607666, 1.6726000308990479, 1.6725000143051147, 1.6722999811172485, 1.6714999675750732, 1.6711000204086304, 1.670799970626831, 1.6619999408721924, 1.6531000137329102, 1.6651999950408936, 1.667099952697754, 1.6568000316619873, 1.6358000040054321, 1.6588000059127808, 1.6325000524520874, 1.5960999727249146, 1.6007000207901, 1.6614999771118164, 1.5210000276565552, 1.5785000324249268, 1.5765000581741333, 1.632599949836731, 1.5937000513076782, 1.4937000274658203, 1.3916000127792358, 1.2331000566482544, 1.4982999563217163, 1.2992000579833984, 1.3388999700546265, 0.8521000146865845, 1.4460999965667725, 1.2506999969482422, 0.26829999685287476, 0.8392999768257141, 1.1502000093460083, 1.2700999975204468, 0.6978999972343445, 0.2937999963760376, 0.5856000185012817, -0.24130000174045563, 0.6270999908447266, 0.3278000056743622, 0.39559999108314514, 0.3653999865055084, -0.5353000164031982, -0.1193000003695488, 0.5756999850273132, -0.7322999835014343, -0.5307999849319458, -0.6513000130653381, 1.8265999555587769, 1.8250999450683594, 1.8240000009536743, 1.8202999830245972, 1.819599986076355, 1.8184000253677368, 1.8180999755859375, 1.8149000406265259, 1.8149000406265259, 1.8106000423431396, 1.8098000288009644, 1.8095999956130981, 1.8049999475479126, 1.8042999505996704, 1.8036999702453613, 1.8035000562667847, 1.8011000156402588, 1.7997000217437744, 1.7990000247955322, 1.7985999584197998, 1.7972999811172485, 1.7972999811172485, 1.7884000539779663, 1.7877999544143677, 1.7860000133514404, 1.785599946975708, 1.785599946975708, 1.7854000329971313, 1.784999966621399, 1.784500002861023, 1.7771999835968018, 1.7559000253677368, 1.7664999961853027, 1.7558000087738037, 1.7158000469207764, 1.6922999620437622, 1.6139999628067017, 1.621000051498413, 1.7086999416351318, 1.6019999980926514, 1.631100058555603, 1.6346999406814575, 1.7311999797821045, 1.5206999778747559, 1.5499000549316406, 1.6894999742507935, 1.4168000221252441, 1.545699954032898, 1.5746999979019165, 1.4010000228881836, 1.2728999853134155, 1.253100037574768, 1.4766000509262085, 1.2043999433517456, 1.2877999544143677, 0.9592999815940857, 0.4657000005245209, 1.201799988746643, 0.6316999793052673, 0.968500018119812, 0.7888000011444092, 0.29589998722076416, -0.06710000336170197, 0.1128000020980835, 0.6233000159263611, 0.4560999870300293, 0.6373999714851379, -0.5659000277519226, 0.4156000018119812, 0.17489999532699585, 0.4007999897003174, -0.38989999890327454, -1.0094000101089478], \"logprob\": [30.0, 29.0, 28.0, 27.0, 26.0, 25.0, 24.0, 23.0, 22.0, 21.0, 20.0, 19.0, 18.0, 17.0, 16.0, 15.0, 14.0, 13.0, 12.0, 11.0, 10.0, 9.0, 8.0, 7.0, 6.0, 5.0, 4.0, 3.0, 2.0, 1.0, -5.916900157928467, -6.290800094604492, -5.891200065612793, -6.052499771118164, -6.440199851989746, -6.3968000411987305, -6.458199977874756, -6.610599994659424, -6.563899993896484, -6.438399791717529, -6.902500152587891, -6.8003997802734375, -6.946400165557861, -6.966899871826172, -6.710700035095215, -7.017399787902832, -7.021500110626221, -7.148200035095215, -7.156899929046631, -5.439799785614014, -7.141600131988525, -7.092800140380859, -6.33620023727417, -7.315800189971924, -7.2733001708984375, -7.271299839019775, -7.36929988861084, -6.035299777984619, -7.6296000480651855, -7.691999912261963, -5.587299823760986, -6.383999824523926, -6.54640007019043, -6.1417999267578125, -6.297100067138672, -6.122600078582764, -6.303500175476074, -6.160900115966797, -4.620999813079834, -5.920300006866455, -5.132800102233887, -4.576399803161621, -3.7778000831604004, -6.233500003814697, -5.102099895477295, -6.248300075531006, -6.003200054168701, -5.207399845123291, -5.003799915313721, -3.650599956512451, -5.959099769592285, -4.451099872589111, -5.706600189208984, -5.767399787902832, -4.957399845123291, -5.452099800109863, -3.9876999855041504, -4.925300121307373, -5.8308000564575195, -5.513299942016602, -4.661399841308594, -4.437900066375732, -4.700300216674805, -5.126299858093262, -4.880099773406982, -5.1458001136779785, -4.418600082397461, -5.450900077819824, -4.81790018081665, -4.731400012969971, -4.829599857330322, -4.933499813079834, -5.252900123596191, -5.235300064086914, -5.276100158691406, -5.339900016784668, -5.209499835968018, -5.324399948120117, -3.1856000423431396, -5.958399772644043, -6.11460018157959, -6.501999855041504, -6.906199932098389, -7.069399833679199, -7.131100177764893, -6.406199932098389, -6.813899993896484, -7.135000228881836, -6.771200180053711, -7.335100173950195, -7.3383002281188965, -7.36959981918335, -7.406400203704834, -7.459400177001953, -7.451000213623047, -7.510900020599365, -7.503900051116943, -7.260000228881836, -7.618199825286865, -7.732500076293945, -7.730899810791016, -6.213799953460693, -6.742400169372559, -7.781300067901611, -7.821300029754639, -7.928899765014648, -7.929999828338623, -6.593100070953369, -6.902900218963623, -7.524700164794922, -6.753200054168701, -7.314599990844727, -4.673900127410889, -5.041900157928467, -5.826700210571289, -4.071000099182129, -3.576900005340576, -5.3028998374938965, -6.286300182342529, -6.206999778747559, -6.097300052642822, -3.8250999450683594, -6.101500034332275, -3.479099988937378, -4.768599987030029, -3.572200059890747, -4.8225998878479, -6.089600086212158, -5.918000221252441, -4.803299903869629, -4.002999782562256, -3.625699996948242, -4.081399917602539, -4.905799865722656, -4.455100059509277, -4.5655999183654785, -5.1753997802734375, -4.33620023727417, -4.853600025177002, -4.372300148010254, -4.6442999839782715, -4.27810001373291, -4.884200096130371, -4.502999782562256, -5.125100135803223, -5.200799942016602, -4.955599784851074, -5.337100028991699, -5.257199764251709, -4.847700119018555, -5.204899787902832, -6.576700210571289, -6.924499988555908, -6.979400157928467, -6.98390007019043, -7.235199928283691, -7.424900054931641, -7.509500026702881, -7.394899845123291, -7.595900058746338, -7.7108001708984375, -7.672399997711182, -7.803100109100342, -7.804800033569336, -7.629499912261963, -7.178199768066406, -7.648099899291992, -7.59060001373291, -7.305799961090088, -7.404099941253662, -7.279399871826172, -8.112500190734863, -8.178600311279297, -7.107699871063232, -7.479100227355957, -8.260199546813965, -8.257399559020996, -5.4319000244140625, -8.304400444030762, -8.244199752807617, -8.34469985961914, -6.9928998947143555, -5.9319000244140625, -7.754899978637695, -7.317999839782715, -3.0139999389648438, -7.456099987030029, -6.428899765014648, -7.400199890136719, -5.0183000564575195, -4.185299873352051, -5.037899971008301, -4.82450008392334, -3.3798999786376953, -4.023099899291992, -5.761300086975098, -6.115600109100342, -4.356400012969971, -6.360099792480469, -5.782599925994873, -5.8628997802734375, -4.465700149536133, -5.128300189971924, -3.815999984741211, -3.5190999507904053, -3.934999942779541, -6.5945000648498535, -4.308899879455566, -5.045400142669678, -5.461299896240234, -4.943299770355225, -3.7862000465393066, -4.029200077056885, -4.024799823760986, -4.097499847412109, -4.844200134277344, -4.911099910736084, -4.928500175476074, -4.610300064086914, -4.971499919891357, -4.559700012207031, -4.743500232696533, -5.141499996185303, -4.815400123596191, -5.081600189208984, -5.104899883270264, -3.5513999462127686, -6.1149001121521, -6.740499973297119, -6.481800079345703, -6.2164998054504395, -6.332399845123291, -6.476799964904785, -6.2617998123168945, -5.675099849700928, -7.226799964904785, -4.1894001960754395, -6.717299938201904, -6.817500114440918, -6.448999881744385, -7.514200210571289, -7.135300159454346, -7.712699890136719, -7.627399921417236, -7.73859977722168, -7.768499851226807, -7.696300029754639, -7.722099781036377, -7.708000183105469, -7.821400165557861, -7.668799877166748, -7.727200031280518, -7.677299976348877, -7.6371002197265625, -7.707099914550781, -7.702199935913086, -4.070799827575684, -3.6415998935699463, -5.694200038909912, -6.595799922943115, -6.0945000648498535, -4.692699909210205, -6.746799945831299, -5.597499847412109, -4.051300048828125, -4.9309000968933105, -7.104700088500977, -3.2293999195098877, -5.15939998626709, -5.195400238037109, -6.572999954223633, -5.980400085449219, -4.4415998458862305, -4.162199974060059, -3.3085999488830566, -5.650400161743164, -4.902200222015381, -5.160699844360352, -3.680799961090088, -5.825500011444092, -5.399099826812744, -3.6684999465942383, -4.861100196838379, -5.448599815368652, -5.703999996185303, -5.049099922180176, -4.684800148010254, -5.130799770355225, -4.508200168609619, -5.208199977874756, -5.013299942016602, -5.107900142669678, -5.10230016708374, -4.718299865722656, -4.969699859619141, -5.249000072479248, -4.867099761962891, -5.116099834442139, -5.1230998039245605, -5.2469000816345215, -5.618599891662598, -5.663300037384033, -6.267899990081787, -6.453800201416016, -6.5269999504089355, -5.11460018157959, -5.201399803161621, -5.9257001876831055, -6.966400146484375, -6.778299808502197, -7.151100158691406, -7.307400226593018, -7.365499973297119, -7.337699890136719, -7.214399814605713, -6.305699825286865, -7.518499851226807, -7.512800216674805, -7.453499794006348, -5.1803998947143555, -7.61899995803833, -7.678599834442139, -7.856599807739258, -7.203400135040283, -7.359300136566162, -7.724899768829346, -7.93720006942749, -7.531300067901611, -6.794000148773193, -4.3018999099731445, -5.644599914550781, -6.567699909210205, -6.561299800872803, -5.483799934387207, -5.003600120544434, -3.6659998893737793, -4.408699989318848, -5.978400230407715, -4.341800212860107, -4.98859977722168, -5.262899875640869, -6.464099884033203, -4.676700115203857, -5.055099964141846, -6.397900104522705, -4.761899948120117, -5.657199859619141, -5.854499816894531, -5.414100170135498, -5.057300090789795, -5.099100112915039, -5.753499984741211, -5.07450008392334, -5.333799839019775, -4.651899814605713, -3.8011999130249023, -5.2469000816345215, -4.34689998626709, -4.9375, -4.716599941253662, -4.176000118255615, -4.25, -4.491700172424316, -4.880499839782715, -4.875100135803223, -5.041399955749512, -4.502699851989746, -4.950900077819824, -4.971199989318848, -5.019899845123291, -4.975200176239014, -5.171899795532227]}, \"token.table\": {\"Topic\": [2, 1, 2, 3, 5, 1, 5, 3, 1, 3, 4, 3, 3, 1, 2, 4, 1, 2, 3, 4, 1, 2, 3, 4, 5, 4, 2, 4, 2, 5, 3, 4, 5, 1, 2, 3, 4, 5, 1, 3, 5, 1, 2, 3, 4, 5, 1, 4, 1, 2, 3, 4, 5, 1, 2, 3, 4, 5, 3, 1, 2, 5, 1, 2, 3, 4, 5, 1, 2, 3, 4, 5, 4, 3, 1, 2, 1, 2, 3, 5, 1, 3, 2, 4, 1, 2, 3, 4, 5, 3, 5, 2, 1, 5, 1, 5, 5, 1, 2, 3, 4, 5, 1, 1, 2, 3, 4, 5, 2, 1, 2, 3, 5, 1, 2, 3, 5, 4, 3, 4, 1, 3, 4, 1, 4, 1, 2, 1, 2, 3, 4, 5, 1, 1, 2, 3, 4, 5, 1, 2, 3, 4, 5, 1, 2, 3, 4, 5, 2, 1, 2, 3, 1, 4, 4, 1, 2, 5, 1, 4, 1, 1, 1, 2, 5, 1, 2, 4, 2, 3, 4, 5, 2, 4, 1, 2, 1, 2, 3, 5, 1, 2, 3, 4, 5, 1, 1, 1, 2, 3, 4, 5, 1, 2, 3, 4, 5, 1, 2, 3, 4, 5, 5, 2, 5, 5, 2, 5, 2, 1, 2, 3, 4, 5, 5, 1, 2, 3, 4, 5, 2, 4, 1, 1, 2, 3, 4, 5, 5, 5, 1, 2, 3, 4, 5, 3, 5, 1, 2, 3, 4, 5, 1, 2, 4, 5, 1, 2, 3, 4, 5, 3, 4, 5, 1, 4, 1, 2, 3, 4, 5, 2, 4, 1, 1, 2, 3, 4, 5, 1, 3, 5, 1, 3, 1, 1, 2, 3, 4, 5, 1, 2, 3, 5, 1, 2, 3, 4, 5, 1, 2, 3, 4, 5, 1, 2, 3, 4, 5, 5, 1, 2, 3, 4, 5, 5, 2, 1, 3, 1, 2, 3, 4, 5, 1, 2, 3, 4, 5, 3, 1, 2, 3, 4, 5, 5, 1, 4, 2, 3, 4, 5, 3, 1, 2, 3, 4, 5, 2, 5, 1, 2, 3, 3, 1, 2, 3, 1, 2, 3, 4, 5, 1, 2, 1, 2, 3, 4, 5, 5, 1, 2, 3, 5, 2, 2, 4, 1, 2, 3, 4, 5, 5, 1, 5, 1, 2, 3, 4, 5, 1, 2, 3, 4, 5, 1, 2, 3, 5, 1, 2, 3, 4, 5, 1, 2, 3, 4, 5, 1, 3, 1, 2, 3, 4, 5, 1, 2, 3, 4, 5, 1, 2, 3, 4, 5, 1, 2, 3, 4, 5, 3, 5, 1, 2, 3, 4, 5, 1, 2, 3, 4, 5, 4, 1, 2, 3, 4, 5, 3, 1, 2, 3, 4, 5, 5, 1, 2, 4, 1, 2, 3, 4, 5, 1, 2, 3, 4, 5, 2, 4, 5, 1, 2, 3, 4, 5, 4, 4, 1, 3, 5, 1, 2, 2, 1, 2, 3, 4, 5, 1, 2, 4, 1, 2, 3, 5, 3, 1, 2, 3, 4, 5, 1, 1, 3, 1, 2, 3, 4, 5, 2, 4, 5, 1, 1, 2, 3, 4, 5, 1, 2, 3, 4, 5, 2, 1, 2, 3, 4, 5, 5, 1, 2, 3, 4, 5, 1, 2, 3, 4, 5, 1, 3, 5, 1, 2, 3, 4, 5, 1, 2, 3, 3, 4, 2, 4, 1, 2, 3, 5, 1, 2, 5, 2, 1, 2, 3, 5, 1, 3, 4, 3, 3, 4, 1, 1, 2, 3, 4, 5, 1, 2, 3, 4, 5, 2, 1, 2, 3, 1, 2, 3, 4, 5, 1, 2, 3, 4, 5, 3, 3, 1, 2, 3, 4, 5, 1, 2, 3, 4, 5, 1, 2, 3, 4, 5, 4, 1, 2, 3, 4, 5, 1, 2, 3, 4, 5, 1, 2, 3, 5, 3, 1, 2, 5, 1, 2, 3, 4, 5, 3, 4, 1, 2, 3, 4, 5, 1, 2, 3, 4, 5, 1, 2, 3, 1, 1, 2, 3, 4, 5, 2, 3, 5, 1, 5, 2, 5, 1, 2, 3, 4, 5, 1, 2, 3, 4, 5, 1, 2, 3, 4, 5, 1, 2, 3, 5, 1, 2, 4, 5, 1, 2, 3, 4, 5, 1, 2, 3, 5, 1, 2, 3, 5, 1, 2, 3, 4, 5, 1, 2, 3, 4, 5, 1, 2, 3, 4, 5, 1, 4, 1, 2, 3, 4, 5, 2, 3, 4, 5, 2, 3, 4, 5, 1, 3, 1, 1, 1, 2, 2, 2, 3, 4, 1, 3, 1, 2, 3, 4, 5, 4, 5, 1, 1, 2, 3, 4, 5, 1, 2, 2, 5, 1, 2, 3, 4, 5, 2, 1, 2, 3, 4, 5, 1, 2, 3, 4, 5, 1, 3, 1, 3, 5, 1, 2, 3, 4, 5, 1, 2, 3, 4, 5, 3, 2, 4, 1, 2, 3, 4, 5, 5, 1, 2, 3, 4, 5, 3, 2, 1, 2, 3, 4, 5, 1, 1, 2, 3, 4, 5, 1, 3, 1, 2, 3, 4, 5, 1, 2, 3, 4, 5, 1, 2, 5, 2, 3, 5, 3, 2, 1, 2, 3, 4, 5, 1, 2, 3, 4, 5, 1, 2, 4, 1, 2, 4, 1, 2, 3, 4, 5, 1, 2, 3, 4, 5, 1, 2, 3, 4, 5, 3, 1, 2, 3, 4, 5, 1, 2, 3, 4, 5, 3, 1, 2, 3, 4, 5, 1, 2, 3, 5, 1, 2, 3, 4, 1, 2, 3, 4, 5, 4, 1, 3, 1, 2, 3, 4, 5, 1, 2, 5, 5, 1, 2, 4, 5, 3], \"Freq\": [0.9789290428161621, 0.05945741757750511, 0.039638277143239975, 0.013212759047746658, 0.8852548599243164, 0.10548524558544159, 0.8925674557685852, 0.9827238917350769, 0.02050730399787426, 0.9638432860374451, 0.02050730399787426, 0.9729834198951721, 0.9812762141227722, 0.004760358948260546, 0.038082871586084366, 0.9568321704864502, 0.8250389695167542, 0.003910137340426445, 0.09384329617023468, 0.0742926076054573, 0.1309557855129242, 0.20068548619747162, 0.08673694729804993, 0.006802897434681654, 0.5731441378593445, 0.9492027759552002, 0.9888113737106323, 0.9831213355064392, 0.9651135206222534, 0.940000593662262, 0.010699454694986343, 0.9843498468399048, 0.010699454694986343, 0.06849609315395355, 0.7436718940734863, 0.009785155765712261, 0.009785155765712261, 0.17124022543430328, 0.0045523252338171005, 0.4142615795135498, 0.5804214477539062, 0.008364603854715824, 0.033458415418863297, 0.029276113957166672, 0.9242887496948242, 0.004182301927357912, 0.9902852177619934, 0.9670227766036987, 0.12732349336147308, 0.04340573772788048, 0.6293831467628479, 0.04846973717212677, 0.15192008018493652, 0.20339182019233704, 0.03548537939786911, 0.418035089969635, 0.2657076120376587, 0.07702924311161041, 0.9863921403884888, 0.010050787590444088, 0.020101575180888176, 0.9749264121055603, 0.010402095504105091, 0.016643352806568146, 0.05825173854827881, 0.8966606855392456, 0.01872377283871174, 0.01119290478527546, 0.20594945549964905, 0.008954323828220367, 0.017908647656440735, 0.7566403746604919, 0.9573156237602234, 0.959874153137207, 0.026288896799087524, 0.9726892113685608, 0.0439273901283741, 0.03294554352760315, 0.010981847532093525, 0.9114933609962463, 0.9886952638626099, 0.9713553786277771, 0.04065539687871933, 0.948625922203064, 0.17317871749401093, 0.32885393500328064, 0.1882953941822052, 0.0941476970911026, 0.21561148762702942, 0.9398026466369629, 0.04176900535821915, 0.9773627519607544, 0.013511097989976406, 0.9863101840019226, 0.9903587698936462, 0.9943692088127136, 0.9758616089820862, 0.082057885825634, 0.11210725456476212, 0.008090213872492313, 0.0011557448888197541, 0.7963082194328308, 0.9894703030586243, 0.10373976081609726, 0.4459923207759857, 0.12324638664722443, 0.023939944803714752, 0.3032393157482147, 0.9660021662712097, 0.023516474291682243, 0.9289007782936096, 0.011758237145841122, 0.03527471050620079, 0.009919567033648491, 0.039678268134593964, 0.019839134067296982, 0.9274795055389404, 0.9673275947570801, 0.013490892015397549, 0.9713442325592041, 0.9409139752388, 0.01881827972829342, 0.03763655945658684, 0.9905123710632324, 0.975220799446106, 0.9886147975921631, 0.9721822738647461, 0.17822593450546265, 0.26870056986808777, 0.4009326994419098, 0.08079172670841217, 0.07110881805419922, 0.9722874164581299, 0.24898719787597656, 0.166985422372818, 0.13567565381526947, 0.095420241355896, 0.3533530831336975, 0.07018981873989105, 0.32304227352142334, 0.16631321609020233, 0.42367586493492126, 0.016631321981549263, 0.08154543489217758, 0.49470895528793335, 0.0018121207831427455, 0.4185999035835266, 0.0027181811165064573, 0.9832144379615784, 0.09234993904829025, 0.7507708072662354, 0.15733693540096283, 0.01080909464508295, 0.9836276173591614, 0.9717342853546143, 0.006969236768782139, 0.006969236768782139, 0.9826623797416687, 0.9929282069206238, 0.9666754007339478, 0.9919023513793945, 0.9927918314933777, 0.016110735014081, 0.032221470028162, 0.9505333304405212, 0.02055024914443493, 0.010275124572217464, 0.9658617377281189, 0.07670866698026657, 0.023602666333317757, 0.8910006284713745, 0.005900666583329439, 0.00827872660011053, 0.98516845703125, 0.003548924345523119, 0.9961830973625183, 0.012618030421435833, 0.025236060842871666, 0.025236060842871666, 0.9337342381477356, 0.07499042898416519, 0.33603304624557495, 0.05980249494314194, 0.3635611832141876, 0.167067289352417, 0.9895223379135132, 0.9931302666664124, 0.4714288115501404, 0.32117578387260437, 0.11924843490123749, 0.06836909800767899, 0.019079748541116714, 0.7482231855392456, 0.14579348266124725, 0.0302590262144804, 0.06877051293849945, 0.008252461440861225, 0.021408936008810997, 0.13978776335716248, 0.02518698386847973, 0.003778047626838088, 0.8110209107398987, 0.9616695046424866, 0.024296065792441368, 0.9475465416908264, 0.9602158069610596, 0.9792715907096863, 0.9823116064071655, 0.947647750377655, 0.2870723009109497, 0.246156245470047, 0.22767803072929382, 0.042895860970020294, 0.1960010826587677, 0.9953429102897644, 0.49659377336502075, 0.10622788220643997, 0.1882738173007965, 0.20381934940814972, 0.00518184807151556, 0.9475477933883667, 0.970665454864502, 0.9889236092567444, 0.30008676648139954, 0.2376285195350647, 0.17804192006587982, 0.260601669549942, 0.024408971890807152, 0.9891327619552612, 0.9354236125946045, 0.2063344419002533, 0.138938769698143, 0.1534547656774521, 0.33801522850990295, 0.16278646886348724, 0.062013618648052216, 0.9302043318748474, 0.4019392728805542, 0.10091079771518707, 0.380356103181839, 0.08690066635608673, 0.02991352044045925, 0.9930115342140198, 0.005171935074031353, 0.9820115566253662, 0.017228271812200546, 0.003623084630817175, 0.019323118031024933, 0.01690772734582424, 0.9438135027885437, 0.01690772734582424, 0.001747422618791461, 0.9966133832931519, 0.001747422618791461, 0.9920306205749512, 0.9695301055908203, 0.000700757373124361, 0.06622157245874405, 0.08724429458379745, 0.8272440433502197, 0.01857006922364235, 0.007507622707635164, 0.9910062551498413, 0.9928156137466431, 0.024990765377879143, 0.052253417670726776, 0.07497229427099228, 0.027262652292847633, 0.8201514482498169, 0.005524652078747749, 0.34252843260765076, 0.6519089937210083, 0.04777060076594353, 0.9315267205238342, 0.9857356548309326, 0.15556111931800842, 0.20330974459648132, 0.2432803064584732, 0.14194951951503754, 0.2555955648422241, 0.0013230788754299283, 0.015876946970820427, 0.033076971769332886, 0.9486476182937622, 0.011568449437618256, 0.007712299935519695, 0.08483529835939407, 0.8097915053367615, 0.08869145065546036, 0.18976947665214539, 0.06629501283168793, 0.1591080278158188, 0.16656622290611267, 0.4184872508049011, 0.11575756967067719, 0.16233457624912262, 0.32192933559417725, 0.16027970612049103, 0.23973460495471954, 0.9610146880149841, 0.30258551239967346, 0.4639018177986145, 0.07893535494804382, 0.09992213547229767, 0.054816216230392456, 0.9865818619728088, 0.9629757404327393, 0.9709964990615845, 0.016598230227828026, 0.19211871922016144, 0.5516510605812073, 0.15956608951091766, 0.04621312767267227, 0.050282206386327744, 0.0186399444937706, 0.0298239104449749, 0.7940616011619568, 0.0708317905664444, 0.0857437402009964, 0.9566980004310608, 0.7517544031143188, 0.014682703651487827, 0.1703193634748459, 0.0499211922287941, 0.014682703651487827, 0.9433943629264832, 0.9859377145767212, 0.010060588829219341, 0.10316416621208191, 0.007935705594718456, 0.8755728006362915, 0.015871411189436913, 0.9695386290550232, 0.02914312295615673, 0.2493356168270111, 0.03885749727487564, 0.6443868279457092, 0.042095623910427094, 0.9572945237159729, 0.9409188628196716, 0.010321460664272308, 0.056768033653497696, 0.928931474685669, 0.9777600169181824, 0.9436507225036621, 0.018748028203845024, 0.031246712431311607, 0.05332406610250473, 0.2084486186504364, 0.19713746011257172, 0.004847642499953508, 0.5348565578460693, 0.9714964032173157, 0.025398598983883858, 0.7678314447402954, 0.14522366225719452, 0.07106689363718033, 0.003089864971116185, 0.01235945988446474, 0.985495924949646, 0.01471151877194643, 0.11033638566732407, 0.0024519197177141905, 0.8704315423965454, 0.9758528470993042, 0.014370981603860855, 0.9820170402526855, 0.07980498671531677, 0.030992228537797928, 0.7995995283126831, 0.025568589568138123, 0.06430887430906296, 0.9916348457336426, 0.02838217094540596, 0.9649937748908997, 0.8542208075523376, 0.01268644817173481, 0.0845763236284256, 0.03805934265255928, 0.01268644817173481, 0.2877603769302368, 0.1541573405265808, 0.4990130364894867, 0.05024387314915657, 0.009135250002145767, 0.48242461681365967, 0.09758446365594864, 0.3642237186431885, 0.054977163672447205, 0.3983820080757141, 0.3853784203529358, 0.1300356686115265, 0.06619997322559357, 0.021278563886880875, 0.03249954804778099, 0.7149900794029236, 0.11606981605291367, 0.10678423196077347, 0.03249954804778099, 0.02487601712346077, 0.9452886581420898, 0.2754940688610077, 0.11445646733045578, 0.40459030866622925, 0.14284877479076385, 0.06255178898572922, 0.07600055634975433, 0.7980058193206787, 0.1076674535870552, 0.006333379540592432, 0.006333379540592432, 0.36579975485801697, 0.2662418782711029, 0.21872562170028687, 0.07919375598430634, 0.07014304399490356, 0.2950682044029236, 0.37117087841033936, 0.2357042133808136, 0.03951111063361168, 0.05839080363512039, 0.9530836939811707, 0.02324594371020794, 0.6010971069335938, 0.014572051353752613, 0.30419155955314636, 0.07468175888061523, 0.0072860256768763065, 0.17687852680683136, 0.4353933036327362, 0.12585587799549103, 0.13379274308681488, 0.12925739586353302, 0.9626744985580444, 0.08880201727151871, 0.4158000349998474, 0.23958665132522583, 0.10588696599006653, 0.14998997747898102, 0.9869711995124817, 0.2877260446548462, 0.30553948879241943, 0.15025262534618378, 0.16032110154628754, 0.09642501175403595, 0.9788556098937988, 0.002990420674905181, 0.3334318995475769, 0.6623781323432922, 0.0629940927028656, 0.011998875066637993, 0.09899071604013443, 0.005999437533318996, 0.8219228982925415, 0.4739462435245514, 0.23746992647647858, 0.20915238559246063, 0.07352625578641891, 0.005961588118225336, 0.969412624835968, 0.0213841013610363, 0.0071280337870121, 0.12159162759780884, 0.01870640367269516, 0.8399175405502319, 0.007482561282813549, 0.013094482943415642, 0.9650803208351135, 0.9786946177482605, 0.2194766253232956, 0.005104107316583395, 0.7758243083953857, 0.9313909411430359, 0.069988913834095, 0.9557470679283142, 0.015574172139167786, 0.017799053341150284, 0.36265572905540466, 0.5717946290969849, 0.03114834427833557, 0.7424086928367615, 0.07424087077379227, 0.17941543459892273, 0.03391855210065842, 0.1517408788204193, 0.008330872282385826, 0.8057143688201904, 0.9672404527664185, 0.3529715836048126, 0.32237765192985535, 0.18767312169075012, 0.03698667138814926, 0.10000099986791611, 0.9949159026145935, 0.032477591186761856, 0.9418501257896423, 0.06813620030879974, 0.02664882503449917, 0.699228823184967, 0.02664882503449917, 0.17957673966884613, 0.7871179580688477, 0.07469002902507782, 0.13214389979839325, 0.9841444492340088, 0.05361514165997505, 0.18318507075309753, 0.026807570829987526, 0.0014893095940351486, 0.7342296242713928, 0.08548606187105179, 0.03663688153028488, 0.10176911950111389, 0.024424588307738304, 0.7530915141105652, 0.97455233335495, 0.10300693660974503, 0.28745096921920776, 0.06558988988399506, 0.24255052208900452, 0.3015373945236206, 0.9824932217597961, 0.7123787999153137, 0.10017827153205872, 0.09699800610542297, 0.0015901311999186873, 0.08904734998941422, 0.059112388640642166, 0.3425041437149048, 0.029556194320321083, 0.006954398471862078, 0.5615677237510681, 0.009320876561105251, 0.0031069586984813213, 0.9880128502845764, 0.18971148133277893, 0.3135424554347992, 0.32574254274368286, 0.08296065032482147, 0.08845069259405136, 0.02102075144648552, 0.9459338784217834, 0.02102075144648552, 0.9380586743354797, 0.04538993537425995, 0.9562042951583862, 0.028123656287789345, 0.15860310196876526, 0.15021879971027374, 0.5449798107147217, 0.14602665603160858, 0.029232045635581017, 0.3083980679512024, 0.6621057987213135, 0.9723787307739258, 0.9292726516723633, 0.051914673298597336, 0.005191467236727476, 0.010382934473454952, 0.019435172900557518, 0.019435172900557518, 0.9523234367370605, 0.9913132190704346, 0.01491114217787981, 0.9692242741584778, 0.9906465411186218, 0.13739997148513794, 0.6026862263679504, 0.059331804513931274, 0.009368179365992546, 0.19100677967071533, 0.2024564892053604, 0.2076667696237564, 0.17938241362571716, 0.1116487979888916, 0.2992187738418579, 0.9895806312561035, 0.9877229928970337, 0.09850867092609406, 0.894787073135376, 0.2052953541278839, 0.14269408583641052, 0.05707763135433197, 0.32497426867485046, 0.2697378396987915, 0.27180397510528564, 0.5099644660949707, 0.09030620753765106, 0.005312129855155945, 0.12217898666858673, 0.984799325466156, 0.9836837649345398, 0.15583471953868866, 0.007248126436024904, 0.7574291825294495, 0.018120314925909042, 0.06160907447338104, 0.11105071008205414, 0.08424536138772964, 0.26805344223976135, 0.003829334629699588, 0.5341922044754028, 0.07956857979297638, 0.44319701194763184, 0.2482539713382721, 0.15038461983203888, 0.0787728950381279, 0.967783510684967, 0.2247474640607834, 0.005665902514010668, 0.5439266562461853, 0.09632034599781036, 0.13031576573848724, 0.1672753542661667, 0.026645630598068237, 0.5950857400894165, 0.06809438765048981, 0.14211003482341766, 0.09662016481161118, 0.016103360801935196, 0.805168092250824, 0.08051680773496628, 0.9799278378486633, 0.02928047440946102, 0.2677071988582611, 0.7027313709259033, 0.013229829259216785, 0.06026922166347504, 0.8011396527290344, 0.11612850427627563, 0.010289867408573627, 0.9592953324317932, 0.9613795280456543, 0.0031299053225666285, 0.1392807960510254, 0.10798173397779465, 0.7269205451011658, 0.022691814228892326, 0.008720329031348228, 0.1220846027135849, 0.039241477847099304, 0.7673889398574829, 0.05668213590979576, 0.012786678969860077, 0.03836003690958023, 0.9494109153747559, 0.995294988155365, 0.30932021141052246, 0.122138112783432, 0.28691616654396057, 0.12430624663829803, 0.15755094587802887, 0.9735165238380432, 0.921543538570404, 0.04495334252715111, 0.9885943531990051, 0.0068178921937942505, 0.9827285408973694, 0.012599083594977856, 0.1779026836156845, 0.6644120812416077, 0.13433468341827393, 0.01815333403646946, 0.007261333987116814, 0.6809905171394348, 0.047341588884592056, 0.2458120882511139, 0.0254916250705719, 0.00036416607326827943, 0.0028439080342650414, 0.24372291564941406, 0.08162016421556473, 0.6202563643455505, 0.05175912752747536, 0.9068794250488281, 0.005667996592819691, 0.07935195416212082, 0.005667996592819691, 0.006499462760984898, 0.012998925521969795, 0.012998925521969795, 0.9684199690818787, 0.03317013010382652, 0.021610841155052185, 0.8365405797958374, 0.03568301722407341, 0.07287376374006271, 0.9455467462539673, 0.0053724246099591255, 0.042979396879673004, 0.0053724246099591255, 0.07835156470537186, 0.741416335105896, 0.14617829024791718, 0.03391336277127266, 0.007024172693490982, 0.29267385601997375, 0.049169208854436874, 0.6321755647659302, 0.021072518080472946, 0.17719407379627228, 0.006994502618908882, 0.707610547542572, 0.015154755674302578, 0.09267716109752655, 0.9097972512245178, 0.03738892823457718, 0.00415432546287775, 0.012462976388633251, 0.033234603703022, 0.0203559473156929, 0.977085530757904, 0.24795857071876526, 0.18217363953590393, 0.3156411349773407, 0.25112131237983704, 0.0031627367716282606, 0.022191209718585014, 0.022191209718585014, 0.9209351539611816, 0.022191209718585014, 0.09459848701953888, 0.01789700984954834, 0.8769535422325134, 0.01022686343640089, 0.01867234893143177, 0.9709621667861938, 0.9925020933151245, 0.9790769219398499, 0.008778066374361515, 0.9831434488296509, 0.9790158867835999, 0.011749041266739368, 0.023498082533478737, 0.951672375202179, 0.02977626956999302, 0.9528406262397766, 0.00215894915163517, 0.006476846989244223, 0.011874220333993435, 0.9758449792861938, 0.0032384234946221113, 0.9521070718765259, 0.9726393222808838, 0.9944919943809509, 0.005094044841825962, 0.045846402645111084, 0.01698014885187149, 0.9271161556243896, 0.005094044841825962, 0.031098315492272377, 0.9640477895736694, 0.9937484264373779, 0.9794092178344727, 0.7916269302368164, 0.18637590110301971, 0.0065890466794371605, 0.005647754296660423, 0.009412923827767372, 0.9857044219970703, 0.18360677361488342, 0.14243434369564056, 0.10905129462480545, 0.14243434369564056, 0.42285194993019104, 0.014088131487369537, 0.007044065743684769, 0.028176262974739075, 0.9439048171043396, 0.007044065743684769, 0.02110244892537594, 0.9707126021385193, 0.9026360511779785, 0.08569329977035522, 0.005712886340916157, 0.620832085609436, 0.14814026653766632, 0.11082249134778976, 0.09725238382816315, 0.023747675120830536, 0.18233263492584229, 0.1434004008769989, 0.31859543919563293, 0.11290347576141357, 0.24332647025585175, 0.9545363783836365, 0.009270952083170414, 0.9827209115028381, 0.011691364459693432, 0.10132516175508499, 0.752144455909729, 0.054559703916311264, 0.08573667705059052, 0.9680700302124023, 0.2029293179512024, 0.3313259780406952, 0.06576412916183472, 0.14656007289886475, 0.2530353367328644, 0.9379914999008179, 0.981067955493927, 0.0011459409724920988, 0.03323229029774666, 0.14668044447898865, 0.8044505715370178, 0.014897232875227928, 0.9950434565544128, 0.3542080521583557, 0.08334306627511978, 0.2805387079715729, 0.26863256096839905, 0.013394421897828579, 0.03434046730399132, 0.9615330696105957, 0.03713890537619591, 0.07799169421195984, 0.817055881023407, 0.05013751983642578, 0.016712507233023643, 0.1969909816980362, 0.06668965518474579, 0.17954906821250916, 0.32113632559776306, 0.23495277762413025, 0.9958011507987976, 0.9923121333122253, 0.9749298691749573, 0.9665810465812683, 0.012082262896001339, 0.012082262896001339, 0.983272910118103, 0.9927497506141663, 0.8376489281654358, 0.010427165776491165, 0.13033956289291382, 0.0017378609627485275, 0.019116470590233803, 0.0017186353215947747, 0.08593177050352097, 0.005155906081199646, 0.8919717669487, 0.015467718243598938, 0.9748668074607849, 0.007064252160489559, 0.014128504320979118, 0.9888004660606384, 0.008356059901416302, 0.0027853534556925297, 0.13822996616363525, 0.6870842576026917, 0.14229555428028107, 0.03049190528690815, 0.002032793592661619, 0.8295842409133911, 0.08244315534830093, 0.040191035717725754, 0.040191035717725754, 0.008244315162301064, 0.15297582745552063, 0.2807921767234802, 0.23885971307754517, 0.23637482523918152, 0.09116427600383759, 0.9551150798797607, 0.15030987560749054, 0.7665804028511047, 0.015030988492071629, 0.06513427942991257, 0.005010329186916351, 0.6190317273139954, 0.23876938223838806, 0.08666444569826126, 0.03360458090901375, 0.021223945543169975, 0.9697792530059814, 0.052385397255420685, 0.014103760942816734, 0.23371946811676025, 0.6890695095062256, 0.010074115358293056, 0.02805013582110405, 0.04908773675560951, 0.8204664587974548, 0.10518800467252731, 0.04610689729452133, 0.7684482932090759, 0.09989827871322632, 0.08068707585334778, 0.19656044244766235, 0.33877238631248474, 0.1494584083557129, 0.243662491440773, 0.0715588703751564, 0.980241596698761, 0.1974400132894516, 0.7983443737030029, 0.11823607236146927, 0.22340081632137299, 0.4435338079929352, 0.10635305196046829, 0.10872965306043625, 0.11829636991024017, 0.009858030825853348, 0.8675066828727722, 0.9978743195533752, 0.009358823299407959, 0.019653528928756714, 0.9527282118797302, 0.018717646598815918, 0.9431875944137573], \"Term\": [\"accessory\", \"adjust\", \"adjust\", \"adjust\", \"adjust\", \"adorable\", \"adorable\", \"advice\", \"advise\", \"advise\", \"advise\", \"alot\", \"anticipate\", \"arch\", \"arch\", \"arch\", \"arm\", \"arm\", \"arm\", \"arm\", \"arrive\", \"arrive\", \"arrive\", \"arrive\", \"arrive\", \"arthritis\", \"attach\", \"balance\", \"bare\", \"bargain\", \"beach\", \"beach\", \"beach\", \"beat\", \"beat\", \"beat\", \"beat\", \"beat\", \"beautiful\", \"beautiful\", \"beautiful\", \"bed\", \"bed\", \"bed\", \"bed\", \"bed\", \"begin\", \"beige\", \"big\", \"big\", \"big\", \"big\", \"big\", \"bit\", \"bit\", \"bit\", \"bit\", \"bit\", \"blouse\", \"box\", \"box\", \"box\", \"bra\", \"bra\", \"bra\", \"bra\", \"bra\", \"break\", \"break\", \"break\", \"break\", \"break\", \"breaker\", \"breeze\", \"broken\", \"broken\", \"buck\", \"buck\", \"buck\", \"buck\", \"bummer\", \"bump\", \"bust\", \"bust\", \"buy\", \"buy\", \"buy\", \"buy\", \"buy\", \"capri\", \"capri\", \"capris\", \"card\", \"card\", \"cash\", \"cat\", \"cent\", \"chain\", \"chain\", \"chain\", \"chain\", \"chain\", \"charm\", \"cheap\", \"cheap\", \"cheap\", \"cheap\", \"cheap\", \"chic\", \"child\", \"child\", \"child\", \"child\", \"christma\", \"christma\", \"christma\", \"christma\", \"chunky\", \"clark\", \"clark\", \"clasp\", \"clasp\", \"clasp\", \"classy\", \"cleavage\", \"cling\", \"clingy\", \"color\", \"color\", \"color\", \"color\", \"color\", \"combo\", \"come\", \"come\", \"come\", \"come\", \"come\", \"comfortable\", \"comfortable\", \"comfortable\", \"comfortable\", \"comfortable\", \"comfy\", \"comfy\", \"comfy\", \"comfy\", \"comfy\", \"complement\", \"compliment\", \"compliment\", \"compliment\", \"coral\", \"coral\", \"costly\", \"costume\", \"costume\", \"costume\", \"cousin\", \"cradle\", \"credit\", \"cruise\", \"crystal\", \"crystal\", \"crystal\", \"cup\", \"cup\", \"cup\", \"cushion\", \"cushion\", \"cushion\", \"cushion\", \"cushy\", \"cushy\", \"cute\", \"cute\", \"date\", \"date\", \"date\", \"date\", \"day\", \"day\", \"day\", \"day\", \"day\", \"delicate\", \"drape\", \"dress\", \"dress\", \"dress\", \"dress\", \"dress\", \"dry\", \"dry\", \"dry\", \"dry\", \"dry\", \"earring\", \"earring\", \"earring\", \"earring\", \"earring\", \"effect\", \"elegant\", \"elegant\", \"envelope\", \"environment\", \"estimate\", \"exception\", \"expect\", \"expect\", \"expect\", \"expect\", \"expect\", \"eye\", \"fabric\", \"fabric\", \"fabric\", \"fabric\", \"fabric\", \"fabulous\", \"fatigue\", \"fault\", \"feel\", \"feel\", \"feel\", \"feel\", \"feel\", \"fight\", \"figured\", \"find\", \"find\", \"find\", \"find\", \"find\", \"finger\", \"finger\", \"fit\", \"fit\", \"fit\", \"fit\", \"fit\", \"fix\", \"fix\", \"flattering\", \"flattering\", \"flip\", \"flip\", \"flip\", \"flip\", \"flip\", \"flop\", \"flop\", \"flop\", \"flower\", \"foam\", \"foot\", \"foot\", \"foot\", \"foot\", \"foot\", \"footb\", \"footb\", \"frame\", \"friend\", \"friend\", \"friend\", \"friend\", \"friend\", \"fun\", \"fun\", \"fun\", \"generous\", \"generous\", \"gentle\", \"get\", \"get\", \"get\", \"get\", \"get\", \"gift\", \"gift\", \"gift\", \"gift\", \"girl\", \"girl\", \"girl\", \"girl\", \"girl\", \"give\", \"give\", \"give\", \"give\", \"give\", \"go\", \"go\", \"go\", \"go\", \"go\", \"god\", \"good\", \"good\", \"good\", \"good\", \"good\", \"gorgeous\", \"gotten\", \"granddaughter\", \"granddaughter\", \"great\", \"great\", \"great\", \"great\", \"great\", \"half\", \"half\", \"half\", \"half\", \"half\", \"halloween\", \"hang\", \"hang\", \"hang\", \"hang\", \"hang\", \"hanging\", \"head\", \"head\", \"heel\", \"heel\", \"heel\", \"heel\", \"holiday\", \"house\", \"house\", \"house\", \"house\", \"house\", \"hrs\", \"huh\", \"hurt\", \"hurt\", \"hurt\", \"instep\", \"instruction\", \"instruction\", \"instruction\", \"item\", \"item\", \"item\", \"item\", \"item\", \"jacket\", \"jacket\", \"jean\", \"jean\", \"jean\", \"jean\", \"jean\", \"jewel\", \"jewelry\", \"jewelry\", \"jewelry\", \"jewelry\", \"kick\", \"lace\", \"lace\", \"large\", \"large\", \"large\", \"large\", \"large\", \"law\", \"left\", \"left\", \"leg\", \"leg\", \"leg\", \"leg\", \"leg\", \"legging\", \"legging\", \"legging\", \"legging\", \"legging\", \"length\", \"length\", \"length\", \"length\", \"light\", \"light\", \"light\", \"light\", \"light\", \"lightweight\", \"lightweight\", \"lightweight\", \"lightweight\", \"lightweight\", \"liked\", \"liked\", \"little\", \"little\", \"little\", \"little\", \"little\", \"live\", \"live\", \"live\", \"live\", \"live\", \"long\", \"long\", \"long\", \"long\", \"long\", \"look\", \"look\", \"look\", \"look\", \"look\", \"looking\", \"looking\", \"loose\", \"loose\", \"loose\", \"loose\", \"loose\", \"lot\", \"lot\", \"lot\", \"lot\", \"lot\", \"lounge\", \"love\", \"love\", \"love\", \"love\", \"love\", \"lover\", \"make\", \"make\", \"make\", \"make\", \"make\", \"march\", \"mat\", \"mat\", \"mat\", \"match\", \"match\", \"match\", \"match\", \"match\", \"material\", \"material\", \"material\", \"material\", \"material\", \"maxi\", \"maxi\", \"maxi\", \"medium\", \"medium\", \"medium\", \"medium\", \"medium\", \"member\", \"memory\", \"metal\", \"metal\", \"metal\", \"mid\", \"mid\", \"min\", \"narrow\", \"narrow\", \"narrow\", \"narrow\", \"narrow\", \"neck\", \"neck\", \"neck\", \"necklace\", \"necklace\", \"necklace\", \"necklace\", \"nervous\", \"nice\", \"nice\", \"nice\", \"nice\", \"nice\", \"niece\", \"numerous\", \"numerous\", \"order\", \"order\", \"order\", \"order\", \"order\", \"outfit\", \"outfit\", \"outfit\", \"oversized\", \"owl\", \"owl\", \"owl\", \"owl\", \"owl\", \"package\", \"package\", \"package\", \"package\", \"package\", \"packaging\", \"pair\", \"pair\", \"pair\", \"pair\", \"pair\", \"pale\", \"pant\", \"pant\", \"pant\", \"pant\", \"pant\", \"pay\", \"pay\", \"pay\", \"pay\", \"pay\", \"pendant\", \"pendant\", \"pendant\", \"perfect\", \"perfect\", \"perfect\", \"perfect\", \"perfect\", \"period\", \"period\", \"period\", \"petite\", \"petite\", \"pic\", \"pic\", \"picture\", \"picture\", \"picture\", \"picture\", \"piece\", \"piece\", \"piece\", \"planning\", \"pocket\", \"pocket\", \"pocket\", \"pocket\", \"pool\", \"pool\", \"pool\", \"pop\", \"pregnant\", \"pregnant\", \"present\", \"price\", \"price\", \"price\", \"price\", \"price\", \"purchase\", \"purchase\", \"purchase\", \"purchase\", \"purchase\", \"purchasing\", \"pure\", \"purple\", \"purple\", \"put\", \"put\", \"put\", \"put\", \"put\", \"quality\", \"quality\", \"quality\", \"quality\", \"quality\", \"rain\", \"rare\", \"read\", \"read\", \"read\", \"read\", \"read\", \"receive\", \"receive\", \"receive\", \"receive\", \"receive\", \"recommend\", \"recommend\", \"recommend\", \"recommend\", \"recommend\", \"response\", \"return\", \"return\", \"return\", \"return\", \"return\", \"review\", \"review\", \"review\", \"review\", \"review\", \"reviewer\", \"reviewer\", \"reviewer\", \"reviewer\", \"rich\", \"ring\", \"ring\", \"ring\", \"run\", \"run\", \"run\", \"run\", \"run\", \"safe\", \"sand\", \"sandal\", \"sandal\", \"sandal\", \"sandal\", \"sandal\", \"sanuk\", \"sanuk\", \"sanuk\", \"sanuk\", \"sanuk\", \"scarf\", \"scarf\", \"scarf\", \"secure\", \"see\", \"see\", \"see\", \"see\", \"see\", \"sensitive\", \"shade\", \"shade\", \"sheer\", \"sheer\", \"shiny\", \"shiny\", \"ship\", \"ship\", \"ship\", \"ship\", \"ship\", \"shirt\", \"shirt\", \"shirt\", \"shirt\", \"shirt\", \"shoe\", \"shoe\", \"shoe\", \"shoe\", \"shoe\", \"shrink\", \"shrink\", \"shrink\", \"shrink\", \"sister\", \"sister\", \"sister\", \"sister\", \"size\", \"size\", \"size\", \"size\", \"size\", \"skinny\", \"skinny\", \"skinny\", \"skinny\", \"skirt\", \"skirt\", \"skirt\", \"skirt\", \"slip\", \"slip\", \"slip\", \"slip\", \"slip\", \"small\", \"small\", \"small\", \"small\", \"small\", \"smell\", \"smell\", \"smell\", \"smell\", \"smell\", \"soak\", \"soak\", \"soft\", \"soft\", \"soft\", \"soft\", \"soft\", \"sol\", \"sol\", \"sol\", \"sol\", \"sole\", \"sole\", \"sole\", \"sole\", \"sooo\", \"sooo\", \"soooo\", \"soooooo\", \"sound\", \"sound\", \"sporty\", \"squishy\", \"squishy\", \"squishy\", \"stability\", \"stability\", \"strap\", \"strap\", \"strap\", \"strap\", \"strap\", \"straps\", \"string\", \"suede\", \"support\", \"support\", \"support\", \"support\", \"support\", \"supportive\", \"supportive\", \"surprised\", \"surprising\", \"sweater\", \"sweater\", \"sweater\", \"sweater\", \"sweater\", \"swell\", \"take\", \"take\", \"take\", \"take\", \"take\", \"tank\", \"tank\", \"tank\", \"tank\", \"tank\", \"texture\", \"texture\", \"thigh\", \"thigh\", \"thigh\", \"thin\", \"thin\", \"thin\", \"thin\", \"thin\", \"think\", \"think\", \"think\", \"think\", \"think\", \"tho\", \"thong\", \"thong\", \"thought\", \"thought\", \"thought\", \"thought\", \"thought\", \"tighten\", \"time\", \"time\", \"time\", \"time\", \"time\", \"timely\", \"toddler\", \"toe\", \"toe\", \"toe\", \"toe\", \"toe\", \"tone\", \"top\", \"top\", \"top\", \"top\", \"top\", \"trendy\", \"trendy\", \"true\", \"true\", \"true\", \"true\", \"true\", \"try\", \"try\", \"try\", \"try\", \"try\", \"tunic\", \"unique\", \"vacation\", \"value\", \"value\", \"value\", \"vibrant\", \"vintage\", \"waist\", \"waist\", \"waist\", \"waist\", \"waist\", \"walk\", \"walk\", \"walk\", \"walk\", \"walk\", \"walking\", \"walking\", \"walking\", \"wallet\", \"wallet\", \"wallet\", \"warm\", \"warm\", \"warm\", \"warm\", \"warm\", \"wash\", \"wash\", \"wash\", \"wash\", \"wash\", \"wear\", \"wear\", \"wear\", \"wear\", \"wear\", \"wearable\", \"weather\", \"weather\", \"weather\", \"weather\", \"weather\", \"weight\", \"weight\", \"weight\", \"weight\", \"weight\", \"who\", \"wide\", \"wide\", \"wide\", \"wide\", \"wide\", \"width\", \"width\", \"width\", \"width\", \"winter\", \"winter\", \"winter\", \"winter\", \"work\", \"work\", \"work\", \"work\", \"work\", \"worker\", \"worried\", \"worried\", \"would\", \"would\", \"would\", \"would\", \"would\", \"wrap\", \"wrap\", \"wrap\", \"yellow\", \"yoga\", \"yoga\", \"yoga\", \"yoga\", \"zip\"]}, \"R\": 30, \"lambda.step\": 0.01, \"plot.opts\": {\"xlab\": \"PC1\", \"ylab\": \"PC2\"}, \"topic.order\": [3, 1, 5, 4, 2]};\n",
       "\n",
       "function LDAvis_load_lib(url, callback){\n",
       "  var s = document.createElement('script');\n",
       "  s.src = url;\n",
       "  s.async = true;\n",
       "  s.onreadystatechange = s.onload = callback;\n",
       "  s.onerror = function(){console.warn(\"failed to load library \" + url);};\n",
       "  document.getElementsByTagName(\"head\")[0].appendChild(s);\n",
       "}\n",
       "\n",
       "if(typeof(LDAvis) !== \"undefined\"){\n",
       "   // already loaded: just create the visualization\n",
       "   !function(LDAvis){\n",
       "       new LDAvis(\"#\" + \"ldavis_el584426194752241605943155467\", ldavis_el584426194752241605943155467_data);\n",
       "   }(LDAvis);\n",
       "}else if(typeof define === \"function\" && define.amd){\n",
       "   // require.js is available: use it to load d3/LDAvis\n",
       "   require.config({paths: {d3: \"https://cdnjs.cloudflare.com/ajax/libs/d3/3.5.5/d3.min\"}});\n",
       "   require([\"d3\"], function(d3){\n",
       "      window.d3 = d3;\n",
       "      LDAvis_load_lib(\"https://cdn.rawgit.com/bmabey/pyLDAvis/files/ldavis.v1.0.0.js\", function(){\n",
       "        new LDAvis(\"#\" + \"ldavis_el584426194752241605943155467\", ldavis_el584426194752241605943155467_data);\n",
       "      });\n",
       "    });\n",
       "}else{\n",
       "    // require.js not available: dynamically load d3 & LDAvis\n",
       "    LDAvis_load_lib(\"https://cdnjs.cloudflare.com/ajax/libs/d3/3.5.5/d3.min.js\", function(){\n",
       "         LDAvis_load_lib(\"https://cdn.rawgit.com/bmabey/pyLDAvis/files/ldavis.v1.0.0.js\", function(){\n",
       "                 new LDAvis(\"#\" + \"ldavis_el584426194752241605943155467\", ldavis_el584426194752241605943155467_data);\n",
       "            })\n",
       "         });\n",
       "}\n",
       "</script>"
      ],
      "text/plain": [
       "PreparedData(topic_coordinates=              x         y  topics  cluster       Freq\n",
       "topic                                                \n",
       "2     -0.037123  0.128099       1        1  24.769835\n",
       "0     -0.010310 -0.012159       2        1  20.570139\n",
       "4     -0.020395  0.075947       3        1  20.546127\n",
       "3      0.200839 -0.057943       4        1  18.071260\n",
       "1     -0.133012 -0.133944       5        1  16.042645, topic_info=     Category         Freq         Term        Total  loglift  logprob\n",
       "term                                                                  \n",
       "264   Default  2817.000000         cute  2817.000000  30.0000  30.0000\n",
       "10    Default  3979.000000         size  3979.000000  29.0000  29.0000\n",
       "158   Default  2854.000000         foot  2854.000000  28.0000  28.0000\n",
       "3921  Default  1716.000000         flop  1716.000000  27.0000  27.0000\n",
       "44    Default  3516.000000         shoe  3516.000000  26.0000  26.0000\n",
       "4183  Default  1656.000000         flip  1656.000000  25.0000  25.0000\n",
       "90    Default  3302.000000        order  3302.000000  24.0000  24.0000\n",
       "8523  Default  1680.000000     necklace  1680.000000  23.0000  23.0000\n",
       "2885  Default  1068.000000         yoga  1068.000000  22.0000  22.0000\n",
       "47    Default  1163.000000         walk  1163.000000  21.0000  21.0000\n",
       "637   Default  2746.000000        shirt  2746.000000  20.0000  20.0000\n",
       "3117  Default   926.000000        strap   926.000000  19.0000  19.0000\n",
       "239   Default  3547.000000  comfortable  3547.000000  18.0000  18.0000\n",
       "22    Default   755.000000         gift   755.000000  17.0000  17.0000\n",
       "59    Default  1715.000000        small  1715.000000  16.0000  16.0000\n",
       "5     Default  3440.000000        great  3440.000000  15.0000  15.0000\n",
       "4131  Default  1277.000000       sandal  1277.000000  14.0000  14.0000\n",
       "4     Default  5281.000000          fit  5281.000000  13.0000  13.0000\n",
       "56    Default  1290.000000        large  1290.000000  12.0000  12.0000\n",
       "8911  Default   865.000000        chain   865.000000  11.0000  11.0000\n",
       "8473  Default   794.000000      earring   794.000000  10.0000  10.0000\n",
       "28    Default  1921.000000        price  1921.000000   9.0000   9.0000\n",
       "168   Default   872.000000          toe   872.000000   8.0000   8.0000\n",
       "26    Default  5033.000000         love  5033.000000   7.0000   7.0000\n",
       "6     Default  5137.000000         look  5137.000000   6.0000   6.0000\n",
       "166   Default   588.000000      support   588.000000   5.0000   5.0000\n",
       "1801  Default  1062.000000      sweater  1062.000000   4.0000   4.0000\n",
       "173   Default  1103.000000        comfy  1103.000000   3.0000   3.0000\n",
       "1415  Default   684.000000        piece   684.000000   2.0000   2.0000\n",
       "9086  Default   671.000000          owl   671.000000   1.0000   1.0000\n",
       "...       ...          ...          ...          ...      ...      ...\n",
       "9086   Topic5   492.840729          owl   671.452087   1.5207  -4.6767\n",
       "400    Topic5   337.605499        break   446.711548   1.5499  -5.0551\n",
       "1678   Topic5    88.147926         wrap   101.440140   1.6895  -6.3979\n",
       "1415   Topic5   452.627289        piece   684.180664   1.4168  -4.7619\n",
       "602    Topic5   184.878326      package   245.654083   1.5457  -5.6572\n",
       "1196   Topic5   151.782639        metal   195.920639   1.5747  -5.8545\n",
       "149    Topic5   235.755997          fun   362.013733   1.4010  -5.4141\n",
       "32     Topic5   336.851715       arrive   587.984741   1.2729  -5.0573\n",
       "651    Topic5   323.064056          pay   575.175537   1.2531  -5.0991\n",
       "1627   Topic5   167.907242         ring   239.067169   1.4766  -5.7535\n",
       "214    Topic5   331.093384         item   618.857544   1.2044  -5.0745\n",
       "1906   Topic5   255.476166    beautiful   439.335938   1.2878  -5.3338\n",
       "212    Topic5   505.253387         give  1206.727295   0.9593  -4.6519\n",
       "21     Topic5  1182.954224          get  4628.405762   0.4657  -3.8012\n",
       "675    Topic5   278.678864      receive   522.283936   1.2018  -5.2469\n",
       "27     Topic5   685.438721         pair  2271.691650   0.6317  -4.3469\n",
       "226    Topic5   379.735321         take   898.659668   0.9685  -4.9375\n",
       "155    Topic5   473.590912         come  1341.434448   0.7888  -4.7166\n",
       "74     Topic5   813.178955          buy  3770.671143   0.2959  -4.1760\n",
       "26     Topic5   755.125488         love  5033.669434  -0.0671  -4.2500\n",
       "90     Topic5   593.010681        order  3302.209473   0.1128  -4.4917\n",
       "72     Topic5   402.003723     purchase  1343.498535   0.6233  -4.8805\n",
       "30     Topic5   404.171112         time  1596.614990   0.4561  -4.8751\n",
       "17     Topic5   342.238251        cheap  1127.822144   0.6374  -5.0414\n",
       "13     Topic5   586.548401         wear  6438.925781  -0.5659  -4.5027\n",
       "96     Topic5   374.652130        think  1541.139404   0.4156  -4.9509\n",
       "28     Topic5   367.149017        price  1921.397827   0.1749  -4.9712\n",
       "299    Topic5   349.675751           go  1459.947754   0.4008  -5.0199\n",
       "15     Topic5   365.661713        would  3366.146973  -0.3899  -4.9752\n",
       "6      Topic5   300.381927         look  5137.795410  -1.0094  -5.1719\n",
       "\n",
       "[402 rows x 6 columns], token_table=      Topic      Freq        Term\n",
       "term                             \n",
       "2743      2  0.978929   accessory\n",
       "1844      1  0.059457      adjust\n",
       "1844      2  0.039638      adjust\n",
       "1844      3  0.013213      adjust\n",
       "1844      5  0.885255      adjust\n",
       "78        1  0.105485    adorable\n",
       "78        5  0.892567    adorable\n",
       "1130      3  0.982724      advice\n",
       "2061      1  0.020507      advise\n",
       "2061      3  0.963843      advise\n",
       "2061      4  0.020507      advise\n",
       "964       3  0.972983        alot\n",
       "2821      3  0.981276  anticipate\n",
       "447       1  0.004760        arch\n",
       "447       2  0.038083        arch\n",
       "447       4  0.956832        arch\n",
       "1005      1  0.825039         arm\n",
       "1005      2  0.003910         arm\n",
       "1005      3  0.093843         arm\n",
       "1005      4  0.074293         arm\n",
       "32        1  0.130956      arrive\n",
       "32        2  0.200685      arrive\n",
       "32        3  0.086737      arrive\n",
       "32        4  0.006803      arrive\n",
       "32        5  0.573144      arrive\n",
       "3772      4  0.949203   arthritis\n",
       "3492      2  0.988811      attach\n",
       "3899      4  0.983121     balance\n",
       "932       2  0.965114        bare\n",
       "1107      5  0.940001     bargain\n",
       "...     ...       ...         ...\n",
       "345       1  0.028050       width\n",
       "345       2  0.049088       width\n",
       "345       3  0.820466       width\n",
       "345       5  0.105188       width\n",
       "815       1  0.046107      winter\n",
       "815       2  0.768448      winter\n",
       "815       3  0.099898      winter\n",
       "815       4  0.080687      winter\n",
       "170       1  0.196560        work\n",
       "170       2  0.338772        work\n",
       "170       3  0.149458        work\n",
       "170       4  0.243662        work\n",
       "170       5  0.071559        work\n",
       "1117      4  0.980242      worker\n",
       "209       1  0.197440     worried\n",
       "209       3  0.798344     worried\n",
       "15        1  0.118236       would\n",
       "15        2  0.223401       would\n",
       "15        3  0.443534       would\n",
       "15        4  0.106353       would\n",
       "15        5  0.108730       would\n",
       "1678      1  0.118296        wrap\n",
       "1678      2  0.009858        wrap\n",
       "1678      5  0.867507        wrap\n",
       "5603      5  0.997874      yellow\n",
       "2885      1  0.009359        yoga\n",
       "2885      2  0.019654        yoga\n",
       "2885      4  0.952728        yoga\n",
       "2885      5  0.018718        yoga\n",
       "2007      3  0.943188         zip\n",
       "\n",
       "[910 rows x 3 columns], R=30, lambda_step=0.01, plot_opts={'xlab': 'PC1', 'ylab': 'PC2'}, topic_order=[3, 1, 5, 4, 2])"
      ]
     },
     "execution_count": 70,
     "metadata": {},
     "output_type": "execute_result"
    }
   ],
   "source": [
    "# Visualize the topics\n",
    "pyLDAvis.enable_notebook()\n",
    "vis = pyLDAvis.gensim.prepare(lda_model, doc_term_matrix, dictionary)\n",
    "vis"
   ]
  },
  {
   "cell_type": "markdown",
   "metadata": {},
   "source": [
    "## Compute Model Perplexity and Coherence Score"
   ]
  },
  {
   "cell_type": "code",
   "execution_count": 90,
   "metadata": {},
   "outputs": [
    {
     "name": "stdout",
     "output_type": "stream",
     "text": [
      "\n",
      "Perplexity:  -6.980298403359398\n",
      "\n",
      "Coherence Score:  0.46490571261402563\n"
     ]
    }
   ],
   "source": [
    "from gensim.models import CoherenceModel\n",
    "# Compute Perplexity\n",
    "print('\\nPerplexity: ', lda_model.log_perplexity(doc_term_matrix))  # a measure of how good the model is. lower the better.\n",
    "\n",
    "# Compute Coherence Score\n",
    "coherence_model_lda = CoherenceModel(model=lda_model, texts=reviews_2, dictionary=dictionary, coherence='c_v')\n",
    "coherence_lda = coherence_model_lda.get_coherence()\n",
    "print('\\nCoherence Score: ', coherence_lda)"
   ]
  },
  {
   "cell_type": "markdown",
   "metadata": {},
   "source": [
    "## Compute c_v coherence for various number of topics\n",
    "\n",
    "    Parameters:\n",
    "    ----------\n",
    "    dictionary : Gensim dictionary\n",
    "    corpus : Gensim corpus\n",
    "    texts : List of input texts\n",
    "    limit : Max num of topics\n",
    "\n",
    "    Returns:\n",
    "    -------\n",
    "    model_list : List of LDA topic models\n",
    "    coherence_values : Coherence values corresponding to the LDA model with respective number of topics\n",
    "    "
   ]
  },
  {
   "cell_type": "code",
   "execution_count": 91,
   "metadata": {},
   "outputs": [],
   "source": [
    "def compute_coherence_values(dictionary, corpus, texts, limit, start=2, step=3):\n",
    "    coherence_values = []\n",
    "    model_list = []\n",
    "    for num_topics in range(start, limit, step):\n",
    "        model = gensim.models.ldamodel.LdaModel(corpus=corpus, num_topics=num_topics, id2word=dictionary)\n",
    "        model_list.append(model)\n",
    "        coherencemodel = CoherenceModel(model=model, texts=texts, dictionary=dictionary, coherence='c_v')\n",
    "        coherence_values.append(coherencemodel.get_coherence())\n",
    "\n",
    "    return model_list, coherence_values"
   ]
  },
  {
   "cell_type": "code",
   "execution_count": 92,
   "metadata": {},
   "outputs": [],
   "source": [
    "# Can take a long time to run.\n",
    "model_list, coherence_values = compute_coherence_values(dictionary=dictionary, corpus=doc_term_matrix, texts=reviews_2, start=2, limit=40, step=6)"
   ]
  },
  {
   "cell_type": "code",
   "execution_count": 93,
   "metadata": {},
   "outputs": [
    {
     "data": {
      "image/png": "[encoded data removed]",
      "text/plain": [
       "<Figure size 432x288 with 1 Axes>"
      ]
     },
     "metadata": {
      "needs_background": "light"
     },
     "output_type": "display_data"
    }
   ],
   "source": [
    "# Show graph\n",
    "limit=40; start=2; step=6;\n",
    "x = range(start, limit, step)\n",
    "plt.plot(x, coherence_values)\n",
    "plt.xlabel(\"Num Topics\")\n",
    "plt.ylabel(\"Coherence score\")\n",
    "plt.legend((\"coherence_values\"), loc='best')\n",
    "plt.show()"
   ]
  },
  {
   "cell_type": "code",
   "execution_count": 94,
   "metadata": {},
   "outputs": [
    {
     "name": "stdout",
     "output_type": "stream",
     "text": [
      "Num Topics = 2  has Coherence Value of 0.4222\n",
      "Num Topics = 8  has Coherence Value of 0.4606\n",
      "Num Topics = 14  has Coherence Value of 0.4107\n",
      "Num Topics = 20  has Coherence Value of 0.3976\n",
      "Num Topics = 26  has Coherence Value of 0.412\n",
      "Num Topics = 32  has Coherence Value of 0.4076\n",
      "Num Topics = 38  has Coherence Value of 0.3952\n"
     ]
    }
   ],
   "source": [
    "# Print the coherence scores\n",
    "for m, cv in zip(x, coherence_values):\n",
    "    print(\"Num Topics =\", m, \" has Coherence Value of\", round(cv, 4))"
   ]
  },
  {
   "cell_type": "code",
   "execution_count": 95,
   "metadata": {},
   "outputs": [
    {
     "name": "stdout",
     "output_type": "stream",
     "text": [
      "LdaModel(num_terms=9898, num_topics=20, decay=0.5, chunksize=2000)\n"
     ]
    }
   ],
   "source": [
    "print(model_list[3])\n"
   ]
  },
  {
   "cell_type": "code",
   "execution_count": 96,
   "metadata": {
    "scrolled": true
   },
   "outputs": [],
   "source": [
    "# Select the model and print the topics\n",
    "import pprint\n",
    "optimal_model = model_list[1]\n",
    "model_topics = optimal_model.show_topics(formatted=False)"
   ]
  },
  {
   "cell_type": "markdown",
   "metadata": {},
   "source": [
    "## '''Finding the dominant topic in each sentence'''"
   ]
  },
  {
   "cell_type": "code",
   "execution_count": 97,
   "metadata": {},
   "outputs": [
    {
     "data": {
      "text/html": [
       "<div>\n",
       "<style scoped>\n",
       "    .dataframe tbody tr th:only-of-type {\n",
       "        vertical-align: middle;\n",
       "    }\n",
       "\n",
       "    .dataframe tbody tr th {\n",
       "        vertical-align: top;\n",
       "    }\n",
       "\n",
       "    .dataframe thead th {\n",
       "        text-align: right;\n",
       "    }\n",
       "</style>\n",
       "<table border=\"1\" class=\"dataframe\">\n",
       "  <thead>\n",
       "    <tr style=\"text-align: right;\">\n",
       "      <th></th>\n",
       "      <th>Document_No</th>\n",
       "      <th>Dominant_Topic</th>\n",
       "      <th>Topic_Perc_Contrib</th>\n",
       "      <th>Keywords</th>\n",
       "      <th>Text</th>\n",
       "    </tr>\n",
       "  </thead>\n",
       "  <tbody>\n",
       "    <tr>\n",
       "      <th>0</th>\n",
       "      <td>0</td>\n",
       "      <td>2.0</td>\n",
       "      <td>0.9484</td>\n",
       "      <td>great, wear, foot, black, color, fit, would, look, good, buy</td>\n",
       "      <td>[fit, true, size, wear, anything, dark, shade, purple, will, stand, color, great, look, would, recommend, anyone]</td>\n",
       "    </tr>\n",
       "    <tr>\n",
       "      <th>1</th>\n",
       "      <td>1</td>\n",
       "      <td>6.0</td>\n",
       "      <td>0.6940</td>\n",
       "      <td>necklace, buy, get, price, love, good, look, earring, would, gift</td>\n",
       "      <td>[get, gift, little, sister, want, pair, long, time, happy, find, amazon, cheap, price, love, wear, day, great, deal]</td>\n",
       "    </tr>\n",
       "    <tr>\n",
       "      <th>2</th>\n",
       "      <td>2</td>\n",
       "      <td>6.0</td>\n",
       "      <td>0.4109</td>\n",
       "      <td>necklace, buy, get, price, love, good, look, earring, would, gift</td>\n",
       "      <td>[daughter, love, converse, fact, fit, witout, return, try, store, arrive, time]</td>\n",
       "    </tr>\n",
       "    <tr>\n",
       "      <th>3</th>\n",
       "      <td>3</td>\n",
       "      <td>0.0</td>\n",
       "      <td>0.4455</td>\n",
       "      <td>size, love, wear, comfortable, foot, fit, great, sandal, comfy, color</td>\n",
       "      <td>[love, shoe, true, form, fit, love, brightness, light, orange, color]</td>\n",
       "    </tr>\n",
       "    <tr>\n",
       "      <th>4</th>\n",
       "      <td>4</td>\n",
       "      <td>0.0</td>\n",
       "      <td>0.9204</td>\n",
       "      <td>size, love, wear, comfortable, foot, fit, great, sandal, comfy, color</td>\n",
       "      <td>[fit, feel, great, walk, recommend, shoe, anyone, great, shoe, summer]</td>\n",
       "    </tr>\n",
       "    <tr>\n",
       "      <th>5</th>\n",
       "      <td>5</td>\n",
       "      <td>4.0</td>\n",
       "      <td>0.7844</td>\n",
       "      <td>shoe, foot, wear, comfortable, size, get, strap, order, walk, would</td>\n",
       "      <td>[wife, love, shoe, size, convertion, little, biggie, send, get, right, size]</td>\n",
       "    </tr>\n",
       "    <tr>\n",
       "      <th>6</th>\n",
       "      <td>6</td>\n",
       "      <td>7.0</td>\n",
       "      <td>0.4605</td>\n",
       "      <td>fit, size, wear, order, small, shirt, would, large, get, material</td>\n",
       "      <td>[look, red, chuck, love, would, recommend, get, half, size, full, size, small, run, large]</td>\n",
       "    </tr>\n",
       "    <tr>\n",
       "      <th>7</th>\n",
       "      <td>7</td>\n",
       "      <td>3.0</td>\n",
       "      <td>0.6045</td>\n",
       "      <td>look, love, fit, color, wear, great, comfortable, shirt, good, size</td>\n",
       "      <td>[converse, make, long, kid, ask, love, pair, assort, color, nothing, complain, change, point]</td>\n",
       "    </tr>\n",
       "    <tr>\n",
       "      <th>8</th>\n",
       "      <td>8</td>\n",
       "      <td>1.0</td>\n",
       "      <td>0.4859</td>\n",
       "      <td>flop, cute, flip, wear, comfortable, pair, get, great, love, buy</td>\n",
       "      <td>[purchase, gift, daughter, wear, time, may, borrow]</td>\n",
       "    </tr>\n",
       "    <tr>\n",
       "      <th>9</th>\n",
       "      <td>9</td>\n",
       "      <td>0.0</td>\n",
       "      <td>0.6085</td>\n",
       "      <td>size, love, wear, comfortable, foot, fit, great, sandal, comfy, color</td>\n",
       "      <td>[buy, grown, daughter, love, fit, age, would, love]</td>\n",
       "    </tr>\n",
       "  </tbody>\n",
       "</table>\n",
       "</div>"
      ],
      "text/plain": [
       "   Document_No  Dominant_Topic  Topic_Perc_Contrib  \\\n",
       "0            0             2.0              0.9484   \n",
       "1            1             6.0              0.6940   \n",
       "2            2             6.0              0.4109   \n",
       "3            3             0.0              0.4455   \n",
       "4            4             0.0              0.9204   \n",
       "5            5             4.0              0.7844   \n",
       "6            6             7.0              0.4605   \n",
       "7            7             3.0              0.6045   \n",
       "8            8             1.0              0.4859   \n",
       "9            9             0.0              0.6085   \n",
       "\n",
       "                                                                Keywords  \\\n",
       "0           great, wear, foot, black, color, fit, would, look, good, buy   \n",
       "1      necklace, buy, get, price, love, good, look, earring, would, gift   \n",
       "2      necklace, buy, get, price, love, good, look, earring, would, gift   \n",
       "3  size, love, wear, comfortable, foot, fit, great, sandal, comfy, color   \n",
       "4  size, love, wear, comfortable, foot, fit, great, sandal, comfy, color   \n",
       "5    shoe, foot, wear, comfortable, size, get, strap, order, walk, would   \n",
       "6      fit, size, wear, order, small, shirt, would, large, get, material   \n",
       "7    look, love, fit, color, wear, great, comfortable, shirt, good, size   \n",
       "8       flop, cute, flip, wear, comfortable, pair, get, great, love, buy   \n",
       "9  size, love, wear, comfortable, foot, fit, great, sandal, comfy, color   \n",
       "\n",
       "                                                                                                                   Text  \n",
       "0     [fit, true, size, wear, anything, dark, shade, purple, will, stand, color, great, look, would, recommend, anyone]  \n",
       "1  [get, gift, little, sister, want, pair, long, time, happy, find, amazon, cheap, price, love, wear, day, great, deal]  \n",
       "2                                       [daughter, love, converse, fact, fit, witout, return, try, store, arrive, time]  \n",
       "3                                                 [love, shoe, true, form, fit, love, brightness, light, orange, color]  \n",
       "4                                                [fit, feel, great, walk, recommend, shoe, anyone, great, shoe, summer]  \n",
       "5                                          [wife, love, shoe, size, convertion, little, biggie, send, get, right, size]  \n",
       "6                            [look, red, chuck, love, would, recommend, get, half, size, full, size, small, run, large]  \n",
       "7                         [converse, make, long, kid, ask, love, pair, assort, color, nothing, complain, change, point]  \n",
       "8                                                                   [purchase, gift, daughter, wear, time, may, borrow]  \n",
       "9                                                                   [buy, grown, daughter, love, fit, age, would, love]  "
      ]
     },
     "execution_count": 97,
     "metadata": {},
     "output_type": "execute_result"
    }
   ],
   "source": [
    "def format_topics_sentences(ldamodel=lda_model, corpus=doc_term_matrix, texts=reviews_2):\n",
    "    # Init output\n",
    "    sent_topics_df = pd.DataFrame()\n",
    "\n",
    "    # Get main topic in each document\n",
    "    for i, row in enumerate(ldamodel[corpus]):\n",
    "        row = sorted(row, key=lambda x: (x[1]), reverse=True)\n",
    "        # Get the Dominant topic, Perc Contribution and Keywords for each document\n",
    "        for j, (topic_num, prop_topic) in enumerate(row):\n",
    "            if j == 0:  # => dominant topic\n",
    "                wp = ldamodel.show_topic(topic_num)\n",
    "                topic_keywords = \", \".join([word for word, prop in wp])\n",
    "                sent_topics_df = sent_topics_df.append(pd.Series([int(topic_num), round(prop_topic,4), topic_keywords]), ignore_index=True)\n",
    "            else:\n",
    "                break\n",
    "    sent_topics_df.columns = ['Dominant_Topic', 'Perc_Contribution', 'Topic_Keywords']\n",
    "\n",
    "    # Add original text to the end of the output\n",
    "    contents = pd.Series(texts)\n",
    "    sent_topics_df = pd.concat([sent_topics_df, contents], axis=1)\n",
    "    return(sent_topics_df)\n",
    "\n",
    "\n",
    "df_topic_sents_keywords = format_topics_sentences(ldamodel=optimal_model, corpus=doc_term_matrix,texts=reviews_2)\n",
    "\n",
    "# Format\n",
    "df_dominant_topic = df_topic_sents_keywords.reset_index()\n",
    "df_dominant_topic.columns = ['Document_No', 'Dominant_Topic', 'Topic_Perc_Contrib', 'Keywords', 'Text']\n",
    "\n",
    "# Show\n",
    "df_dominant_topic.head(10)"
   ]
  },
  {
   "cell_type": "markdown",
   "metadata": {},
   "source": [
    "## Find the most representative document for each topic"
   ]
  },
  {
   "cell_type": "code",
   "execution_count": 98,
   "metadata": {},
   "outputs": [
    {
     "data": {
      "text/html": [
       "<div>\n",
       "<style scoped>\n",
       "    .dataframe tbody tr th:only-of-type {\n",
       "        vertical-align: middle;\n",
       "    }\n",
       "\n",
       "    .dataframe tbody tr th {\n",
       "        vertical-align: top;\n",
       "    }\n",
       "\n",
       "    .dataframe thead th {\n",
       "        text-align: right;\n",
       "    }\n",
       "</style>\n",
       "<table border=\"1\" class=\"dataframe\">\n",
       "  <thead>\n",
       "    <tr style=\"text-align: right;\">\n",
       "      <th></th>\n",
       "      <th>Topic_Num</th>\n",
       "      <th>Topic_Perc_Contrib</th>\n",
       "      <th>Keywords</th>\n",
       "      <th>Text</th>\n",
       "    </tr>\n",
       "  </thead>\n",
       "  <tbody>\n",
       "    <tr>\n",
       "      <th>0</th>\n",
       "      <td>0.0</td>\n",
       "      <td>0.9649</td>\n",
       "      <td>size, love, wear, comfortable, foot, fit, great, sandal, comfy, color</td>\n",
       "      <td>[want, pair, seem, everyone, pair, love, fit, small, size, wear, make, foot, look, huge, seem, slip, foot, wish, could, wear, reputation, easy, fit, style]</td>\n",
       "    </tr>\n",
       "    <tr>\n",
       "      <th>1</th>\n",
       "      <td>1.0</td>\n",
       "      <td>0.9781</td>\n",
       "      <td>flop, cute, flip, wear, comfortable, pair, get, great, love, buy</td>\n",
       "      <td>[buy, look, store, line, retailer, find, cheap, buy, material, different, example, leather, new, model, use, synthetic, material, make, shoe, lot, cheap, course, believe, get, pay, shoe, go, get, ...</td>\n",
       "    </tr>\n",
       "    <tr>\n",
       "      <th>2</th>\n",
       "      <td>2.0</td>\n",
       "      <td>0.9865</td>\n",
       "      <td>great, wear, foot, black, color, fit, would, look, good, buy</td>\n",
       "      <td>[order, black, white, sock, advertised, ratio, include, polyester, black, one, label, polyester, white, one, advertise, price, favorable, send, black, sock, feel, difference, polyester, make, woul...</td>\n",
       "    </tr>\n",
       "    <tr>\n",
       "      <th>3</th>\n",
       "      <td>3.0</td>\n",
       "      <td>0.9809</td>\n",
       "      <td>look, love, fit, color, wear, great, comfortable, shirt, good, size</td>\n",
       "      <td>[backpack, roomy, use, hold, case, zombie, apocalypse, emergency, supply, think, would, need, backpack, hold, everything, fit, bag, huge, main, zipper, compartment, several, small, one, compartmen...</td>\n",
       "    </tr>\n",
       "    <tr>\n",
       "      <th>4</th>\n",
       "      <td>4.0</td>\n",
       "      <td>0.9846</td>\n",
       "      <td>shoe, foot, wear, comfortable, size, get, strap, order, walk, would</td>\n",
       "      <td>[let, say, get, correct, size, bra, size, little, snug, torpedo, expect, chest, look, ice, cream, cone, stick, sure, playtex, think, go, find, gel, shoulder, pad, comfortable, scallop, edge, bra, ...</td>\n",
       "    </tr>\n",
       "  </tbody>\n",
       "</table>\n",
       "</div>"
      ],
      "text/plain": [
       "   Topic_Num  Topic_Perc_Contrib  \\\n",
       "0        0.0              0.9649   \n",
       "1        1.0              0.9781   \n",
       "2        2.0              0.9865   \n",
       "3        3.0              0.9809   \n",
       "4        4.0              0.9846   \n",
       "\n",
       "                                                                Keywords  \\\n",
       "0  size, love, wear, comfortable, foot, fit, great, sandal, comfy, color   \n",
       "1       flop, cute, flip, wear, comfortable, pair, get, great, love, buy   \n",
       "2           great, wear, foot, black, color, fit, would, look, good, buy   \n",
       "3    look, love, fit, color, wear, great, comfortable, shirt, good, size   \n",
       "4    shoe, foot, wear, comfortable, size, get, strap, order, walk, would   \n",
       "\n",
       "                                                                                                                                                                                                      Text  \n",
       "0                                              [want, pair, seem, everyone, pair, love, fit, small, size, wear, make, foot, look, huge, seem, slip, foot, wish, could, wear, reputation, easy, fit, style]  \n",
       "1  [buy, look, store, line, retailer, find, cheap, buy, material, different, example, leather, new, model, use, synthetic, material, make, shoe, lot, cheap, course, believe, get, pay, shoe, go, get, ...  \n",
       "2  [order, black, white, sock, advertised, ratio, include, polyester, black, one, label, polyester, white, one, advertise, price, favorable, send, black, sock, feel, difference, polyester, make, woul...  \n",
       "3  [backpack, roomy, use, hold, case, zombie, apocalypse, emergency, supply, think, would, need, backpack, hold, everything, fit, bag, huge, main, zipper, compartment, several, small, one, compartmen...  \n",
       "4  [let, say, get, correct, size, bra, size, little, snug, torpedo, expect, chest, look, ice, cream, cone, stick, sure, playtex, think, go, find, gel, shoulder, pad, comfortable, scallop, edge, bra, ...  "
      ]
     },
     "execution_count": 98,
     "metadata": {},
     "output_type": "execute_result"
    }
   ],
   "source": [
    "# Group top 5 sentences under each topic\n",
    "sent_topics_sorteddf_mallet = pd.DataFrame()\n",
    "\n",
    "sent_topics_outdf_grpd = df_topic_sents_keywords.groupby('Dominant_Topic')\n",
    "\n",
    "for i, grp in sent_topics_outdf_grpd:\n",
    "    sent_topics_sorteddf_mallet = pd.concat([sent_topics_sorteddf_mallet, \n",
    "                                             grp.sort_values(['Perc_Contribution'], ascending=[0]).head(1)], \n",
    "                                            axis=0)\n",
    "\n",
    "# Reset Index    \n",
    "sent_topics_sorteddf_mallet.reset_index(drop=True, inplace=True)\n",
    "\n",
    "# Format\n",
    "sent_topics_sorteddf_mallet.columns = ['Topic_Num', \"Topic_Perc_Contrib\", \"Keywords\", \"Text\"]\n",
    "\n",
    "# Show\n",
    "sent_topics_sorteddf_mallet.head()"
   ]
  }
 ],
 "metadata": {
  "colab": {
   "collapsed_sections": [],
   "name": "Mining Online Reviews using Topic Modeling (LDA)",
   "provenance": [],
   "version": "0.3.2"
  },
  "kernelspec": {
   "display_name": "Python 3",
   "language": "python",
   "name": "python3"
  },
  "language_info": {
   "codemirror_mode": {
    "name": "ipython",
    "version": 3
   },
   "file_extension": ".py",
   "mimetype": "text/x-python",
   "name": "python",
   "nbconvert_exporter": "python",
   "pygments_lexer": "ipython3",
   "version": "3.7.0"
  }
 },
 "nbformat": 4,
 "nbformat_minor": 1
}
